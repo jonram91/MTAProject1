{
 "cells": [
  {
   "cell_type": "markdown",
   "metadata": {},
   "source": [
    "Beginning of our exploration of MTA data. "
   ]
  },
  {
   "cell_type": "code",
   "execution_count": 1,
   "metadata": {
    "collapsed": true
   },
   "outputs": [],
   "source": [
    "api_key = \"a57e16aadfd85e7b920ed17db1a0e751\""
   ]
  },
  {
   "cell_type": "markdown",
   "metadata": {},
   "source": [
    "### Import Statements"
   ]
  },
  {
   "cell_type": "code",
   "execution_count": 2,
   "metadata": {
    "collapsed": true
   },
   "outputs": [],
   "source": [
    "import pandas as pd\n",
    "import numpy as np\n",
    "\n",
    "import matplotlib.pyplot as plt\n",
    "%matplotlib inline\n",
    "\n",
    "import seaborn as sns\n",
    "\n",
    "import re"
   ]
  },
  {
   "cell_type": "markdown",
   "metadata": {},
   "source": [
    "Data import statements: uncomment when running this code locally. "
   ]
  },
  {
   "cell_type": "code",
   "execution_count": 3,
   "metadata": {
    "collapsed": true
   },
   "outputs": [],
   "source": [
    "# df_entrances = pd.read_csv(\"http://web.mta.info/developers/data/nyct/subway/StationEntrances.csv\")\n",
    "# df_j3 = pd.read_csv(\"http://web.mta.info/developers/data/nyct/turnstile/turnstile_170603.txt\")"
   ]
  },
  {
   "cell_type": "code",
   "execution_count": 4,
   "metadata": {
    "collapsed": true
   },
   "outputs": [],
   "source": [
    "#save locally\n",
    "# df_entrances.to_csv('entrances.csv')\n",
    "# df_j3.to_csv('turnstyle_jun_3.csv')"
   ]
  },
  {
   "cell_type": "code",
   "execution_count": 5,
   "metadata": {
    "collapsed": true
   },
   "outputs": [],
   "source": [
    "#import locally\n",
    "# de_entrances = pd.read_csv('entrances.csv')\n",
    "df_j3 = pd.read_csv('turnstyle_jun_3.csv')"
   ]
  },
  {
   "cell_type": "markdown",
   "metadata": {},
   "source": [
    "### Turnstyles Data"
   ]
  },
  {
   "cell_type": "markdown",
   "metadata": {},
   "source": [
    "Downloading the turnstyle data for June 3. Need a naming convention. df_j3 will henceforth be known as the turnstyle data for june 3. We can assume it is turnstyle data since there is nothing else that will be reported by week. "
   ]
  },
  {
   "cell_type": "code",
   "execution_count": 6,
   "metadata": {},
   "outputs": [
    {
     "data": {
      "text/html": [
       "<div>\n",
       "<style>\n",
       "    .dataframe thead tr:only-child th {\n",
       "        text-align: right;\n",
       "    }\n",
       "\n",
       "    .dataframe thead th {\n",
       "        text-align: left;\n",
       "    }\n",
       "\n",
       "    .dataframe tbody tr th {\n",
       "        vertical-align: top;\n",
       "    }\n",
       "</style>\n",
       "<table border=\"1\" class=\"dataframe\">\n",
       "  <thead>\n",
       "    <tr style=\"text-align: right;\">\n",
       "      <th></th>\n",
       "      <th>Unnamed: 0</th>\n",
       "      <th>C/A</th>\n",
       "      <th>UNIT</th>\n",
       "      <th>SCP</th>\n",
       "      <th>STATION</th>\n",
       "      <th>LINENAME</th>\n",
       "      <th>DIVISION</th>\n",
       "      <th>DATE</th>\n",
       "      <th>TIME</th>\n",
       "      <th>DESC</th>\n",
       "      <th>ENTRIES</th>\n",
       "      <th>EXITS</th>\n",
       "    </tr>\n",
       "  </thead>\n",
       "  <tbody>\n",
       "    <tr>\n",
       "      <th>43960</th>\n",
       "      <td>43960</td>\n",
       "      <td>N034</td>\n",
       "      <td>R334</td>\n",
       "      <td>01-00-01</td>\n",
       "      <td>CATHEDRAL PKWY</td>\n",
       "      <td>BC</td>\n",
       "      <td>IND</td>\n",
       "      <td>05/29/2017</td>\n",
       "      <td>05:00:00</td>\n",
       "      <td>REGULAR</td>\n",
       "      <td>3919869</td>\n",
       "      <td>1183448</td>\n",
       "    </tr>\n",
       "    <tr>\n",
       "      <th>32692</th>\n",
       "      <td>32692</td>\n",
       "      <td>H033</td>\n",
       "      <td>R313</td>\n",
       "      <td>00-00-01</td>\n",
       "      <td>BUSHWICK AV</td>\n",
       "      <td>L</td>\n",
       "      <td>BMT</td>\n",
       "      <td>05/30/2017</td>\n",
       "      <td>12:00:00</td>\n",
       "      <td>REGULAR</td>\n",
       "      <td>1260636</td>\n",
       "      <td>549232</td>\n",
       "    </tr>\n",
       "    <tr>\n",
       "      <th>125682</th>\n",
       "      <td>125682</td>\n",
       "      <td>R121</td>\n",
       "      <td>R290</td>\n",
       "      <td>01-03-00</td>\n",
       "      <td>HOUSTON ST</td>\n",
       "      <td>1</td>\n",
       "      <td>IRT</td>\n",
       "      <td>05/28/2017</td>\n",
       "      <td>01:00:00</td>\n",
       "      <td>REGULAR</td>\n",
       "      <td>1561945</td>\n",
       "      <td>84778</td>\n",
       "    </tr>\n",
       "  </tbody>\n",
       "</table>\n",
       "</div>"
      ],
      "text/plain": [
       "        Unnamed: 0   C/A  UNIT       SCP         STATION LINENAME DIVISION  \\\n",
       "43960        43960  N034  R334  01-00-01  CATHEDRAL PKWY       BC      IND   \n",
       "32692        32692  H033  R313  00-00-01     BUSHWICK AV        L      BMT   \n",
       "125682      125682  R121  R290  01-03-00      HOUSTON ST        1      IRT   \n",
       "\n",
       "              DATE      TIME     DESC  ENTRIES  \\\n",
       "43960   05/29/2017  05:00:00  REGULAR  3919869   \n",
       "32692   05/30/2017  12:00:00  REGULAR  1260636   \n",
       "125682  05/28/2017  01:00:00  REGULAR  1561945   \n",
       "\n",
       "        EXITS                                                                 \n",
       "43960                                             1183448                     \n",
       "32692                                              549232                     \n",
       "125682                                              84778                     "
      ]
     },
     "execution_count": 6,
     "metadata": {},
     "output_type": "execute_result"
    }
   ],
   "source": [
    "df_j3.sample(10)[:3]"
   ]
  },
  {
   "cell_type": "markdown",
   "metadata": {},
   "source": [
    "I am going to have to make these letters lowercase and remove any excess white space. "
   ]
  },
  {
   "cell_type": "code",
   "execution_count": 7,
   "metadata": {},
   "outputs": [
    {
     "name": "stdout",
     "output_type": "stream",
     "text": [
      "Index(['unnamed: 0', 'c/a', 'unit', 'scp', 'station', 'linename', 'division',\n",
      "       'date', 'time', 'desc', 'entries', 'exits'],\n",
      "      dtype='object')\n"
     ]
    }
   ],
   "source": [
    "df_j3.columns = df_j3.columns.str.strip().str.lower()\n",
    "print(df_j3.columns)"
   ]
  },
  {
   "cell_type": "code",
   "execution_count": 8,
   "metadata": {},
   "outputs": [
    {
     "data": {
      "text/plain": [
       "374"
      ]
     },
     "execution_count": 8,
     "metadata": {},
     "output_type": "execute_result"
    }
   ],
   "source": [
    "len(df_j3['station'].unique())"
   ]
  },
  {
   "cell_type": "code",
   "execution_count": 9,
   "metadata": {},
   "outputs": [
    {
     "data": {
      "text/html": [
       "<div>\n",
       "<style>\n",
       "    .dataframe thead tr:only-child th {\n",
       "        text-align: right;\n",
       "    }\n",
       "\n",
       "    .dataframe thead th {\n",
       "        text-align: left;\n",
       "    }\n",
       "\n",
       "    .dataframe tbody tr th {\n",
       "        vertical-align: top;\n",
       "    }\n",
       "</style>\n",
       "<table border=\"1\" class=\"dataframe\">\n",
       "  <thead>\n",
       "    <tr style=\"text-align: right;\">\n",
       "      <th></th>\n",
       "      <th>unnamed: 0</th>\n",
       "      <th>c/a</th>\n",
       "      <th>unit</th>\n",
       "      <th>scp</th>\n",
       "      <th>station</th>\n",
       "      <th>linename</th>\n",
       "      <th>division</th>\n",
       "      <th>date</th>\n",
       "      <th>time</th>\n",
       "      <th>desc</th>\n",
       "      <th>entries</th>\n",
       "      <th>exits</th>\n",
       "    </tr>\n",
       "  </thead>\n",
       "  <tbody>\n",
       "    <tr>\n",
       "      <th>0</th>\n",
       "      <td>0</td>\n",
       "      <td>A002</td>\n",
       "      <td>R051</td>\n",
       "      <td>02-00-00</td>\n",
       "      <td>59 ST</td>\n",
       "      <td>NQR456W</td>\n",
       "      <td>BMT</td>\n",
       "      <td>05/27/2017</td>\n",
       "      <td>00:00:00</td>\n",
       "      <td>REGULAR</td>\n",
       "      <td>6195217</td>\n",
       "      <td>2098317</td>\n",
       "    </tr>\n",
       "    <tr>\n",
       "      <th>1</th>\n",
       "      <td>1</td>\n",
       "      <td>A002</td>\n",
       "      <td>R051</td>\n",
       "      <td>02-00-00</td>\n",
       "      <td>59 ST</td>\n",
       "      <td>NQR456W</td>\n",
       "      <td>BMT</td>\n",
       "      <td>05/27/2017</td>\n",
       "      <td>04:00:00</td>\n",
       "      <td>REGULAR</td>\n",
       "      <td>6195240</td>\n",
       "      <td>2098318</td>\n",
       "    </tr>\n",
       "    <tr>\n",
       "      <th>2</th>\n",
       "      <td>2</td>\n",
       "      <td>A002</td>\n",
       "      <td>R051</td>\n",
       "      <td>02-00-00</td>\n",
       "      <td>59 ST</td>\n",
       "      <td>NQR456W</td>\n",
       "      <td>BMT</td>\n",
       "      <td>05/27/2017</td>\n",
       "      <td>08:00:00</td>\n",
       "      <td>REGULAR</td>\n",
       "      <td>6195256</td>\n",
       "      <td>2098347</td>\n",
       "    </tr>\n",
       "  </tbody>\n",
       "</table>\n",
       "</div>"
      ],
      "text/plain": [
       "   unnamed: 0   c/a  unit       scp station linename division        date  \\\n",
       "0           0  A002  R051  02-00-00   59 ST  NQR456W      BMT  05/27/2017   \n",
       "1           1  A002  R051  02-00-00   59 ST  NQR456W      BMT  05/27/2017   \n",
       "2           2  A002  R051  02-00-00   59 ST  NQR456W      BMT  05/27/2017   \n",
       "\n",
       "       time     desc  entries    exits  \n",
       "0  00:00:00  REGULAR  6195217  2098317  \n",
       "1  04:00:00  REGULAR  6195240  2098318  \n",
       "2  08:00:00  REGULAR  6195256  2098347  "
      ]
     },
     "execution_count": 9,
     "metadata": {},
     "output_type": "execute_result"
    }
   ],
   "source": [
    "test = df_j3\n",
    "test.head(3)"
   ]
  },
  {
   "cell_type": "markdown",
   "metadata": {},
   "source": [
    "This section is an attempt to get subtotals for the individual sensors, c/a (though I have later found out that these are not the individual devices. We are going through the data set and taking the starting and ending observations for each sensor (c/a) and saving it as a variable. "
   ]
  },
  {
   "cell_type": "code",
   "execution_count": 10,
   "metadata": {
    "collapsed": true
   },
   "outputs": [],
   "source": [
    "s = abs(test.sort_values(by=['station','linename','scp','date'])['entries'].diff())"
   ]
  },
  {
   "cell_type": "code",
   "execution_count": 11,
   "metadata": {},
   "outputs": [
    {
     "data": {
      "text/plain": [
       "0.0    31408\n",
       "1.0     3360\n",
       "2.0     2399\n",
       "3.0     2021\n",
       "4.0     1864\n",
       "Name: entries, dtype: int64"
      ]
     },
     "execution_count": 11,
     "metadata": {},
     "output_type": "execute_result"
    }
   ],
   "source": [
    "s.value_counts().head()"
   ]
  },
  {
   "cell_type": "code",
   "execution_count": 12,
   "metadata": {},
   "outputs": [
    {
     "data": {
      "text/plain": [
       "58405566.46180423"
      ]
     },
     "execution_count": 12,
     "metadata": {},
     "output_type": "execute_result"
    }
   ],
   "source": [
    "s.std()"
   ]
  },
  {
   "cell_type": "markdown",
   "metadata": {},
   "source": [
    "Ok, I am going to test different grouping and sorting techniques, put each one in a data set, and do some descripitive statistics on the resultling 'hourly' variable. The default for pandas sort is False."
   ]
  },
  {
   "cell_type": "code",
   "execution_count": 13,
   "metadata": {
    "collapsed": true
   },
   "outputs": [],
   "source": [
    "#sort\n",
    "test_sorted = s\n",
    "test_sorted['hourly'] = abs(test.sort_values(by=['station','linename','scp','date','time'])['entries'].diff())"
   ]
  },
  {
   "cell_type": "code",
   "execution_count": 14,
   "metadata": {},
   "outputs": [
    {
     "name": "stdout",
     "output_type": "stream",
     "text": [
      "195959\n",
      "195958\n"
     ]
    }
   ],
   "source": [
    "print(len(test_sorted))\n",
    "print(len(test))"
   ]
  },
  {
   "cell_type": "code",
   "execution_count": 15,
   "metadata": {
    "collapsed": true
   },
   "outputs": [],
   "source": [
    "std_3 = test_sorted['hourly'].std()"
   ]
  },
  {
   "cell_type": "code",
   "execution_count": 16,
   "metadata": {},
   "outputs": [
    {
     "name": "stdout",
     "output_type": "stream",
     "text": [
      "112116234.28921494\n"
     ]
    }
   ],
   "source": [
    "print(std_3)"
   ]
  },
  {
   "cell_type": "code",
   "execution_count": 17,
   "metadata": {
    "collapsed": true
   },
   "outputs": [],
   "source": [
    "#create a new df in which we create the test id\n",
    "test_id = test"
   ]
  },
  {
   "cell_type": "code",
   "execution_count": 18,
   "metadata": {
    "collapsed": true
   },
   "outputs": [],
   "source": [
    "test_id['id'] = test_id['station'] + test_id['linename'] + test_id['scp']"
   ]
  },
  {
   "cell_type": "code",
   "execution_count": 19,
   "metadata": {
    "collapsed": true
   },
   "outputs": [],
   "source": [
    "test_id['hourly'] = abs(test_id.sort_values(by=['id','date','time'])['entries'].diff())"
   ]
  },
  {
   "cell_type": "code",
   "execution_count": 20,
   "metadata": {
    "collapsed": true
   },
   "outputs": [],
   "source": [
    "std_4 = test_id['hourly'].std()"
   ]
  },
  {
   "cell_type": "code",
   "execution_count": 21,
   "metadata": {},
   "outputs": [
    {
     "data": {
      "text/plain": [
       "1.0004703115265954"
      ]
     },
     "execution_count": 21,
     "metadata": {},
     "output_type": "execute_result"
    }
   ],
   "source": [
    "std_4/std_3"
   ]
  },
  {
   "cell_type": "code",
   "execution_count": 22,
   "metadata": {},
   "outputs": [
    {
     "data": {
      "text/plain": [
       "<matplotlib.axes._subplots.AxesSubplot at 0x110d2ba20>"
      ]
     },
     "execution_count": 22,
     "metadata": {},
     "output_type": "execute_result"
    },
    {
     "data": {
      "image/png": "[encoded data removed]",
      "text/plain": [
       "<matplotlib.figure.Figure at 0x113e7f780>"
      ]
     },
     "metadata": {},
     "output_type": "display_data"
    }
   ],
   "source": [
    "test_id['hourly'].hist()\n",
    "test_id['hourly'].plot(kind='kde')"
   ]
  },
  {
   "cell_type": "markdown",
   "metadata": {},
   "source": [
    "I am going to try to loop through the unique ids we made and calculate the differences within those id groups. "
   ]
  },
  {
   "cell_type": "code",
   "execution_count": 23,
   "metadata": {},
   "outputs": [
    {
     "data": {
      "text/plain": [
       "4571"
      ]
     },
     "execution_count": 23,
     "metadata": {},
     "output_type": "execute_result"
    }
   ],
   "source": [
    "len(test_id['id'].unique())"
   ]
  },
  {
   "cell_type": "code",
   "execution_count": 24,
   "metadata": {
    "collapsed": true
   },
   "outputs": [],
   "source": [
    "# for i in test_id['id']:\n",
    "#     print(i)"
   ]
  },
  {
   "cell_type": "code",
   "execution_count": 25,
   "metadata": {},
   "outputs": [
    {
     "data": {
      "text/html": [
       "<div>\n",
       "<style>\n",
       "    .dataframe thead tr:only-child th {\n",
       "        text-align: right;\n",
       "    }\n",
       "\n",
       "    .dataframe thead th {\n",
       "        text-align: left;\n",
       "    }\n",
       "\n",
       "    .dataframe tbody tr th {\n",
       "        vertical-align: top;\n",
       "    }\n",
       "</style>\n",
       "<table border=\"1\" class=\"dataframe\">\n",
       "  <thead>\n",
       "    <tr style=\"text-align: right;\">\n",
       "      <th></th>\n",
       "      <th>unnamed: 0</th>\n",
       "      <th>c/a</th>\n",
       "      <th>unit</th>\n",
       "      <th>scp</th>\n",
       "      <th>station</th>\n",
       "      <th>linename</th>\n",
       "      <th>division</th>\n",
       "      <th>date</th>\n",
       "      <th>time</th>\n",
       "      <th>desc</th>\n",
       "      <th>entries</th>\n",
       "      <th>exits</th>\n",
       "      <th>id</th>\n",
       "      <th>hourly</th>\n",
       "    </tr>\n",
       "  </thead>\n",
       "  <tbody>\n",
       "    <tr>\n",
       "      <th>0</th>\n",
       "      <td>0</td>\n",
       "      <td>A002</td>\n",
       "      <td>R051</td>\n",
       "      <td>02-00-00</td>\n",
       "      <td>59 ST</td>\n",
       "      <td>NQR456W</td>\n",
       "      <td>BMT</td>\n",
       "      <td>05/27/2017</td>\n",
       "      <td>00:00:00</td>\n",
       "      <td>REGULAR</td>\n",
       "      <td>6195217</td>\n",
       "      <td>2098317</td>\n",
       "      <td>59 STNQR456W02-00-00</td>\n",
       "      <td>5992912.0</td>\n",
       "    </tr>\n",
       "    <tr>\n",
       "      <th>1</th>\n",
       "      <td>1</td>\n",
       "      <td>A002</td>\n",
       "      <td>R051</td>\n",
       "      <td>02-00-00</td>\n",
       "      <td>59 ST</td>\n",
       "      <td>NQR456W</td>\n",
       "      <td>BMT</td>\n",
       "      <td>05/27/2017</td>\n",
       "      <td>04:00:00</td>\n",
       "      <td>REGULAR</td>\n",
       "      <td>6195240</td>\n",
       "      <td>2098318</td>\n",
       "      <td>59 STNQR456W02-00-00</td>\n",
       "      <td>23.0</td>\n",
       "    </tr>\n",
       "    <tr>\n",
       "      <th>2</th>\n",
       "      <td>2</td>\n",
       "      <td>A002</td>\n",
       "      <td>R051</td>\n",
       "      <td>02-00-00</td>\n",
       "      <td>59 ST</td>\n",
       "      <td>NQR456W</td>\n",
       "      <td>BMT</td>\n",
       "      <td>05/27/2017</td>\n",
       "      <td>08:00:00</td>\n",
       "      <td>REGULAR</td>\n",
       "      <td>6195256</td>\n",
       "      <td>2098347</td>\n",
       "      <td>59 STNQR456W02-00-00</td>\n",
       "      <td>16.0</td>\n",
       "    </tr>\n",
       "    <tr>\n",
       "      <th>3</th>\n",
       "      <td>3</td>\n",
       "      <td>A002</td>\n",
       "      <td>R051</td>\n",
       "      <td>02-00-00</td>\n",
       "      <td>59 ST</td>\n",
       "      <td>NQR456W</td>\n",
       "      <td>BMT</td>\n",
       "      <td>05/27/2017</td>\n",
       "      <td>12:00:00</td>\n",
       "      <td>REGULAR</td>\n",
       "      <td>6195346</td>\n",
       "      <td>2098432</td>\n",
       "      <td>59 STNQR456W02-00-00</td>\n",
       "      <td>90.0</td>\n",
       "    </tr>\n",
       "    <tr>\n",
       "      <th>4</th>\n",
       "      <td>4</td>\n",
       "      <td>A002</td>\n",
       "      <td>R051</td>\n",
       "      <td>02-00-00</td>\n",
       "      <td>59 ST</td>\n",
       "      <td>NQR456W</td>\n",
       "      <td>BMT</td>\n",
       "      <td>05/27/2017</td>\n",
       "      <td>16:00:00</td>\n",
       "      <td>REGULAR</td>\n",
       "      <td>6195518</td>\n",
       "      <td>2098491</td>\n",
       "      <td>59 STNQR456W02-00-00</td>\n",
       "      <td>172.0</td>\n",
       "    </tr>\n",
       "  </tbody>\n",
       "</table>\n",
       "</div>"
      ],
      "text/plain": [
       "   unnamed: 0   c/a  unit       scp station linename division        date  \\\n",
       "0           0  A002  R051  02-00-00   59 ST  NQR456W      BMT  05/27/2017   \n",
       "1           1  A002  R051  02-00-00   59 ST  NQR456W      BMT  05/27/2017   \n",
       "2           2  A002  R051  02-00-00   59 ST  NQR456W      BMT  05/27/2017   \n",
       "3           3  A002  R051  02-00-00   59 ST  NQR456W      BMT  05/27/2017   \n",
       "4           4  A002  R051  02-00-00   59 ST  NQR456W      BMT  05/27/2017   \n",
       "\n",
       "       time     desc  entries    exits                    id     hourly  \n",
       "0  00:00:00  REGULAR  6195217  2098317  59 STNQR456W02-00-00  5992912.0  \n",
       "1  04:00:00  REGULAR  6195240  2098318  59 STNQR456W02-00-00       23.0  \n",
       "2  08:00:00  REGULAR  6195256  2098347  59 STNQR456W02-00-00       16.0  \n",
       "3  12:00:00  REGULAR  6195346  2098432  59 STNQR456W02-00-00       90.0  \n",
       "4  16:00:00  REGULAR  6195518  2098491  59 STNQR456W02-00-00      172.0  "
      ]
     },
     "execution_count": 25,
     "metadata": {},
     "output_type": "execute_result"
    }
   ],
   "source": [
    "test_id.head()"
   ]
  },
  {
   "cell_type": "markdown",
   "metadata": {
    "collapsed": true
   },
   "source": [
    "### Older Plan"
   ]
  },
  {
   "cell_type": "markdown",
   "metadata": {},
   "source": [
    "std_1 is the standard deviation from sorting by ['station','scp','date','time'] and taking the difference between entries. Nine digit standard deviations indicate a bad number. When we add 'linename' to the sorting terms we get a reduction in the standard deviation of about 81 million, so that is something.   \n",
    "\n",
    "Next I take the absolute value of the difference to try to cancel out the noise of the units that count backwards. That doesn't really make much difference. But now we can look at dividing the standard deviations and seeing what that does and we see that the standard deviations improve by about half when we bring the 'linename' into the sort.  \n",
    "\n",
    "Now I am going to try Jonathan's idea of creating a unique id by adding togehter the variables we think are important. Now the interesting thing is that the performance of the model seems to have actually gotten worse. The standard deviation of the model when we take the data sorted by the new id and then sorted by time is just a little over half the size of the original standard deviation. This is after taking the absolute value of the differences. So this is really terrible. The hourly entries are still coming out measured on a scale that reaches into the billions. This data is close to totally useless.  \n",
    "\n",
    "There are going to be two sources of rediculous values, resets and different machines. To get any kind of reasonable estimates we have to get rid of the differences caused by different machines. We should make a list of the unique ids, loop through that list running diff on all the members in that list to populate 'hourly', and then go on to the next id in the list. Resets that happen within that group will still be a problem but those we might be able to deal with as missing data and just get rid of them. \n",
    "\n",
    "Joe says they just chose 20k as a cut-off and went from there. They found a kde plot that gave them a sort of reasonable argument for choosing that level as a cutoff. I am tempted to go with that.  \n",
    "\n",
    "Now I need to review the commands for getting rid of data. I have to just throw out some data so that we can move on to other parts of the analysis. Once we get a reasonable analysis we can get a minimal acceptable product up and go back and make refinements if we like.  \n",
    "\n",
    "So, the first thing is to go through the data set and have a criteria for making out things as NaN. A bit of an internet search is necessary.  \n",
    "\n"
   ]
  },
  {
   "cell_type": "markdown",
   "metadata": {
    "collapsed": true
   },
   "source": [
    "### New Plan\n",
    "Talked to David and he expressed confidence that the whole problem could be handled by groupby. In particular, he said that all the trouble we went through with ids could be handled by `.groupby()` and `.diff()`.  \n",
    "\n",
    "This is his **claim**: the diff funciton called on a group will return the values for the differences in the rows that are in that group, not the differences between the groups. I find this hard to believe, but he is the expert and I have to give it a try. \n",
    "\n",
    "The test data set still has the hourly and id variables attached but I don't see any need to get rid of them. I can keep them and create the new versions of hourly to compare, even.  "
   ]
  },
  {
   "cell_type": "code",
   "execution_count": 26,
   "metadata": {
    "collapsed": true
   },
   "outputs": [],
   "source": [
    "test_diff = test.groupby(['station','linename','scp'])['entries'].diff()"
   ]
  },
  {
   "cell_type": "code",
   "execution_count": 27,
   "metadata": {},
   "outputs": [
    {
     "name": "stdout",
     "output_type": "stream",
     "text": [
      "195958\n",
      "195958\n"
     ]
    }
   ],
   "source": [
    "print(len(test_diff))\n",
    "print(len(test))"
   ]
  },
  {
   "cell_type": "markdown",
   "metadata": {
    "collapsed": true
   },
   "source": [
    "My God! I didn't believe him, but he is right. So now we have a diff for each of the entries of hourly and it seems like we should be able to just tack it back on the data set. I have to get the thing working now.  \n",
    "\n",
    "First I will get the standard deviation and compare it to standard deviation 3, which was the best I had done so far. "
   ]
  },
  {
   "cell_type": "code",
   "execution_count": 28,
   "metadata": {},
   "outputs": [
    {
     "name": "stdout",
     "output_type": "stream",
     "text": [
      "11796568.896921124\n",
      "0.10521731283348945\n"
     ]
    }
   ],
   "source": [
    "std_diff = test_diff.std()\n",
    "print(std_diff)\n",
    "print(std_diff/std_3)"
   ]
  },
  {
   "cell_type": "markdown",
   "metadata": {
    "collapsed": true
   },
   "source": [
    "Ok, so this is a huget improvement, though you wouldn't know it from the absolute value of the standard deviation. That is about 1/20 the first standard deviation I had obtained.  \n",
    "\n",
    "Lets look at a histogram. "
   ]
  },
  {
   "cell_type": "code",
   "execution_count": 29,
   "metadata": {},
   "outputs": [
    {
     "data": {
      "text/plain": [
       "count    1.913870e+05\n",
       "mean     6.163596e+04\n",
       "std      1.179657e+07\n",
       "min     -1.821377e+09\n",
       "25%      8.000000e+00\n",
       "50%      6.700000e+01\n",
       "75%      2.230000e+02\n",
       "max      1.948041e+09\n",
       "Name: entries, dtype: float64"
      ]
     },
     "execution_count": 29,
     "metadata": {},
     "output_type": "execute_result"
    }
   ],
   "source": [
    "test_diff.describe()"
   ]
  },
  {
   "cell_type": "code",
   "execution_count": 30,
   "metadata": {},
   "outputs": [
    {
     "data": {
      "text/plain": [
       "61635.96"
      ]
     },
     "execution_count": 30,
     "metadata": {},
     "output_type": "execute_result"
    }
   ],
   "source": [
    "6.163596e+04"
   ]
  },
  {
   "cell_type": "markdown",
   "metadata": {
    "collapsed": true
   },
   "source": [
    "An average value of 61,000 is still insane but at least in the realm of human experience. "
   ]
  },
  {
   "cell_type": "code",
   "execution_count": 31,
   "metadata": {},
   "outputs": [
    {
     "data": {
      "image/png": "[encoded data removed]",
      "text/plain": [
       "<matplotlib.figure.Figure at 0x113e7f9e8>"
      ]
     },
     "metadata": {},
     "output_type": "display_data"
    }
   ],
   "source": [
    "plt.hist(test_diff.dropna());"
   ]
  },
  {
   "cell_type": "markdown",
   "metadata": {},
   "source": [
    "But the histogram is still on a scale of billions. That is rediculous. What can we do? What about sorting by date and time? What that done? The date time sort would have to be done after the groupby operation for it to have effect, no? "
   ]
  },
  {
   "cell_type": "code",
   "execution_count": 32,
   "metadata": {
    "collapsed": true
   },
   "outputs": [],
   "source": [
    "test_diff_sorted = test.sort_values(['date','time'], ascending=True).groupby(['station','linename','scp'])['entries'].diff()"
   ]
  },
  {
   "cell_type": "code",
   "execution_count": 33,
   "metadata": {},
   "outputs": [
    {
     "data": {
      "text/plain": [
       "195958"
      ]
     },
     "execution_count": 33,
     "metadata": {},
     "output_type": "execute_result"
    }
   ],
   "source": [
    "len(test_diff_sorted)"
   ]
  },
  {
   "cell_type": "code",
   "execution_count": 34,
   "metadata": {},
   "outputs": [
    {
     "data": {
      "text/plain": [
       "count    1.913870e+05\n",
       "mean     9.999670e+03\n",
       "std      1.058642e+08\n",
       "min     -1.948056e+09\n",
       "25%      6.000000e+00\n",
       "50%      6.600000e+01\n",
       "75%      2.330000e+02\n",
       "max      1.948057e+09\n",
       "Name: entries, dtype: float64"
      ]
     },
     "execution_count": 34,
     "metadata": {},
     "output_type": "execute_result"
    }
   ],
   "source": [
    "test_diff_sorted.describe()"
   ]
  },
  {
   "cell_type": "code",
   "execution_count": 35,
   "metadata": {},
   "outputs": [
    {
     "data": {
      "text/plain": [
       "9999.67"
      ]
     },
     "execution_count": 35,
     "metadata": {},
     "output_type": "execute_result"
    }
   ],
   "source": [
    "9.999670e+03"
   ]
  },
  {
   "cell_type": "code",
   "execution_count": 36,
   "metadata": {},
   "outputs": [
    {
     "data": {
      "text/html": [
       "<div>\n",
       "<style>\n",
       "    .dataframe thead tr:only-child th {\n",
       "        text-align: right;\n",
       "    }\n",
       "\n",
       "    .dataframe thead th {\n",
       "        text-align: left;\n",
       "    }\n",
       "\n",
       "    .dataframe tbody tr th {\n",
       "        vertical-align: top;\n",
       "    }\n",
       "</style>\n",
       "<table border=\"1\" class=\"dataframe\">\n",
       "  <thead>\n",
       "    <tr style=\"text-align: right;\">\n",
       "      <th></th>\n",
       "      <th>unnamed: 0</th>\n",
       "      <th>c/a</th>\n",
       "      <th>unit</th>\n",
       "      <th>scp</th>\n",
       "      <th>station</th>\n",
       "      <th>linename</th>\n",
       "      <th>division</th>\n",
       "      <th>date</th>\n",
       "      <th>time</th>\n",
       "      <th>desc</th>\n",
       "      <th>entries</th>\n",
       "      <th>exits</th>\n",
       "      <th>id</th>\n",
       "      <th>hourly</th>\n",
       "    </tr>\n",
       "  </thead>\n",
       "  <tbody>\n",
       "    <tr>\n",
       "      <th>0</th>\n",
       "      <td>0</td>\n",
       "      <td>A002</td>\n",
       "      <td>R051</td>\n",
       "      <td>02-00-00</td>\n",
       "      <td>59 ST</td>\n",
       "      <td>NQR456W</td>\n",
       "      <td>BMT</td>\n",
       "      <td>05/27/2017</td>\n",
       "      <td>00:00:00</td>\n",
       "      <td>REGULAR</td>\n",
       "      <td>6195217</td>\n",
       "      <td>2098317</td>\n",
       "      <td>59 STNQR456W02-00-00</td>\n",
       "      <td>5992912.0</td>\n",
       "    </tr>\n",
       "    <tr>\n",
       "      <th>1</th>\n",
       "      <td>1</td>\n",
       "      <td>A002</td>\n",
       "      <td>R051</td>\n",
       "      <td>02-00-00</td>\n",
       "      <td>59 ST</td>\n",
       "      <td>NQR456W</td>\n",
       "      <td>BMT</td>\n",
       "      <td>05/27/2017</td>\n",
       "      <td>04:00:00</td>\n",
       "      <td>REGULAR</td>\n",
       "      <td>6195240</td>\n",
       "      <td>2098318</td>\n",
       "      <td>59 STNQR456W02-00-00</td>\n",
       "      <td>23.0</td>\n",
       "    </tr>\n",
       "    <tr>\n",
       "      <th>2</th>\n",
       "      <td>2</td>\n",
       "      <td>A002</td>\n",
       "      <td>R051</td>\n",
       "      <td>02-00-00</td>\n",
       "      <td>59 ST</td>\n",
       "      <td>NQR456W</td>\n",
       "      <td>BMT</td>\n",
       "      <td>05/27/2017</td>\n",
       "      <td>08:00:00</td>\n",
       "      <td>REGULAR</td>\n",
       "      <td>6195256</td>\n",
       "      <td>2098347</td>\n",
       "      <td>59 STNQR456W02-00-00</td>\n",
       "      <td>16.0</td>\n",
       "    </tr>\n",
       "    <tr>\n",
       "      <th>3</th>\n",
       "      <td>3</td>\n",
       "      <td>A002</td>\n",
       "      <td>R051</td>\n",
       "      <td>02-00-00</td>\n",
       "      <td>59 ST</td>\n",
       "      <td>NQR456W</td>\n",
       "      <td>BMT</td>\n",
       "      <td>05/27/2017</td>\n",
       "      <td>12:00:00</td>\n",
       "      <td>REGULAR</td>\n",
       "      <td>6195346</td>\n",
       "      <td>2098432</td>\n",
       "      <td>59 STNQR456W02-00-00</td>\n",
       "      <td>90.0</td>\n",
       "    </tr>\n",
       "    <tr>\n",
       "      <th>4</th>\n",
       "      <td>4</td>\n",
       "      <td>A002</td>\n",
       "      <td>R051</td>\n",
       "      <td>02-00-00</td>\n",
       "      <td>59 ST</td>\n",
       "      <td>NQR456W</td>\n",
       "      <td>BMT</td>\n",
       "      <td>05/27/2017</td>\n",
       "      <td>16:00:00</td>\n",
       "      <td>REGULAR</td>\n",
       "      <td>6195518</td>\n",
       "      <td>2098491</td>\n",
       "      <td>59 STNQR456W02-00-00</td>\n",
       "      <td>172.0</td>\n",
       "    </tr>\n",
       "  </tbody>\n",
       "</table>\n",
       "</div>"
      ],
      "text/plain": [
       "   unnamed: 0   c/a  unit       scp station linename division        date  \\\n",
       "0           0  A002  R051  02-00-00   59 ST  NQR456W      BMT  05/27/2017   \n",
       "1           1  A002  R051  02-00-00   59 ST  NQR456W      BMT  05/27/2017   \n",
       "2           2  A002  R051  02-00-00   59 ST  NQR456W      BMT  05/27/2017   \n",
       "3           3  A002  R051  02-00-00   59 ST  NQR456W      BMT  05/27/2017   \n",
       "4           4  A002  R051  02-00-00   59 ST  NQR456W      BMT  05/27/2017   \n",
       "\n",
       "       time     desc  entries    exits                    id     hourly  \n",
       "0  00:00:00  REGULAR  6195217  2098317  59 STNQR456W02-00-00  5992912.0  \n",
       "1  04:00:00  REGULAR  6195240  2098318  59 STNQR456W02-00-00       23.0  \n",
       "2  08:00:00  REGULAR  6195256  2098347  59 STNQR456W02-00-00       16.0  \n",
       "3  12:00:00  REGULAR  6195346  2098432  59 STNQR456W02-00-00       90.0  \n",
       "4  16:00:00  REGULAR  6195518  2098491  59 STNQR456W02-00-00      172.0  "
      ]
     },
     "execution_count": 36,
     "metadata": {},
     "output_type": "execute_result"
    }
   ],
   "source": [
    "test.head()"
   ]
  },
  {
   "cell_type": "code",
   "execution_count": 37,
   "metadata": {},
   "outputs": [
    {
     "data": {
      "text/plain": [
       "(array([  1.23000000e+02,   4.10000000e+01,   4.20000000e+01,\n",
       "          4.20000000e+01,   4.10000000e+01,   4.20000000e+01,\n",
       "          0.00000000e+00,   4.10000000e+01,   4.10000000e+01,\n",
       "          8.30000000e+01,   0.00000000e+00,   4.20000000e+01,\n",
       "          1.67000000e+02,   8.40000000e+01,   1.65498000e+05,\n",
       "          2.43510000e+04,   8.40000000e+01,   1.24000000e+02,\n",
       "          4.30000000e+01,   0.00000000e+00,   8.30000000e+01,\n",
       "          4.20000000e+01,   4.20000000e+01,   0.00000000e+00,\n",
       "          4.10000000e+01,   0.00000000e+00,   4.10000000e+01,\n",
       "          4.30000000e+01,   8.40000000e+01,   1.22000000e+02]),\n",
       " array([ -1.94805603e+09,  -1.81818560e+09,  -1.68831517e+09,\n",
       "         -1.55844474e+09,  -1.42857431e+09,  -1.29870388e+09,\n",
       "         -1.16883345e+09,  -1.03896302e+09,  -9.09092587e+08,\n",
       "         -7.79222157e+08,  -6.49351727e+08,  -5.19481297e+08,\n",
       "         -3.89610867e+08,  -2.59740437e+08,  -1.29870007e+08,\n",
       "          4.23000000e+02,   1.29870853e+08,   2.59741283e+08,\n",
       "          3.89611713e+08,   5.19482143e+08,   6.49352573e+08,\n",
       "          7.79223003e+08,   9.09093433e+08,   1.03896386e+09,\n",
       "          1.16883429e+09,   1.29870472e+09,   1.42857515e+09,\n",
       "          1.55844558e+09,   1.68831601e+09,   1.81818644e+09,\n",
       "          1.94805687e+09]),\n",
       " <a list of 30 Patch objects>)"
      ]
     },
     "execution_count": 37,
     "metadata": {},
     "output_type": "execute_result"
    },
    {
     "data": {
      "image/png": "[encoded data removed]",
      "text/plain": [
       "<matplotlib.figure.Figure at 0x11541da90>"
      ]
     },
     "metadata": {},
     "output_type": "display_data"
    }
   ],
   "source": [
    "plt.hist(test_diff_sorted.dropna(), bins=30)"
   ]
  },
  {
   "cell_type": "code",
   "execution_count": 38,
   "metadata": {},
   "outputs": [
    {
     "data": {
      "text/plain": [
       "230"
      ]
     },
     "execution_count": 38,
     "metadata": {},
     "output_type": "execute_result"
    }
   ],
   "source": [
    "len(test.scp.unique())"
   ]
  },
  {
   "cell_type": "markdown",
   "metadata": {},
   "source": [
    "Since there are more units than there are scps maybe we should throw them into the grouping mix, too. "
   ]
  },
  {
   "cell_type": "code",
   "execution_count": 39,
   "metadata": {
    "collapsed": true
   },
   "outputs": [],
   "source": [
    "test_diff_sorted_units = test.sort_values(['date','time'], ascending=True).groupby(['station','linename','unit','scp'])['entries'].diff()"
   ]
  },
  {
   "cell_type": "code",
   "execution_count": 40,
   "metadata": {},
   "outputs": [
    {
     "data": {
      "text/plain": [
       "count    1.912700e+05\n",
       "mean     2.150756e+03\n",
       "std      5.708554e+05\n",
       "min     -4.470296e+06\n",
       "25%      8.000000e+00\n",
       "50%      6.700000e+01\n",
       "75%      2.230000e+02\n",
       "max      1.979471e+08\n",
       "Name: entries, dtype: float64"
      ]
     },
     "execution_count": 40,
     "metadata": {},
     "output_type": "execute_result"
    }
   ],
   "source": [
    "len(test_diff_sorted_units)\n",
    "test_diff_sorted_units.describe()"
   ]
  },
  {
   "cell_type": "code",
   "execution_count": 41,
   "metadata": {},
   "outputs": [
    {
     "data": {
      "text/plain": [
       "2150.756"
      ]
     },
     "execution_count": 41,
     "metadata": {},
     "output_type": "execute_result"
    }
   ],
   "source": [
    "2.150756e+03"
   ]
  },
  {
   "cell_type": "code",
   "execution_count": 42,
   "metadata": {},
   "outputs": [
    {
     "data": {
      "text/plain": [
       "False    191270\n",
       "True       4688\n",
       "Name: entries, dtype: int64"
      ]
     },
     "execution_count": 42,
     "metadata": {},
     "output_type": "execute_result"
    }
   ],
   "source": [
    "test_diff_sorted_units.isnull().value_counts()"
   ]
  },
  {
   "cell_type": "markdown",
   "metadata": {},
   "source": [
    "So this is the best the data set has ever been but I am still not sure that it is meaningful. What is this thing doing? "
   ]
  },
  {
   "cell_type": "code",
   "execution_count": 43,
   "metadata": {},
   "outputs": [
    {
     "data": {
      "image/png": "[encoded data removed]",
      "text/plain": [
       "<matplotlib.figure.Figure at 0x1153bfe48>"
      ]
     },
     "metadata": {},
     "output_type": "display_data"
    }
   ],
   "source": [
    "plt.hist(test_diff_sorted_units.dropna());"
   ]
  },
  {
   "cell_type": "markdown",
   "metadata": {},
   "source": [
    "I have to find a way to get rid of the reset caused problems. I want to go through and assign the value of missing (nan) to any data point where the value is zero and the value preceeding it is greater than 10,000.  \n",
    "\n",
    "Also, I want to compare the effects of sorting with units before scps or scps before units or leaving one or the other out.  \n",
    "\n",
    "Finally, I want to think about my assumption that large values or large standard deviations are an infallible indicator of bad data.  "
   ]
  },
  {
   "cell_type": "code",
   "execution_count": 44,
   "metadata": {},
   "outputs": [],
   "source": [
    "# testing = test.groupby(['station','linename','scp','unit'])apply(lambda x: \\\n",
    "#                                                              x.sort_values(['date','time'])).diff()"
   ]
  },
  {
   "cell_type": "code",
   "execution_count": 170,
   "metadata": {
    "collapsed": true
   },
   "outputs": [],
   "source": [
    "testing = test.groupby(['station','linename','scp','unit'])['entries'].diff()"
   ]
  },
  {
   "cell_type": "code",
   "execution_count": 171,
   "metadata": {},
   "outputs": [
    {
     "data": {
      "text/plain": [
       "0           NaN\n",
       "1          23.0\n",
       "2          16.0\n",
       "3          90.0\n",
       "4         172.0\n",
       "5         247.0\n",
       "6         133.0\n",
       "7          16.0\n",
       "8          16.0\n",
       "9          94.0\n",
       "10        162.0\n",
       "11        260.0\n",
       "12        123.0\n",
       "13         18.0\n",
       "14         10.0\n",
       "15         69.0\n",
       "16        187.0\n",
       "17        254.0\n",
       "18        123.0\n",
       "19          8.0\n",
       "20         50.0\n",
       "21        182.0\n",
       "22        320.0\n",
       "23        834.0\n",
       "24        195.0\n",
       "25         15.0\n",
       "26         46.0\n",
       "27        173.0\n",
       "28        326.0\n",
       "29        821.0\n",
       "          ...  \n",
       "195928      0.0\n",
       "195929      0.0\n",
       "195930      0.0\n",
       "195931      0.0\n",
       "195932      0.0\n",
       "195933      0.0\n",
       "195934      0.0\n",
       "195935      0.0\n",
       "195936      0.0\n",
       "195937      0.0\n",
       "195938      0.0\n",
       "195939      0.0\n",
       "195940      0.0\n",
       "195941      0.0\n",
       "195942      0.0\n",
       "195943      0.0\n",
       "195944      0.0\n",
       "195945      0.0\n",
       "195946      0.0\n",
       "195947      0.0\n",
       "195948      0.0\n",
       "195949      0.0\n",
       "195950      0.0\n",
       "195951      0.0\n",
       "195952      0.0\n",
       "195953      0.0\n",
       "195954      0.0\n",
       "195955      0.0\n",
       "195956      0.0\n",
       "195957      0.0\n",
       "Name: entries, Length: 195958, dtype: float64"
      ]
     },
     "execution_count": 171,
     "metadata": {},
     "output_type": "execute_result"
    }
   ],
   "source": [
    "testing"
   ]
  },
  {
   "cell_type": "code",
   "execution_count": 167,
   "metadata": {
    "collapsed": true
   },
   "outputs": [],
   "source": [
    "testing2 = abs(testing)"
   ]
  },
  {
   "cell_type": "code",
   "execution_count": 172,
   "metadata": {},
   "outputs": [],
   "source": [
    "testing2[testing2>3000] = np.nan"
   ]
  },
  {
   "cell_type": "code",
   "execution_count": 173,
   "metadata": {},
   "outputs": [
    {
     "data": {
      "image/png": "[encoded data removed]",
      "text/plain": [
       "<matplotlib.figure.Figure at 0x113e89860>"
      ]
     },
     "metadata": {},
     "output_type": "display_data"
    }
   ],
   "source": [
    "plt.xscale('log')\n",
    "plt.hist(testing2.dropna(), bins=40)\n",
    "plt.title(\"Entries per Four Hour Period\")\n",
    "plt.xlabel(\"people per hour\")\n",
    "plt.ylabel(\"counts\")\n",
    "plt.savefig(\"histogram\");"
   ]
  },
  {
   "cell_type": "code",
   "execution_count": 174,
   "metadata": {},
   "outputs": [
    {
     "data": {
      "image/png": "[encoded data removed]",
      "text/plain": [
       "<matplotlib.figure.Figure at 0x113e950f0>"
      ]
     },
     "metadata": {},
     "output_type": "display_data"
    }
   ],
   "source": [
    "# plt.xscale('log')\n",
    "plt.hist(testing2.dropna(), bins=40)\n",
    "plt.title(\"Entries per Four Hour Period\")\n",
    "plt.xlabel(\"people per hour\")\n",
    "plt.ylabel(\"counts\")\n",
    "plt.savefig(\"histogram\");"
   ]
  },
  {
   "cell_type": "code",
   "execution_count": 103,
   "metadata": {},
   "outputs": [
    {
     "name": "stdout",
     "output_type": "stream",
     "text": [
      "4743      2630.0\n",
      "46237     2822.0\n",
      "151010    2608.0\n",
      "151016    2776.0\n",
      "151046    2769.0\n",
      "151052    2622.0\n",
      "151130    2854.0\n",
      "151136    2564.0\n",
      "151142    2678.0\n",
      "152055    2523.0\n",
      "152085    2861.0\n",
      "152091    2965.0\n",
      "152097    2769.0\n",
      "157156    2697.0\n",
      "157207    2729.0\n",
      "175952    2508.0\n",
      "Name: entries, dtype: float64\n"
     ]
    }
   ],
   "source": [
    "print(testing2[testing2>2500])"
   ]
  },
  {
   "cell_type": "code",
   "execution_count": 175,
   "metadata": {},
   "outputs": [
    {
     "name": "stdout",
     "output_type": "stream",
     "text": [
      "195958\n",
      "195958\n"
     ]
    }
   ],
   "source": [
    "print(len(testing2))\n",
    "print(len(test))"
   ]
  },
  {
   "cell_type": "code",
   "execution_count": 176,
   "metadata": {},
   "outputs": [],
   "source": [
    "test['hourly'] = testing2"
   ]
  },
  {
   "cell_type": "code",
   "execution_count": 180,
   "metadata": {},
   "outputs": [
    {
     "data": {
      "text/plain": [
       "<matplotlib.axes._subplots.AxesSubplot at 0x115f79470>"
      ]
     },
     "execution_count": 180,
     "metadata": {},
     "output_type": "execute_result"
    },
    {
     "data": {
      "image/png": "[encoded data removed]",
      "text/plain": [
       "<matplotlib.figure.Figure at 0x1111360f0>"
      ]
     },
     "metadata": {},
     "output_type": "display_data"
    }
   ],
   "source": [
    "test['hourly'].dropna().hist()"
   ]
  },
  {
   "cell_type": "code",
   "execution_count": 154,
   "metadata": {},
   "outputs": [],
   "source": [
    "highest_hourly = test.groupby('station')['hourly'].mean().sort_values(ascending=False)"
   ]
  },
  {
   "cell_type": "code",
   "execution_count": 213,
   "metadata": {},
   "outputs": [
    {
     "name": "stdout",
     "output_type": "stream",
     "text": [
      "<class 'list'>\n"
     ]
    }
   ],
   "source": [
    "x = list(x)\n",
    "print(type(x))"
   ]
  },
  {
   "cell_type": "code",
   "execution_count": 234,
   "metadata": {},
   "outputs": [
    {
     "data": {
      "image/png": "[encoded data removed]",
      "text/plain": [
       "<matplotlib.figure.Figure at 0x1138f6b00>"
      ]
     },
     "metadata": {},
     "output_type": "display_data"
    }
   ],
   "source": [
    "from matplotlib.ticker import FuncFormatter\n",
    "import matplotlib.pyplot as plt\n",
    "import numpy as np\n",
    "\n",
    "# x = list(highest_hourly.index[:5])\n",
    "x = np.arange(10)\n",
    "y = list(highest_hourly.values[:10])\n",
    "y_ticks = list(highest_hourly.index[:10])\n",
    "# print(y)\n",
    "\n",
    "\n",
    "# formatter = FuncFormatter(millions)\n",
    "\n",
    "fig, ax = plt.subplots()\n",
    "\n",
    "# ax.yaxis.set_major_formatter(formatter)\n",
    "plt.barh(x, y)\n",
    "plt.yticks(x, y_ticks)\n",
    "plt.savefig(\"top ten\");"
   ]
  },
  {
   "cell_type": "code",
   "execution_count": 242,
   "metadata": {},
   "outputs": [
    {
     "data": {
      "text/plain": [
       "20:00:00    16872\n",
       "16:00:00    16868\n",
       "04:00:00    16863\n",
       "00:00:00    16862\n",
       "12:00:00    16851\n",
       "Name: time, dtype: int64"
      ]
     },
     "execution_count": 242,
     "metadata": {},
     "output_type": "execute_result"
    }
   ],
   "source": [
    "test['time'].value_counts().head()"
   ]
  },
  {
   "cell_type": "code",
   "execution_count": 247,
   "metadata": {},
   "outputs": [
    {
     "data": {
      "text/plain": [
       "numpy.dtype"
      ]
     },
     "execution_count": 247,
     "metadata": {},
     "output_type": "execute_result"
    }
   ],
   "source": [
    "type(test['time'].dtype)"
   ]
  }
 ],
 "metadata": {
  "anaconda-cloud": {},
  "kernelspec": {
   "display_name": "Python [conda root]",
   "language": "python",
   "name": "conda-root-py"
  },
  "language_info": {
   "codemirror_mode": {
    "name": "ipython",
    "version": 3
   },
   "file_extension": ".py",
   "mimetype": "text/x-python",
   "name": "python",
   "nbconvert_exporter": "python",
   "pygments_lexer": "ipython3",
   "version": "3.6.2"
  }
 },
 "nbformat": 4,
 "nbformat_minor": 1
}
