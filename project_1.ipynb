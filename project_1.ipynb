{
 "cells": [
  {
   "cell_type": "markdown",
   "metadata": {},
   "source": [
    "Beginning of our exploration of MTA data. "
   ]
  },
  {
   "cell_type": "code",
   "execution_count": 2,
   "metadata": {
    "collapsed": true
   },
   "outputs": [],
   "source": [
    "api_key = \"a57e16aadfd85e7b920ed17db1a0e751\""
   ]
  },
  {
   "cell_type": "code",
   "execution_count": 3,
   "metadata": {
    "collapsed": true
   },
   "outputs": [],
   "source": [
    "import pandas as pd\n",
    "import numpy as np"
   ]
  },
  {
   "cell_type": "code",
   "execution_count": 10,
   "metadata": {
    "collapsed": true
   },
   "outputs": [],
   "source": [
    "df_entrances = pd.read_csv(\"http://web.mta.info/developers/data/nyct/subway/StationEntrances.csv\")"
   ]
  },
  {
   "cell_type": "code",
   "execution_count": 11,
   "metadata": {
    "collapsed": false
   },
   "outputs": [
    {
     "data": {
      "text/html": [
       "<div>\n",
       "<table border=\"1\" class=\"dataframe\">\n",
       "  <thead>\n",
       "    <tr style=\"text-align: right;\">\n",
       "      <th></th>\n",
       "      <th>Division</th>\n",
       "      <th>Line</th>\n",
       "      <th>Station_Name</th>\n",
       "      <th>Station_Latitude</th>\n",
       "      <th>Station_Longitude</th>\n",
       "      <th>Route_1</th>\n",
       "      <th>Route_2</th>\n",
       "      <th>Route_3</th>\n",
       "      <th>Route_4</th>\n",
       "      <th>Route_5</th>\n",
       "      <th>...</th>\n",
       "      <th>Staffing</th>\n",
       "      <th>Staff_Hours</th>\n",
       "      <th>ADA</th>\n",
       "      <th>ADA_Notes</th>\n",
       "      <th>Free_Crossover</th>\n",
       "      <th>North_South_Street</th>\n",
       "      <th>East_West_Street</th>\n",
       "      <th>Corner</th>\n",
       "      <th>Latitude</th>\n",
       "      <th>Longitude</th>\n",
       "    </tr>\n",
       "  </thead>\n",
       "  <tbody>\n",
       "    <tr>\n",
       "      <th>0</th>\n",
       "      <td>BMT</td>\n",
       "      <td>Astoria</td>\n",
       "      <td>Ditmars Blvd</td>\n",
       "      <td>40.775036</td>\n",
       "      <td>-73.912034</td>\n",
       "      <td>N</td>\n",
       "      <td>Q</td>\n",
       "      <td>NaN</td>\n",
       "      <td>NaN</td>\n",
       "      <td>NaN</td>\n",
       "      <td>...</td>\n",
       "      <td>FULL</td>\n",
       "      <td>NaN</td>\n",
       "      <td>False</td>\n",
       "      <td>NaN</td>\n",
       "      <td>True</td>\n",
       "      <td>31st St</td>\n",
       "      <td>23rd Ave</td>\n",
       "      <td>NW</td>\n",
       "      <td>40.775149</td>\n",
       "      <td>-73.912074</td>\n",
       "    </tr>\n",
       "    <tr>\n",
       "      <th>1</th>\n",
       "      <td>BMT</td>\n",
       "      <td>Astoria</td>\n",
       "      <td>Ditmars Blvd</td>\n",
       "      <td>40.775036</td>\n",
       "      <td>-73.912034</td>\n",
       "      <td>N</td>\n",
       "      <td>Q</td>\n",
       "      <td>NaN</td>\n",
       "      <td>NaN</td>\n",
       "      <td>NaN</td>\n",
       "      <td>...</td>\n",
       "      <td>FULL</td>\n",
       "      <td>NaN</td>\n",
       "      <td>False</td>\n",
       "      <td>NaN</td>\n",
       "      <td>True</td>\n",
       "      <td>31st St</td>\n",
       "      <td>23rd Ave</td>\n",
       "      <td>NE</td>\n",
       "      <td>40.774810</td>\n",
       "      <td>-73.912151</td>\n",
       "    </tr>\n",
       "    <tr>\n",
       "      <th>2</th>\n",
       "      <td>BMT</td>\n",
       "      <td>Astoria</td>\n",
       "      <td>Ditmars Blvd</td>\n",
       "      <td>40.775036</td>\n",
       "      <td>-73.912034</td>\n",
       "      <td>N</td>\n",
       "      <td>Q</td>\n",
       "      <td>NaN</td>\n",
       "      <td>NaN</td>\n",
       "      <td>NaN</td>\n",
       "      <td>...</td>\n",
       "      <td>FULL</td>\n",
       "      <td>NaN</td>\n",
       "      <td>False</td>\n",
       "      <td>NaN</td>\n",
       "      <td>True</td>\n",
       "      <td>31st St</td>\n",
       "      <td>23rd Ave</td>\n",
       "      <td>NE</td>\n",
       "      <td>40.775025</td>\n",
       "      <td>-73.911891</td>\n",
       "    </tr>\n",
       "    <tr>\n",
       "      <th>3</th>\n",
       "      <td>BMT</td>\n",
       "      <td>Astoria</td>\n",
       "      <td>Ditmars Blvd</td>\n",
       "      <td>40.775036</td>\n",
       "      <td>-73.912034</td>\n",
       "      <td>N</td>\n",
       "      <td>Q</td>\n",
       "      <td>NaN</td>\n",
       "      <td>NaN</td>\n",
       "      <td>NaN</td>\n",
       "      <td>...</td>\n",
       "      <td>FULL</td>\n",
       "      <td>NaN</td>\n",
       "      <td>False</td>\n",
       "      <td>NaN</td>\n",
       "      <td>True</td>\n",
       "      <td>31st St</td>\n",
       "      <td>23rd Ave</td>\n",
       "      <td>NW</td>\n",
       "      <td>40.774938</td>\n",
       "      <td>-73.912337</td>\n",
       "    </tr>\n",
       "    <tr>\n",
       "      <th>4</th>\n",
       "      <td>BMT</td>\n",
       "      <td>Astoria</td>\n",
       "      <td>Astoria Blvd-Hoyt Av</td>\n",
       "      <td>40.770258</td>\n",
       "      <td>-73.917843</td>\n",
       "      <td>N</td>\n",
       "      <td>Q</td>\n",
       "      <td>NaN</td>\n",
       "      <td>NaN</td>\n",
       "      <td>NaN</td>\n",
       "      <td>...</td>\n",
       "      <td>FULL</td>\n",
       "      <td>NaN</td>\n",
       "      <td>False</td>\n",
       "      <td>NaN</td>\n",
       "      <td>True</td>\n",
       "      <td>31st St</td>\n",
       "      <td>Hoyt Ave South</td>\n",
       "      <td>SW</td>\n",
       "      <td>40.770313</td>\n",
       "      <td>-73.917978</td>\n",
       "    </tr>\n",
       "  </tbody>\n",
       "</table>\n",
       "<p>5 rows × 30 columns</p>\n",
       "</div>"
      ],
      "text/plain": [
       "  Division     Line          Station_Name  Station_Latitude  \\\n",
       "0      BMT  Astoria          Ditmars Blvd         40.775036   \n",
       "1      BMT  Astoria          Ditmars Blvd         40.775036   \n",
       "2      BMT  Astoria          Ditmars Blvd         40.775036   \n",
       "3      BMT  Astoria          Ditmars Blvd         40.775036   \n",
       "4      BMT  Astoria  Astoria Blvd-Hoyt Av         40.770258   \n",
       "\n",
       "   Station_Longitude Route_1 Route_2 Route_3 Route_4 Route_5    ...      \\\n",
       "0         -73.912034       N       Q     NaN     NaN     NaN    ...       \n",
       "1         -73.912034       N       Q     NaN     NaN     NaN    ...       \n",
       "2         -73.912034       N       Q     NaN     NaN     NaN    ...       \n",
       "3         -73.912034       N       Q     NaN     NaN     NaN    ...       \n",
       "4         -73.917843       N       Q     NaN     NaN     NaN    ...       \n",
       "\n",
       "  Staffing Staff_Hours    ADA  ADA_Notes  Free_Crossover  North_South_Street  \\\n",
       "0     FULL         NaN  False        NaN            True             31st St   \n",
       "1     FULL         NaN  False        NaN            True             31st St   \n",
       "2     FULL         NaN  False        NaN            True             31st St   \n",
       "3     FULL         NaN  False        NaN            True             31st St   \n",
       "4     FULL         NaN  False        NaN            True             31st St   \n",
       "\n",
       "  East_West_Street Corner   Latitude  Longitude  \n",
       "0         23rd Ave     NW  40.775149 -73.912074  \n",
       "1         23rd Ave     NE  40.774810 -73.912151  \n",
       "2         23rd Ave     NE  40.775025 -73.911891  \n",
       "3         23rd Ave     NW  40.774938 -73.912337  \n",
       "4   Hoyt Ave South     SW  40.770313 -73.917978  \n",
       "\n",
       "[5 rows x 30 columns]"
      ]
     },
     "execution_count": 11,
     "metadata": {},
     "output_type": "execute_result"
    }
   ],
   "source": [
    "df.head()"
   ]
  },
  {
   "cell_type": "code",
   "execution_count": 12,
   "metadata": {
    "collapsed": false
   },
   "outputs": [
    {
     "data": {
      "text/plain": [
       "count     1866\n",
       "unique       2\n",
       "top        YES\n",
       "freq      1683\n",
       "Name: Vending, dtype: object"
      ]
     },
     "execution_count": 12,
     "metadata": {},
     "output_type": "execute_result"
    }
   ],
   "source": [
    "df['Vending'].describe()"
   ]
  },
  {
   "cell_type": "code",
   "execution_count": 13,
   "metadata": {
    "collapsed": false
   },
   "outputs": [
    {
     "data": {
      "text/plain": [
       "Index(['Division', 'Line', 'Station_Name', 'Station_Latitude',\n",
       "       'Station_Longitude', 'Route_1', 'Route_2', 'Route_3', 'Route_4',\n",
       "       'Route_5', 'Route_6', 'Route_7', 'Route_8', 'Route_9', 'Route_10',\n",
       "       'Route_11', 'Entrance_Type', 'Entry', 'Exit_Only', 'Vending',\n",
       "       'Staffing', 'Staff_Hours', 'ADA', 'ADA_Notes', 'Free_Crossover',\n",
       "       'North_South_Street', 'East_West_Street', 'Corner', 'Latitude',\n",
       "       'Longitude'],\n",
       "      dtype='object')"
      ]
     },
     "execution_count": 13,
     "metadata": {},
     "output_type": "execute_result"
    }
   ],
   "source": [
    "df.columns"
   ]
  },
  {
   "cell_type": "markdown",
   "metadata": {},
   "source": [
    "Downloading the turnstyle data for June 3. Need a naming convention. df_j3 will henceforth be known as the turnstyle data for june 3. We can assume it is turnstyle data since there is nothing else that will be reported by week. "
   ]
  },
  {
   "cell_type": "code",
   "execution_count": 20,
   "metadata": {
    "collapsed": true
   },
   "outputs": [],
   "source": [
    "df_j3 = pd.read_csv(\"http://web.mta.info/developers/data/nyct/turnstile/turnstile_170603.txt\")"
   ]
  },
  {
   "cell_type": "code",
   "execution_count": 26,
   "metadata": {
    "collapsed": false
   },
   "outputs": [
    {
     "data": {
      "text/html": [
       "<div>\n",
       "<table border=\"1\" class=\"dataframe\">\n",
       "  <thead>\n",
       "    <tr style=\"text-align: right;\">\n",
       "      <th></th>\n",
       "      <th>C/A</th>\n",
       "      <th>UNIT</th>\n",
       "      <th>SCP</th>\n",
       "      <th>STATION</th>\n",
       "      <th>LINENAME</th>\n",
       "      <th>DIVISION</th>\n",
       "      <th>DATE</th>\n",
       "      <th>TIME</th>\n",
       "      <th>DESC</th>\n",
       "      <th>ENTRIES</th>\n",
       "      <th>EXITS</th>\n",
       "    </tr>\n",
       "  </thead>\n",
       "  <tbody>\n",
       "    <tr>\n",
       "      <th>62841</th>\n",
       "      <td>N127</td>\n",
       "      <td>R442</td>\n",
       "      <td>00-00-02</td>\n",
       "      <td>SHEPHERD AV</td>\n",
       "      <td>C</td>\n",
       "      <td>IND</td>\n",
       "      <td>06/02/2017</td>\n",
       "      <td>17:00:00</td>\n",
       "      <td>REGULAR</td>\n",
       "      <td>6309336</td>\n",
       "      <td>3050863</td>\n",
       "    </tr>\n",
       "    <tr>\n",
       "      <th>69444</th>\n",
       "      <td>N208</td>\n",
       "      <td>R443</td>\n",
       "      <td>01-06-00</td>\n",
       "      <td>170 ST</td>\n",
       "      <td>BD</td>\n",
       "      <td>IND</td>\n",
       "      <td>05/29/2017</td>\n",
       "      <td>01:00:00</td>\n",
       "      <td>REGULAR</td>\n",
       "      <td>283637</td>\n",
       "      <td>274144</td>\n",
       "    </tr>\n",
       "    <tr>\n",
       "      <th>92186</th>\n",
       "      <td>N504</td>\n",
       "      <td>R021</td>\n",
       "      <td>02-00-01</td>\n",
       "      <td>42 ST-BRYANT PK</td>\n",
       "      <td>BDFM7</td>\n",
       "      <td>IND</td>\n",
       "      <td>05/29/2017</td>\n",
       "      <td>04:00:00</td>\n",
       "      <td>REGULAR</td>\n",
       "      <td>9794578</td>\n",
       "      <td>12211239</td>\n",
       "    </tr>\n",
       "    <tr>\n",
       "      <th>127811</th>\n",
       "      <td>R133</td>\n",
       "      <td>R272</td>\n",
       "      <td>00-00-00</td>\n",
       "      <td>28 ST</td>\n",
       "      <td>1</td>\n",
       "      <td>IRT</td>\n",
       "      <td>06/02/2017</td>\n",
       "      <td>21:00:00</td>\n",
       "      <td>REGULAR</td>\n",
       "      <td>12667381</td>\n",
       "      <td>4041818</td>\n",
       "    </tr>\n",
       "    <tr>\n",
       "      <th>83701</th>\n",
       "      <td>N337</td>\n",
       "      <td>R255</td>\n",
       "      <td>00-00-02</td>\n",
       "      <td>BRIARWOOD</td>\n",
       "      <td>EF</td>\n",
       "      <td>IND</td>\n",
       "      <td>05/29/2017</td>\n",
       "      <td>16:00:00</td>\n",
       "      <td>REGULAR</td>\n",
       "      <td>1406601</td>\n",
       "      <td>142544</td>\n",
       "    </tr>\n",
       "    <tr>\n",
       "      <th>37783</th>\n",
       "      <td>J034</td>\n",
       "      <td>R007</td>\n",
       "      <td>00-00-02</td>\n",
       "      <td>104 ST</td>\n",
       "      <td>JZ</td>\n",
       "      <td>BMT</td>\n",
       "      <td>05/29/2017</td>\n",
       "      <td>00:00:00</td>\n",
       "      <td>REGULAR</td>\n",
       "      <td>2026016852</td>\n",
       "      <td>622126289</td>\n",
       "    </tr>\n",
       "    <tr>\n",
       "      <th>127985</th>\n",
       "      <td>R134</td>\n",
       "      <td>R272</td>\n",
       "      <td>01-00-01</td>\n",
       "      <td>28 ST</td>\n",
       "      <td>1</td>\n",
       "      <td>IRT</td>\n",
       "      <td>05/27/2017</td>\n",
       "      <td>21:00:00</td>\n",
       "      <td>REGULAR</td>\n",
       "      <td>1779770</td>\n",
       "      <td>1345217</td>\n",
       "    </tr>\n",
       "    <tr>\n",
       "      <th>132304</th>\n",
       "      <td>R155</td>\n",
       "      <td>R116</td>\n",
       "      <td>01-00-04</td>\n",
       "      <td>50 ST</td>\n",
       "      <td>1</td>\n",
       "      <td>IRT</td>\n",
       "      <td>05/31/2017</td>\n",
       "      <td>00:00:00</td>\n",
       "      <td>REGULAR</td>\n",
       "      <td>4692626</td>\n",
       "      <td>1752273</td>\n",
       "    </tr>\n",
       "    <tr>\n",
       "      <th>13280</th>\n",
       "      <td>B010</td>\n",
       "      <td>R412</td>\n",
       "      <td>00-03-01</td>\n",
       "      <td>BOTANIC GARDEN</td>\n",
       "      <td>S2345</td>\n",
       "      <td>BMT</td>\n",
       "      <td>05/28/2017</td>\n",
       "      <td>09:00:00</td>\n",
       "      <td>REGULAR</td>\n",
       "      <td>198464</td>\n",
       "      <td>231578</td>\n",
       "    </tr>\n",
       "    <tr>\n",
       "      <th>45712</th>\n",
       "      <td>N049</td>\n",
       "      <td>R084</td>\n",
       "      <td>01-02-01</td>\n",
       "      <td>59 ST COLUMBUS</td>\n",
       "      <td>ABCD1</td>\n",
       "      <td>IND</td>\n",
       "      <td>05/27/2017</td>\n",
       "      <td>04:00:00</td>\n",
       "      <td>REGULAR</td>\n",
       "      <td>15284719</td>\n",
       "      <td>12492142</td>\n",
       "    </tr>\n",
       "  </tbody>\n",
       "</table>\n",
       "</div>"
      ],
      "text/plain": [
       "         C/A  UNIT       SCP          STATION LINENAME DIVISION        DATE  \\\n",
       "62841   N127  R442  00-00-02      SHEPHERD AV        C      IND  06/02/2017   \n",
       "69444   N208  R443  01-06-00           170 ST       BD      IND  05/29/2017   \n",
       "92186   N504  R021  02-00-01  42 ST-BRYANT PK    BDFM7      IND  05/29/2017   \n",
       "127811  R133  R272  00-00-00            28 ST        1      IRT  06/02/2017   \n",
       "83701   N337  R255  00-00-02        BRIARWOOD       EF      IND  05/29/2017   \n",
       "37783   J034  R007  00-00-02           104 ST       JZ      BMT  05/29/2017   \n",
       "127985  R134  R272  01-00-01            28 ST        1      IRT  05/27/2017   \n",
       "132304  R155  R116  01-00-04            50 ST        1      IRT  05/31/2017   \n",
       "13280   B010  R412  00-03-01   BOTANIC GARDEN    S2345      BMT  05/28/2017   \n",
       "45712   N049  R084  01-02-01   59 ST COLUMBUS    ABCD1      IND  05/27/2017   \n",
       "\n",
       "            TIME     DESC     ENTRIES  \\\n",
       "62841   17:00:00  REGULAR     6309336   \n",
       "69444   01:00:00  REGULAR      283637   \n",
       "92186   04:00:00  REGULAR     9794578   \n",
       "127811  21:00:00  REGULAR    12667381   \n",
       "83701   16:00:00  REGULAR     1406601   \n",
       "37783   00:00:00  REGULAR  2026016852   \n",
       "127985  21:00:00  REGULAR     1779770   \n",
       "132304  00:00:00  REGULAR     4692626   \n",
       "13280   09:00:00  REGULAR      198464   \n",
       "45712   04:00:00  REGULAR    15284719   \n",
       "\n",
       "        EXITS                                                                 \n",
       "62841                                             3050863                     \n",
       "69444                                              274144                     \n",
       "92186                                            12211239                     \n",
       "127811                                            4041818                     \n",
       "83701                                              142544                     \n",
       "37783                                           622126289                     \n",
       "127985                                            1345217                     \n",
       "132304                                            1752273                     \n",
       "13280                                              231578                     \n",
       "45712                                            12492142                     "
      ]
     },
     "execution_count": 26,
     "metadata": {},
     "output_type": "execute_result"
    }
   ],
   "source": [
    "df_j3.sample(10)"
   ]
  },
  {
   "cell_type": "code",
   "execution_count": 25,
   "metadata": {
    "collapsed": false
   },
   "outputs": [
    {
     "data": {
      "text/plain": [
       "374"
      ]
     },
     "execution_count": 25,
     "metadata": {},
     "output_type": "execute_result"
    }
   ],
   "source": [
    "len(df_j3['STATION'].unique())"
   ]
  },
  {
   "cell_type": "code",
   "execution_count": 19,
   "metadata": {
    "collapsed": false
   },
   "outputs": [],
   "source": [
    "# for i in range(2,len(df_june_3_turnstyle)):\n",
    "#     df_june_3_turnstyle[i]['hourly entries'] = df_june_3_turnstyle[i]['hourly entries'] - df_june_3_turnstyle[i-1]['hourly entries']"
   ]
  },
  {
   "cell_type": "code",
   "execution_count": null,
   "metadata": {
    "collapsed": true
   },
   "outputs": [],
   "source": [
    "df_j3"
   ]
  },
  {
   "cell_type": "code",
   "execution_count": null,
   "metadata": {
    "collapsed": true
   },
   "outputs": [],
   "source": []
  },
  {
   "cell_type": "code",
   "execution_count": null,
   "metadata": {
    "collapsed": true
   },
   "outputs": [],
   "source": []
  },
  {
   "cell_type": "code",
   "execution_count": null,
   "metadata": {
    "collapsed": true
   },
   "outputs": [],
   "source": []
  },
  {
   "cell_type": "code",
   "execution_count": null,
   "metadata": {
    "collapsed": true
   },
   "outputs": [],
   "source": []
  },
  {
   "cell_type": "code",
   "execution_count": null,
   "metadata": {
    "collapsed": true
   },
   "outputs": [],
   "source": []
  },
  {
   "cell_type": "code",
   "execution_count": null,
   "metadata": {
    "collapsed": true
   },
   "outputs": [],
   "source": []
  },
  {
   "cell_type": "code",
   "execution_count": null,
   "metadata": {
    "collapsed": true
   },
   "outputs": [],
   "source": []
  },
  {
   "cell_type": "code",
   "execution_count": null,
   "metadata": {
    "collapsed": true
   },
   "outputs": [],
   "source": []
  },
  {
   "cell_type": "code",
   "execution_count": null,
   "metadata": {
    "collapsed": true
   },
   "outputs": [],
   "source": []
  }
 ],
 "metadata": {
  "anaconda-cloud": {},
  "kernelspec": {
   "display_name": "Python [conda root]",
   "language": "python",
   "name": "conda-root-py"
  },
  "language_info": {
   "codemirror_mode": {
    "name": "ipython",
    "version": 3
   },
   "file_extension": ".py",
   "mimetype": "text/x-python",
   "name": "python",
   "nbconvert_exporter": "python",
   "pygments_lexer": "ipython3",
   "version": "3.5.2"
  }
 },
 "nbformat": 4,
 "nbformat_minor": 1
}
