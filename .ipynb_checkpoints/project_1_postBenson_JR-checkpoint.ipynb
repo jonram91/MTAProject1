{
 "cells": [
  {
   "cell_type": "markdown",
   "metadata": {},
   "source": [
    "Beginning of our exploration of MTA data. "
   ]
  },
  {
   "cell_type": "code",
   "execution_count": 1,
   "metadata": {
    "collapsed": true
   },
   "outputs": [],
   "source": [
    "api_key = \"a57e16aadfd85e7b920ed17db1a0e751\""
   ]
  },
  {
   "cell_type": "markdown",
   "metadata": {},
   "source": [
    "### Import Statements"
   ]
  },
  {
   "cell_type": "code",
   "execution_count": 2,
   "metadata": {
    "collapsed": true
   },
   "outputs": [],
   "source": [
    "import pandas as pd\n",
    "import numpy as np\n",
    "\n",
    "import matplotlib.pyplot as plt\n",
    "%matplotlib inline\n",
    "\n",
    "import seaborn as sns\n",
    "\n",
    "import re"
   ]
  },
  {
   "cell_type": "markdown",
   "metadata": {},
   "source": [
    "Data import statements: uncomment when running this code locally. "
   ]
  },
  {
   "cell_type": "code",
   "execution_count": 3,
   "metadata": {
    "collapsed": true
   },
   "outputs": [],
   "source": [
    "# df_entrances = pd.read_csv(\"http://web.mta.info/developers/data/nyct/subway/StationEntrances.csv\")\n",
    "df_j3 = pd.read_csv(\"http://web.mta.info/developers/data/nyct/turnstile/turnstile_170603.txt\")"
   ]
  },
  {
   "cell_type": "code",
   "execution_count": 4,
   "metadata": {
    "collapsed": true
   },
   "outputs": [],
   "source": [
    "#save locally\n",
    "# df_entrances.to_csv('entrances.csv')\n",
    "df_j3.to_csv('turnstyle_jun_3.csv')"
   ]
  },
  {
   "cell_type": "code",
   "execution_count": 5,
   "metadata": {
    "collapsed": true
   },
   "outputs": [],
   "source": [
    "#import locally\n",
    "# de_entrances = pd.read_csv('entrances.csv')\n",
    "df_j3 = pd.read_csv('turnstyle_jun_3.csv')"
   ]
  },
  {
   "cell_type": "markdown",
   "metadata": {},
   "source": [
    "### Turnstyles Data"
   ]
  },
  {
   "cell_type": "markdown",
   "metadata": {},
   "source": [
    "Downloading the turnstyle data for June 3. Need a naming convention. df_j3 will henceforth be known as the turnstyle data for june 3. We can assume it is turnstyle data since there is nothing else that will be reported by week. "
   ]
  },
  {
   "cell_type": "code",
   "execution_count": 6,
   "metadata": {},
   "outputs": [
    {
     "data": {
      "text/html": [
       "<div>\n",
       "<style>\n",
       "    .dataframe thead tr:only-child th {\n",
       "        text-align: right;\n",
       "    }\n",
       "\n",
       "    .dataframe thead th {\n",
       "        text-align: left;\n",
       "    }\n",
       "\n",
       "    .dataframe tbody tr th {\n",
       "        vertical-align: top;\n",
       "    }\n",
       "</style>\n",
       "<table border=\"1\" class=\"dataframe\">\n",
       "  <thead>\n",
       "    <tr style=\"text-align: right;\">\n",
       "      <th></th>\n",
       "      <th>Unnamed: 0</th>\n",
       "      <th>C/A</th>\n",
       "      <th>UNIT</th>\n",
       "      <th>SCP</th>\n",
       "      <th>STATION</th>\n",
       "      <th>LINENAME</th>\n",
       "      <th>DIVISION</th>\n",
       "      <th>DATE</th>\n",
       "      <th>TIME</th>\n",
       "      <th>DESC</th>\n",
       "      <th>ENTRIES</th>\n",
       "      <th>EXITS</th>\n",
       "    </tr>\n",
       "  </thead>\n",
       "  <tbody>\n",
       "    <tr>\n",
       "      <th>161475</th>\n",
       "      <td>161475</td>\n",
       "      <td>R291</td>\n",
       "      <td>R183</td>\n",
       "      <td>00-00-03</td>\n",
       "      <td>BEDFORD PK BLVD</td>\n",
       "      <td>4</td>\n",
       "      <td>IRT</td>\n",
       "      <td>06/01/2017</td>\n",
       "      <td>12:00:00</td>\n",
       "      <td>REGULAR</td>\n",
       "      <td>16669823</td>\n",
       "      <td>10356629</td>\n",
       "    </tr>\n",
       "    <tr>\n",
       "      <th>93992</th>\n",
       "      <td>93992</td>\n",
       "      <td>N507</td>\n",
       "      <td>R023</td>\n",
       "      <td>00-03-02</td>\n",
       "      <td>34 ST-HERALD SQ</td>\n",
       "      <td>BDFMNQRW</td>\n",
       "      <td>IND</td>\n",
       "      <td>06/02/2017</td>\n",
       "      <td>20:00:00</td>\n",
       "      <td>REGULAR</td>\n",
       "      <td>3268377</td>\n",
       "      <td>2264680</td>\n",
       "    </tr>\n",
       "    <tr>\n",
       "      <th>63817</th>\n",
       "      <td>63817</td>\n",
       "      <td>N134</td>\n",
       "      <td>R385</td>\n",
       "      <td>00-00-01</td>\n",
       "      <td>ROCKAWAY BLVD</td>\n",
       "      <td>A</td>\n",
       "      <td>IND</td>\n",
       "      <td>05/29/2017</td>\n",
       "      <td>01:00:00</td>\n",
       "      <td>REGULAR</td>\n",
       "      <td>221360</td>\n",
       "      <td>57558</td>\n",
       "    </tr>\n",
       "  </tbody>\n",
       "</table>\n",
       "</div>"
      ],
      "text/plain": [
       "        Unnamed: 0   C/A  UNIT       SCP          STATION  LINENAME DIVISION  \\\n",
       "161475      161475  R291  R183  00-00-03  BEDFORD PK BLVD         4      IRT   \n",
       "93992        93992  N507  R023  00-03-02  34 ST-HERALD SQ  BDFMNQRW      IND   \n",
       "63817        63817  N134  R385  00-00-01    ROCKAWAY BLVD         A      IND   \n",
       "\n",
       "              DATE      TIME     DESC   ENTRIES  \\\n",
       "161475  06/01/2017  12:00:00  REGULAR  16669823   \n",
       "93992   06/02/2017  20:00:00  REGULAR   3268377   \n",
       "63817   05/29/2017  01:00:00  REGULAR    221360   \n",
       "\n",
       "        EXITS                                                                 \n",
       "161475                                           10356629                     \n",
       "93992                                             2264680                     \n",
       "63817                                               57558                     "
      ]
     },
     "execution_count": 6,
     "metadata": {},
     "output_type": "execute_result"
    }
   ],
   "source": [
    "df_j3.sample(10)[:3]"
   ]
  },
  {
   "cell_type": "markdown",
   "metadata": {},
   "source": [
    "I am going to have to make these letters lowercase and remove any excess white space. "
   ]
  },
  {
   "cell_type": "code",
   "execution_count": 7,
   "metadata": {},
   "outputs": [
    {
     "name": "stdout",
     "output_type": "stream",
     "text": [
      "Index(['unnamed: 0', 'c/a', 'unit', 'scp', 'station', 'linename', 'division',\n",
      "       'date', 'time', 'desc', 'entries', 'exits'],\n",
      "      dtype='object')\n"
     ]
    }
   ],
   "source": [
    "df_j3.columns = df_j3.columns.str.strip().str.lower()\n",
    "print(df_j3.columns)"
   ]
  },
  {
   "cell_type": "code",
   "execution_count": 8,
   "metadata": {},
   "outputs": [
    {
     "data": {
      "text/plain": [
       "374"
      ]
     },
     "execution_count": 8,
     "metadata": {},
     "output_type": "execute_result"
    }
   ],
   "source": [
    "len(df_j3['station'].unique())"
   ]
  },
  {
   "cell_type": "code",
   "execution_count": 9,
   "metadata": {},
   "outputs": [
    {
     "data": {
      "text/html": [
       "<div>\n",
       "<style>\n",
       "    .dataframe thead tr:only-child th {\n",
       "        text-align: right;\n",
       "    }\n",
       "\n",
       "    .dataframe thead th {\n",
       "        text-align: left;\n",
       "    }\n",
       "\n",
       "    .dataframe tbody tr th {\n",
       "        vertical-align: top;\n",
       "    }\n",
       "</style>\n",
       "<table border=\"1\" class=\"dataframe\">\n",
       "  <thead>\n",
       "    <tr style=\"text-align: right;\">\n",
       "      <th></th>\n",
       "      <th>unnamed: 0</th>\n",
       "      <th>c/a</th>\n",
       "      <th>unit</th>\n",
       "      <th>scp</th>\n",
       "      <th>station</th>\n",
       "      <th>linename</th>\n",
       "      <th>division</th>\n",
       "      <th>date</th>\n",
       "      <th>time</th>\n",
       "      <th>desc</th>\n",
       "      <th>entries</th>\n",
       "      <th>exits</th>\n",
       "    </tr>\n",
       "  </thead>\n",
       "  <tbody>\n",
       "    <tr>\n",
       "      <th>0</th>\n",
       "      <td>0</td>\n",
       "      <td>A002</td>\n",
       "      <td>R051</td>\n",
       "      <td>02-00-00</td>\n",
       "      <td>59 ST</td>\n",
       "      <td>NQR456W</td>\n",
       "      <td>BMT</td>\n",
       "      <td>05/27/2017</td>\n",
       "      <td>00:00:00</td>\n",
       "      <td>REGULAR</td>\n",
       "      <td>6195217</td>\n",
       "      <td>2098317</td>\n",
       "    </tr>\n",
       "    <tr>\n",
       "      <th>1</th>\n",
       "      <td>1</td>\n",
       "      <td>A002</td>\n",
       "      <td>R051</td>\n",
       "      <td>02-00-00</td>\n",
       "      <td>59 ST</td>\n",
       "      <td>NQR456W</td>\n",
       "      <td>BMT</td>\n",
       "      <td>05/27/2017</td>\n",
       "      <td>04:00:00</td>\n",
       "      <td>REGULAR</td>\n",
       "      <td>6195240</td>\n",
       "      <td>2098318</td>\n",
       "    </tr>\n",
       "    <tr>\n",
       "      <th>2</th>\n",
       "      <td>2</td>\n",
       "      <td>A002</td>\n",
       "      <td>R051</td>\n",
       "      <td>02-00-00</td>\n",
       "      <td>59 ST</td>\n",
       "      <td>NQR456W</td>\n",
       "      <td>BMT</td>\n",
       "      <td>05/27/2017</td>\n",
       "      <td>08:00:00</td>\n",
       "      <td>REGULAR</td>\n",
       "      <td>6195256</td>\n",
       "      <td>2098347</td>\n",
       "    </tr>\n",
       "  </tbody>\n",
       "</table>\n",
       "</div>"
      ],
      "text/plain": [
       "   unnamed: 0   c/a  unit       scp station linename division        date  \\\n",
       "0           0  A002  R051  02-00-00   59 ST  NQR456W      BMT  05/27/2017   \n",
       "1           1  A002  R051  02-00-00   59 ST  NQR456W      BMT  05/27/2017   \n",
       "2           2  A002  R051  02-00-00   59 ST  NQR456W      BMT  05/27/2017   \n",
       "\n",
       "       time     desc  entries    exits  \n",
       "0  00:00:00  REGULAR  6195217  2098317  \n",
       "1  04:00:00  REGULAR  6195240  2098318  \n",
       "2  08:00:00  REGULAR  6195256  2098347  "
      ]
     },
     "execution_count": 9,
     "metadata": {},
     "output_type": "execute_result"
    }
   ],
   "source": [
    "test = df_j3\n",
    "test.head(3)"
   ]
  },
  {
   "cell_type": "markdown",
   "metadata": {},
   "source": [
    "This section is an attempt to get subtotals for the individual sensors, c/a (though I have later found out that these are not the individual devices. We are going through the data set and taking the starting and ending observations for each sensor (c/a) and saving it as a variable. "
   ]
  },
  {
   "cell_type": "code",
   "execution_count": 10,
   "metadata": {
    "collapsed": true
   },
   "outputs": [],
   "source": [
    "s = abs(test.sort_values(by=['station','linename','scp','date'])['entries'].diff())"
   ]
  },
  {
   "cell_type": "code",
   "execution_count": 11,
   "metadata": {},
   "outputs": [
    {
     "data": {
      "text/plain": [
       "0.0    31408\n",
       "1.0     3360\n",
       "2.0     2399\n",
       "3.0     2021\n",
       "4.0     1864\n",
       "Name: entries, dtype: int64"
      ]
     },
     "execution_count": 11,
     "metadata": {},
     "output_type": "execute_result"
    }
   ],
   "source": [
    "s.value_counts().head()"
   ]
  },
  {
   "cell_type": "code",
   "execution_count": 12,
   "metadata": {},
   "outputs": [
    {
     "data": {
      "text/plain": [
       "58405566.461769685"
      ]
     },
     "execution_count": 12,
     "metadata": {},
     "output_type": "execute_result"
    }
   ],
   "source": [
    "s.std()"
   ]
  },
  {
   "cell_type": "markdown",
   "metadata": {},
   "source": [
    "Ok, I am going to test different grouping and sorting techniques, put each one in a data set, and do some descripitive statistics on the resultling 'hourly' variable. The default for pandas sort is False."
   ]
  },
  {
   "cell_type": "code",
   "execution_count": 13,
   "metadata": {
    "collapsed": true
   },
   "outputs": [],
   "source": [
    "#sort\n",
    "test_sorted = s\n",
    "test_sorted['hourly'] = abs(test.sort_values(by=['station','linename','scp','date','time'])['entries'].diff())"
   ]
  },
  {
   "cell_type": "code",
   "execution_count": 14,
   "metadata": {},
   "outputs": [
    {
     "name": "stdout",
     "output_type": "stream",
     "text": [
      "195959\n",
      "195958\n"
     ]
    }
   ],
   "source": [
    "print(len(test_sorted))\n",
    "print(len(test))"
   ]
  },
  {
   "cell_type": "code",
   "execution_count": 15,
   "metadata": {
    "collapsed": true
   },
   "outputs": [],
   "source": [
    "std_3 = test_sorted['hourly'].std()"
   ]
  },
  {
   "cell_type": "code",
   "execution_count": 16,
   "metadata": {},
   "outputs": [
    {
     "name": "stdout",
     "output_type": "stream",
     "text": [
      "112116234.289\n"
     ]
    }
   ],
   "source": [
    "print(std_3)"
   ]
  },
  {
   "cell_type": "code",
   "execution_count": 17,
   "metadata": {
    "collapsed": true
   },
   "outputs": [],
   "source": [
    "#create a new df in which we create the test id\n",
    "test_id = test"
   ]
  },
  {
   "cell_type": "code",
   "execution_count": 18,
   "metadata": {
    "collapsed": true
   },
   "outputs": [],
   "source": [
    "test_id['id'] = test_id['station'] + test_id['linename'] + test_id['scp']"
   ]
  },
  {
   "cell_type": "code",
   "execution_count": 19,
   "metadata": {
    "collapsed": true
   },
   "outputs": [],
   "source": [
    "test_id['hourly'] = abs(test_id.sort_values(by=['id','date','time'])['entries'].diff())"
   ]
  },
  {
   "cell_type": "code",
   "execution_count": 20,
   "metadata": {
    "collapsed": true
   },
   "outputs": [],
   "source": [
    "std_4 = test_id['hourly'].std()"
   ]
  },
  {
   "cell_type": "code",
   "execution_count": 21,
   "metadata": {},
   "outputs": [
    {
     "data": {
      "text/plain": [
       "1.0004703115265443"
      ]
     },
     "execution_count": 21,
     "metadata": {},
     "output_type": "execute_result"
    }
   ],
   "source": [
    "std_4/std_3"
   ]
  },
  {
   "cell_type": "code",
   "execution_count": 22,
   "metadata": {},
   "outputs": [
    {
     "data": {
      "text/plain": [
       "<matplotlib.axes._subplots.AxesSubplot at 0x11c7cc2b0>"
      ]
     },
     "execution_count": 22,
     "metadata": {},
     "output_type": "execute_result"
    },
    {
     "data": {
      "image/png": "[encoded data removed]",
      "text/plain": [
       "<matplotlib.figure.Figure at 0x11c7cca58>"
      ]
     },
     "metadata": {},
     "output_type": "display_data"
    }
   ],
   "source": [
    "test_id['hourly'].hist()\n",
    "test_id['hourly'].plot(kind='kde')"
   ]
  },
  {
   "cell_type": "markdown",
   "metadata": {},
   "source": [
    "I am going to try to loop through the unique ids we made and calculate the differences within those id groups. "
   ]
  },
  {
   "cell_type": "code",
   "execution_count": 23,
   "metadata": {},
   "outputs": [
    {
     "data": {
      "text/plain": [
       "4571"
      ]
     },
     "execution_count": 23,
     "metadata": {},
     "output_type": "execute_result"
    }
   ],
   "source": [
    "len(test_id['id'].unique())"
   ]
  },
  {
   "cell_type": "code",
   "execution_count": 24,
   "metadata": {
    "collapsed": true
   },
   "outputs": [],
   "source": [
    "# for i in test_id['id']:\n",
    "#     print(i)"
   ]
  },
  {
   "cell_type": "code",
   "execution_count": 25,
   "metadata": {},
   "outputs": [
    {
     "data": {
      "text/html": [
       "<div>\n",
       "<style>\n",
       "    .dataframe thead tr:only-child th {\n",
       "        text-align: right;\n",
       "    }\n",
       "\n",
       "    .dataframe thead th {\n",
       "        text-align: left;\n",
       "    }\n",
       "\n",
       "    .dataframe tbody tr th {\n",
       "        vertical-align: top;\n",
       "    }\n",
       "</style>\n",
       "<table border=\"1\" class=\"dataframe\">\n",
       "  <thead>\n",
       "    <tr style=\"text-align: right;\">\n",
       "      <th></th>\n",
       "      <th>unnamed: 0</th>\n",
       "      <th>c/a</th>\n",
       "      <th>unit</th>\n",
       "      <th>scp</th>\n",
       "      <th>station</th>\n",
       "      <th>linename</th>\n",
       "      <th>division</th>\n",
       "      <th>date</th>\n",
       "      <th>time</th>\n",
       "      <th>desc</th>\n",
       "      <th>entries</th>\n",
       "      <th>exits</th>\n",
       "      <th>id</th>\n",
       "      <th>hourly</th>\n",
       "    </tr>\n",
       "  </thead>\n",
       "  <tbody>\n",
       "    <tr>\n",
       "      <th>0</th>\n",
       "      <td>0</td>\n",
       "      <td>A002</td>\n",
       "      <td>R051</td>\n",
       "      <td>02-00-00</td>\n",
       "      <td>59 ST</td>\n",
       "      <td>NQR456W</td>\n",
       "      <td>BMT</td>\n",
       "      <td>05/27/2017</td>\n",
       "      <td>00:00:00</td>\n",
       "      <td>REGULAR</td>\n",
       "      <td>6195217</td>\n",
       "      <td>2098317</td>\n",
       "      <td>59 STNQR456W02-00-00</td>\n",
       "      <td>5992912.0</td>\n",
       "    </tr>\n",
       "    <tr>\n",
       "      <th>1</th>\n",
       "      <td>1</td>\n",
       "      <td>A002</td>\n",
       "      <td>R051</td>\n",
       "      <td>02-00-00</td>\n",
       "      <td>59 ST</td>\n",
       "      <td>NQR456W</td>\n",
       "      <td>BMT</td>\n",
       "      <td>05/27/2017</td>\n",
       "      <td>04:00:00</td>\n",
       "      <td>REGULAR</td>\n",
       "      <td>6195240</td>\n",
       "      <td>2098318</td>\n",
       "      <td>59 STNQR456W02-00-00</td>\n",
       "      <td>23.0</td>\n",
       "    </tr>\n",
       "    <tr>\n",
       "      <th>2</th>\n",
       "      <td>2</td>\n",
       "      <td>A002</td>\n",
       "      <td>R051</td>\n",
       "      <td>02-00-00</td>\n",
       "      <td>59 ST</td>\n",
       "      <td>NQR456W</td>\n",
       "      <td>BMT</td>\n",
       "      <td>05/27/2017</td>\n",
       "      <td>08:00:00</td>\n",
       "      <td>REGULAR</td>\n",
       "      <td>6195256</td>\n",
       "      <td>2098347</td>\n",
       "      <td>59 STNQR456W02-00-00</td>\n",
       "      <td>16.0</td>\n",
       "    </tr>\n",
       "    <tr>\n",
       "      <th>3</th>\n",
       "      <td>3</td>\n",
       "      <td>A002</td>\n",
       "      <td>R051</td>\n",
       "      <td>02-00-00</td>\n",
       "      <td>59 ST</td>\n",
       "      <td>NQR456W</td>\n",
       "      <td>BMT</td>\n",
       "      <td>05/27/2017</td>\n",
       "      <td>12:00:00</td>\n",
       "      <td>REGULAR</td>\n",
       "      <td>6195346</td>\n",
       "      <td>2098432</td>\n",
       "      <td>59 STNQR456W02-00-00</td>\n",
       "      <td>90.0</td>\n",
       "    </tr>\n",
       "    <tr>\n",
       "      <th>4</th>\n",
       "      <td>4</td>\n",
       "      <td>A002</td>\n",
       "      <td>R051</td>\n",
       "      <td>02-00-00</td>\n",
       "      <td>59 ST</td>\n",
       "      <td>NQR456W</td>\n",
       "      <td>BMT</td>\n",
       "      <td>05/27/2017</td>\n",
       "      <td>16:00:00</td>\n",
       "      <td>REGULAR</td>\n",
       "      <td>6195518</td>\n",
       "      <td>2098491</td>\n",
       "      <td>59 STNQR456W02-00-00</td>\n",
       "      <td>172.0</td>\n",
       "    </tr>\n",
       "  </tbody>\n",
       "</table>\n",
       "</div>"
      ],
      "text/plain": [
       "   unnamed: 0   c/a  unit       scp station linename division        date  \\\n",
       "0           0  A002  R051  02-00-00   59 ST  NQR456W      BMT  05/27/2017   \n",
       "1           1  A002  R051  02-00-00   59 ST  NQR456W      BMT  05/27/2017   \n",
       "2           2  A002  R051  02-00-00   59 ST  NQR456W      BMT  05/27/2017   \n",
       "3           3  A002  R051  02-00-00   59 ST  NQR456W      BMT  05/27/2017   \n",
       "4           4  A002  R051  02-00-00   59 ST  NQR456W      BMT  05/27/2017   \n",
       "\n",
       "       time     desc  entries    exits                    id     hourly  \n",
       "0  00:00:00  REGULAR  6195217  2098317  59 STNQR456W02-00-00  5992912.0  \n",
       "1  04:00:00  REGULAR  6195240  2098318  59 STNQR456W02-00-00       23.0  \n",
       "2  08:00:00  REGULAR  6195256  2098347  59 STNQR456W02-00-00       16.0  \n",
       "3  12:00:00  REGULAR  6195346  2098432  59 STNQR456W02-00-00       90.0  \n",
       "4  16:00:00  REGULAR  6195518  2098491  59 STNQR456W02-00-00      172.0  "
      ]
     },
     "execution_count": 25,
     "metadata": {},
     "output_type": "execute_result"
    }
   ],
   "source": [
    "test_id.head()"
   ]
  },
  {
   "cell_type": "markdown",
   "metadata": {
    "collapsed": true
   },
   "source": [
    "### Older Plan"
   ]
  },
  {
   "cell_type": "markdown",
   "metadata": {},
   "source": [
    "std_1 is the standard deviation from sorting by ['station','scp','date','time'] and taking the difference between entries. Nine digit standard deviations indicate a bad number. When we add 'linename' to the sorting terms we get a reduction in the standard deviation of about 81 million, so that is something.   \n",
    "\n",
    "Next I take the absolute value of the difference to try to cancel out the noise of the units that count backwards. That doesn't really make much difference. But now we can look at dividing the standard deviations and seeing what that does and we see that the standard deviations improve by about half when we bring the 'linename' into the sort.  \n",
    "\n",
    "Now I am going to try Jonathan's idea of creating a unique id by adding togehter the variables we think are important. Now the interesting thing is that the performance of the model seems to have actually gotten worse. The standard deviation of the model when we take the data sorted by the new id and then sorted by time is just a little over half the size of the original standard deviation. This is after taking the absolute value of the differences. So this is really terrible. The hourly entries are still coming out measured on a scale that reaches into the billions. This data is close to totally useless.  \n",
    "\n",
    "There are going to be two sources of rediculous values, resets and different machines. To get any kind of reasonable estimates we have to get rid of the differences caused by different machines. We should make a list of the unique ids, loop through that list running diff on all the members in that list to populate 'hourly', and then go on to the next id in the list. Resets that happen within that group will still be a problem but those we might be able to deal with as missing data and just get rid of them. \n",
    "\n",
    "Joe says they just chose 20k as a cut-off and went from there. They found a kde plot that gave them a sort of reasonable argument for choosing that level as a cutoff. I am tempted to go with that.  \n",
    "\n",
    "Now I need to review the commands for getting rid of data. I have to just throw out some data so that we can move on to other parts of the analysis. Once we get a reasonable analysis we can get a minimal acceptable product up and go back and make refinements if we like.  \n",
    "\n",
    "So, the first thing is to go through the data set and have a criteria for making out things as NaN. A bit of an internet search is necessary.  \n",
    "\n"
   ]
  },
  {
   "cell_type": "markdown",
   "metadata": {
    "collapsed": true
   },
   "source": [
    "### New Plan\n",
    "Talked to David and he expressed confidence that the whole problem could be handled by groupby. In particular, he said that all the trouble we went through with ids could be handled by `.groupby()` and `.diff()`.  \n",
    "\n",
    "This is his **claim**: the diff funciton called on a group will return the values for the differences in the rows that are in that group, not the differences between the groups. I find this hard to believe, but he is the expert and I have to give it a try. \n",
    "\n",
    "The test data set still has the hourly and id variables attached but I don't see any need to get rid of them. I can keep them and create the new versions of hourly to compare, even.  "
   ]
  },
  {
   "cell_type": "code",
   "execution_count": 26,
   "metadata": {
    "collapsed": true
   },
   "outputs": [],
   "source": [
    "test_diff = test.groupby(['station','linename','scp'])['entries'].diff()"
   ]
  },
  {
   "cell_type": "code",
   "execution_count": 27,
   "metadata": {},
   "outputs": [
    {
     "name": "stdout",
     "output_type": "stream",
     "text": [
      "195958\n",
      "195958\n"
     ]
    }
   ],
   "source": [
    "print(len(test_diff))\n",
    "print(len(test))"
   ]
  },
  {
   "cell_type": "markdown",
   "metadata": {
    "collapsed": true
   },
   "source": [
    "My God! I didn't believe him, but he is right. So now we have a diff for each of the entries of hourly and it seems like we should be able to just tack it back on the data set. I have to get the thing working now.  \n",
    "\n",
    "First I will get the standard deviation and compare it to standard deviation 3, which was the best I had done so far. "
   ]
  },
  {
   "cell_type": "code",
   "execution_count": 28,
   "metadata": {},
   "outputs": [
    {
     "name": "stdout",
     "output_type": "stream",
     "text": [
      "11796568.8969\n",
      "0.105217312834\n"
     ]
    }
   ],
   "source": [
    "std_diff = test_diff.std()\n",
    "print(std_diff)\n",
    "print(std_diff/std_3)"
   ]
  },
  {
   "cell_type": "markdown",
   "metadata": {
    "collapsed": true
   },
   "source": [
    "Ok, so this is a huget improvement, though you wouldn't know it from the absolute value of the standard deviation. That is about 1/20 the first standard deviation I had obtained.  \n",
    "\n",
    "Lets look at a histogram. "
   ]
  },
  {
   "cell_type": "code",
   "execution_count": 29,
   "metadata": {},
   "outputs": [
    {
     "data": {
      "text/plain": [
       "count    1.913870e+05\n",
       "mean     6.163596e+04\n",
       "std      1.179657e+07\n",
       "min     -1.821377e+09\n",
       "25%      8.000000e+00\n",
       "50%      6.700000e+01\n",
       "75%      2.230000e+02\n",
       "max      1.948041e+09\n",
       "Name: entries, dtype: float64"
      ]
     },
     "execution_count": 29,
     "metadata": {},
     "output_type": "execute_result"
    }
   ],
   "source": [
    "test_diff.describe()"
   ]
  },
  {
   "cell_type": "code",
   "execution_count": 30,
   "metadata": {},
   "outputs": [
    {
     "data": {
      "text/plain": [
       "61635.96"
      ]
     },
     "execution_count": 30,
     "metadata": {},
     "output_type": "execute_result"
    }
   ],
   "source": [
    "6.163596e+04"
   ]
  },
  {
   "cell_type": "markdown",
   "metadata": {
    "collapsed": true
   },
   "source": [
    "An average value of 61,000 is still insane but at least in the realm of human experience. "
   ]
  },
  {
   "cell_type": "code",
   "execution_count": 31,
   "metadata": {},
   "outputs": [
    {
     "data": {
      "image/png": "[encoded data removed]",
      "text/plain": [
       "<matplotlib.figure.Figure at 0x11f2f7908>"
      ]
     },
     "metadata": {},
     "output_type": "display_data"
    }
   ],
   "source": [
    "plt.hist(test_diff.dropna());"
   ]
  },
  {
   "cell_type": "markdown",
   "metadata": {},
   "source": [
    "But the histogram is still on a scale of billions. That is rediculous. What can we do? What about sorting by date and time? What that done? The date time sort would have to be done after the groupby operation for it to have effect, no? "
   ]
  },
  {
   "cell_type": "code",
   "execution_count": 32,
   "metadata": {
    "collapsed": true
   },
   "outputs": [],
   "source": [
    "test_diff_sorted = test.sort_values(['date','time'], ascending=True).groupby(['station','linename','scp'])['entries'].diff()"
   ]
  },
  {
   "cell_type": "code",
   "execution_count": 33,
   "metadata": {},
   "outputs": [
    {
     "data": {
      "text/plain": [
       "195958"
      ]
     },
     "execution_count": 33,
     "metadata": {},
     "output_type": "execute_result"
    }
   ],
   "source": [
    "len(test_diff_sorted)"
   ]
  },
  {
   "cell_type": "code",
   "execution_count": 34,
   "metadata": {},
   "outputs": [
    {
     "data": {
      "text/plain": [
       "count    1.913870e+05\n",
       "mean     9.999670e+03\n",
       "std      1.058642e+08\n",
       "min     -1.948056e+09\n",
       "25%      6.000000e+00\n",
       "50%      6.600000e+01\n",
       "75%      2.330000e+02\n",
       "max      1.948057e+09\n",
       "Name: entries, dtype: float64"
      ]
     },
     "execution_count": 34,
     "metadata": {},
     "output_type": "execute_result"
    }
   ],
   "source": [
    "test_diff_sorted.describe()"
   ]
  },
  {
   "cell_type": "code",
   "execution_count": 35,
   "metadata": {},
   "outputs": [
    {
     "data": {
      "text/plain": [
       "9999.67"
      ]
     },
     "execution_count": 35,
     "metadata": {},
     "output_type": "execute_result"
    }
   ],
   "source": [
    "9.999670e+03"
   ]
  },
  {
   "cell_type": "code",
   "execution_count": 36,
   "metadata": {},
   "outputs": [
    {
     "data": {
      "text/html": [
       "<div>\n",
       "<style>\n",
       "    .dataframe thead tr:only-child th {\n",
       "        text-align: right;\n",
       "    }\n",
       "\n",
       "    .dataframe thead th {\n",
       "        text-align: left;\n",
       "    }\n",
       "\n",
       "    .dataframe tbody tr th {\n",
       "        vertical-align: top;\n",
       "    }\n",
       "</style>\n",
       "<table border=\"1\" class=\"dataframe\">\n",
       "  <thead>\n",
       "    <tr style=\"text-align: right;\">\n",
       "      <th></th>\n",
       "      <th>unnamed: 0</th>\n",
       "      <th>c/a</th>\n",
       "      <th>unit</th>\n",
       "      <th>scp</th>\n",
       "      <th>station</th>\n",
       "      <th>linename</th>\n",
       "      <th>division</th>\n",
       "      <th>date</th>\n",
       "      <th>time</th>\n",
       "      <th>desc</th>\n",
       "      <th>entries</th>\n",
       "      <th>exits</th>\n",
       "      <th>id</th>\n",
       "      <th>hourly</th>\n",
       "    </tr>\n",
       "  </thead>\n",
       "  <tbody>\n",
       "    <tr>\n",
       "      <th>0</th>\n",
       "      <td>0</td>\n",
       "      <td>A002</td>\n",
       "      <td>R051</td>\n",
       "      <td>02-00-00</td>\n",
       "      <td>59 ST</td>\n",
       "      <td>NQR456W</td>\n",
       "      <td>BMT</td>\n",
       "      <td>05/27/2017</td>\n",
       "      <td>00:00:00</td>\n",
       "      <td>REGULAR</td>\n",
       "      <td>6195217</td>\n",
       "      <td>2098317</td>\n",
       "      <td>59 STNQR456W02-00-00</td>\n",
       "      <td>5992912.0</td>\n",
       "    </tr>\n",
       "    <tr>\n",
       "      <th>1</th>\n",
       "      <td>1</td>\n",
       "      <td>A002</td>\n",
       "      <td>R051</td>\n",
       "      <td>02-00-00</td>\n",
       "      <td>59 ST</td>\n",
       "      <td>NQR456W</td>\n",
       "      <td>BMT</td>\n",
       "      <td>05/27/2017</td>\n",
       "      <td>04:00:00</td>\n",
       "      <td>REGULAR</td>\n",
       "      <td>6195240</td>\n",
       "      <td>2098318</td>\n",
       "      <td>59 STNQR456W02-00-00</td>\n",
       "      <td>23.0</td>\n",
       "    </tr>\n",
       "    <tr>\n",
       "      <th>2</th>\n",
       "      <td>2</td>\n",
       "      <td>A002</td>\n",
       "      <td>R051</td>\n",
       "      <td>02-00-00</td>\n",
       "      <td>59 ST</td>\n",
       "      <td>NQR456W</td>\n",
       "      <td>BMT</td>\n",
       "      <td>05/27/2017</td>\n",
       "      <td>08:00:00</td>\n",
       "      <td>REGULAR</td>\n",
       "      <td>6195256</td>\n",
       "      <td>2098347</td>\n",
       "      <td>59 STNQR456W02-00-00</td>\n",
       "      <td>16.0</td>\n",
       "    </tr>\n",
       "    <tr>\n",
       "      <th>3</th>\n",
       "      <td>3</td>\n",
       "      <td>A002</td>\n",
       "      <td>R051</td>\n",
       "      <td>02-00-00</td>\n",
       "      <td>59 ST</td>\n",
       "      <td>NQR456W</td>\n",
       "      <td>BMT</td>\n",
       "      <td>05/27/2017</td>\n",
       "      <td>12:00:00</td>\n",
       "      <td>REGULAR</td>\n",
       "      <td>6195346</td>\n",
       "      <td>2098432</td>\n",
       "      <td>59 STNQR456W02-00-00</td>\n",
       "      <td>90.0</td>\n",
       "    </tr>\n",
       "    <tr>\n",
       "      <th>4</th>\n",
       "      <td>4</td>\n",
       "      <td>A002</td>\n",
       "      <td>R051</td>\n",
       "      <td>02-00-00</td>\n",
       "      <td>59 ST</td>\n",
       "      <td>NQR456W</td>\n",
       "      <td>BMT</td>\n",
       "      <td>05/27/2017</td>\n",
       "      <td>16:00:00</td>\n",
       "      <td>REGULAR</td>\n",
       "      <td>6195518</td>\n",
       "      <td>2098491</td>\n",
       "      <td>59 STNQR456W02-00-00</td>\n",
       "      <td>172.0</td>\n",
       "    </tr>\n",
       "  </tbody>\n",
       "</table>\n",
       "</div>"
      ],
      "text/plain": [
       "   unnamed: 0   c/a  unit       scp station linename division        date  \\\n",
       "0           0  A002  R051  02-00-00   59 ST  NQR456W      BMT  05/27/2017   \n",
       "1           1  A002  R051  02-00-00   59 ST  NQR456W      BMT  05/27/2017   \n",
       "2           2  A002  R051  02-00-00   59 ST  NQR456W      BMT  05/27/2017   \n",
       "3           3  A002  R051  02-00-00   59 ST  NQR456W      BMT  05/27/2017   \n",
       "4           4  A002  R051  02-00-00   59 ST  NQR456W      BMT  05/27/2017   \n",
       "\n",
       "       time     desc  entries    exits                    id     hourly  \n",
       "0  00:00:00  REGULAR  6195217  2098317  59 STNQR456W02-00-00  5992912.0  \n",
       "1  04:00:00  REGULAR  6195240  2098318  59 STNQR456W02-00-00       23.0  \n",
       "2  08:00:00  REGULAR  6195256  2098347  59 STNQR456W02-00-00       16.0  \n",
       "3  12:00:00  REGULAR  6195346  2098432  59 STNQR456W02-00-00       90.0  \n",
       "4  16:00:00  REGULAR  6195518  2098491  59 STNQR456W02-00-00      172.0  "
      ]
     },
     "execution_count": 36,
     "metadata": {},
     "output_type": "execute_result"
    }
   ],
   "source": [
    "test.head()"
   ]
  },
  {
   "cell_type": "code",
   "execution_count": 37,
   "metadata": {},
   "outputs": [
    {
     "data": {
      "text/plain": [
       "(array([  1.23000000e+02,   4.10000000e+01,   4.20000000e+01,\n",
       "          4.20000000e+01,   4.10000000e+01,   4.20000000e+01,\n",
       "          0.00000000e+00,   4.10000000e+01,   4.10000000e+01,\n",
       "          8.30000000e+01,   0.00000000e+00,   4.20000000e+01,\n",
       "          1.67000000e+02,   8.40000000e+01,   1.65498000e+05,\n",
       "          2.43510000e+04,   8.40000000e+01,   1.24000000e+02,\n",
       "          4.30000000e+01,   0.00000000e+00,   8.30000000e+01,\n",
       "          4.20000000e+01,   4.20000000e+01,   0.00000000e+00,\n",
       "          4.10000000e+01,   0.00000000e+00,   4.10000000e+01,\n",
       "          4.30000000e+01,   8.40000000e+01,   1.22000000e+02]),\n",
       " array([ -1.94805603e+09,  -1.81818560e+09,  -1.68831517e+09,\n",
       "         -1.55844474e+09,  -1.42857431e+09,  -1.29870388e+09,\n",
       "         -1.16883345e+09,  -1.03896302e+09,  -9.09092587e+08,\n",
       "         -7.79222157e+08,  -6.49351727e+08,  -5.19481297e+08,\n",
       "         -3.89610867e+08,  -2.59740437e+08,  -1.29870007e+08,\n",
       "          4.23000000e+02,   1.29870853e+08,   2.59741283e+08,\n",
       "          3.89611713e+08,   5.19482143e+08,   6.49352573e+08,\n",
       "          7.79223003e+08,   9.09093433e+08,   1.03896386e+09,\n",
       "          1.16883429e+09,   1.29870472e+09,   1.42857515e+09,\n",
       "          1.55844558e+09,   1.68831601e+09,   1.81818644e+09,\n",
       "          1.94805687e+09]),\n",
       " <a list of 30 Patch objects>)"
      ]
     },
     "execution_count": 37,
     "metadata": {},
     "output_type": "execute_result"
    },
    {
     "data": {
      "image/png": "[encoded data removed]",
      "text/plain": [
       "<matplotlib.figure.Figure at 0x11c5e2208>"
      ]
     },
     "metadata": {},
     "output_type": "display_data"
    }
   ],
   "source": [
    "plt.hist(test_diff_sorted.dropna(), bins=30)"
   ]
  },
  {
   "cell_type": "code",
   "execution_count": 38,
   "metadata": {},
   "outputs": [
    {
     "data": {
      "text/plain": [
       "230"
      ]
     },
     "execution_count": 38,
     "metadata": {},
     "output_type": "execute_result"
    }
   ],
   "source": [
    "len(test.scp.unique())"
   ]
  },
  {
   "cell_type": "markdown",
   "metadata": {},
   "source": [
    "Since there are more units than there are scps maybe we should throw them into the grouping mix, too. "
   ]
  },
  {
   "cell_type": "code",
   "execution_count": 39,
   "metadata": {
    "collapsed": true
   },
   "outputs": [],
   "source": [
    "test_diff_sorted_units = test.sort_values(['date','time'], ascending=True).groupby(['station','linename','unit','scp'])['entries'].diff()"
   ]
  },
  {
   "cell_type": "code",
   "execution_count": 40,
   "metadata": {},
   "outputs": [
    {
     "data": {
      "text/plain": [
       "count    1.912700e+05\n",
       "mean     2.150756e+03\n",
       "std      5.708554e+05\n",
       "min     -4.470296e+06\n",
       "25%      8.000000e+00\n",
       "50%      6.700000e+01\n",
       "75%      2.230000e+02\n",
       "max      1.979471e+08\n",
       "Name: entries, dtype: float64"
      ]
     },
     "execution_count": 40,
     "metadata": {},
     "output_type": "execute_result"
    }
   ],
   "source": [
    "len(test_diff_sorted_units)\n",
    "test_diff_sorted_units.describe()"
   ]
  },
  {
   "cell_type": "code",
   "execution_count": 41,
   "metadata": {},
   "outputs": [
    {
     "data": {
      "text/plain": [
       "2150.756"
      ]
     },
     "execution_count": 41,
     "metadata": {},
     "output_type": "execute_result"
    }
   ],
   "source": [
    "2.150756e+03"
   ]
  },
  {
   "cell_type": "code",
   "execution_count": 42,
   "metadata": {},
   "outputs": [
    {
     "data": {
      "text/plain": [
       "False    191270\n",
       "True       4688\n",
       "Name: entries, dtype: int64"
      ]
     },
     "execution_count": 42,
     "metadata": {},
     "output_type": "execute_result"
    }
   ],
   "source": [
    "test_diff_sorted_units.isnull().value_counts()"
   ]
  },
  {
   "cell_type": "markdown",
   "metadata": {},
   "source": [
    "So this is the best the data set has ever been but I am still not sure that it is meaningful. What is this thing doing? "
   ]
  },
  {
   "cell_type": "code",
   "execution_count": 43,
   "metadata": {},
   "outputs": [
    {
     "data": {
      "image/png": "[encoded data removed]",
      "text/plain": [
       "<matplotlib.figure.Figure at 0x11f2832b0>"
      ]
     },
     "metadata": {},
     "output_type": "display_data"
    }
   ],
   "source": [
    "plt.hist(test_diff_sorted_units.dropna());"
   ]
  },
  {
   "cell_type": "markdown",
   "metadata": {},
   "source": [
    "I have to find a way to get rid of the reset caused problems. I want to go through and assign the value of missing (nan) to any data point where the value is zero and the value preceeding it is greater than 10,000.  \n",
    "\n",
    "Also, I want to compare the effects of sorting with units before scps or scps before units or leaving one or the other out.  \n",
    "\n",
    "Finally, I want to think about my assumption that large values or large standard deviations are an infallible indicator of bad data.  "
   ]
  },
  {
   "cell_type": "code",
   "execution_count": 44,
   "metadata": {
    "collapsed": true
   },
   "outputs": [],
   "source": [
    "# testing = test.groupby(['station','linename','scp','unit'])apply(lambda x: \\\n",
    "#                                                              x.sort_values(['date','time'])).diff()"
   ]
  },
  {
   "cell_type": "code",
   "execution_count": 45,
   "metadata": {
    "collapsed": true
   },
   "outputs": [],
   "source": [
    "testing = test.groupby(['station','linename','scp','unit'])['entries'].diff()"
   ]
  },
  {
   "cell_type": "code",
   "execution_count": 46,
   "metadata": {
    "collapsed": true
   },
   "outputs": [],
   "source": [
    "testing2 = abs(testing)"
   ]
  },
  {
   "cell_type": "code",
   "execution_count": 47,
   "metadata": {
    "collapsed": true
   },
   "outputs": [],
   "source": [
    "testing2[testing2 >3000] = np.nan"
   ]
  },
  {
   "cell_type": "code",
   "execution_count": 48,
   "metadata": {},
   "outputs": [
    {
     "data": {
      "image/png": "[encoded data removed]",
      "text/plain": [
       "<matplotlib.figure.Figure at 0x11be59fd0>"
      ]
     },
     "metadata": {},
     "output_type": "display_data"
    }
   ],
   "source": [
    "plt.xscale('log')\n",
    "plt.hist(testing2.dropna(), bins=30);"
   ]
  },
  {
   "cell_type": "code",
   "execution_count": 49,
   "metadata": {},
   "outputs": [
    {
     "name": "stdout",
     "output_type": "stream",
     "text": [
      "4743      2630.0\n",
      "46237     2822.0\n",
      "151010    2608.0\n",
      "151016    2776.0\n",
      "151046    2769.0\n",
      "151052    2622.0\n",
      "151130    2854.0\n",
      "151136    2564.0\n",
      "151142    2678.0\n",
      "152055    2523.0\n",
      "152085    2861.0\n",
      "152091    2965.0\n",
      "152097    2769.0\n",
      "157156    2697.0\n",
      "157207    2729.0\n",
      "175952    2508.0\n",
      "Name: entries, dtype: float64\n"
     ]
    }
   ],
   "source": [
    "print(testing2[testing2>2500])"
   ]
  },
  {
   "cell_type": "code",
   "execution_count": 50,
   "metadata": {},
   "outputs": [
    {
     "name": "stdout",
     "output_type": "stream",
     "text": [
      "195958\n",
      "195958\n"
     ]
    }
   ],
   "source": [
    "print(len(testing2))\n",
    "print(len(test))"
   ]
  },
  {
   "cell_type": "code",
   "execution_count": 51,
   "metadata": {
    "collapsed": true
   },
   "outputs": [],
   "source": [
    "test['hourly'] = testing2"
   ]
  },
  {
   "cell_type": "code",
   "execution_count": 52,
   "metadata": {},
   "outputs": [
    {
     "data": {
      "text/html": [
       "<div>\n",
       "<style>\n",
       "    .dataframe thead tr:only-child th {\n",
       "        text-align: right;\n",
       "    }\n",
       "\n",
       "    .dataframe thead th {\n",
       "        text-align: left;\n",
       "    }\n",
       "\n",
       "    .dataframe tbody tr th {\n",
       "        vertical-align: top;\n",
       "    }\n",
       "</style>\n",
       "<table border=\"1\" class=\"dataframe\">\n",
       "  <thead>\n",
       "    <tr style=\"text-align: right;\">\n",
       "      <th></th>\n",
       "      <th>unnamed: 0</th>\n",
       "      <th>c/a</th>\n",
       "      <th>unit</th>\n",
       "      <th>scp</th>\n",
       "      <th>station</th>\n",
       "      <th>linename</th>\n",
       "      <th>division</th>\n",
       "      <th>date</th>\n",
       "      <th>time</th>\n",
       "      <th>desc</th>\n",
       "      <th>entries</th>\n",
       "      <th>exits</th>\n",
       "      <th>id</th>\n",
       "      <th>hourly</th>\n",
       "    </tr>\n",
       "  </thead>\n",
       "  <tbody>\n",
       "    <tr>\n",
       "      <th>0</th>\n",
       "      <td>0</td>\n",
       "      <td>A002</td>\n",
       "      <td>R051</td>\n",
       "      <td>02-00-00</td>\n",
       "      <td>59 ST</td>\n",
       "      <td>NQR456W</td>\n",
       "      <td>BMT</td>\n",
       "      <td>05/27/2017</td>\n",
       "      <td>00:00:00</td>\n",
       "      <td>REGULAR</td>\n",
       "      <td>6195217</td>\n",
       "      <td>2098317</td>\n",
       "      <td>59 STNQR456W02-00-00</td>\n",
       "      <td>NaN</td>\n",
       "    </tr>\n",
       "    <tr>\n",
       "      <th>1</th>\n",
       "      <td>1</td>\n",
       "      <td>A002</td>\n",
       "      <td>R051</td>\n",
       "      <td>02-00-00</td>\n",
       "      <td>59 ST</td>\n",
       "      <td>NQR456W</td>\n",
       "      <td>BMT</td>\n",
       "      <td>05/27/2017</td>\n",
       "      <td>04:00:00</td>\n",
       "      <td>REGULAR</td>\n",
       "      <td>6195240</td>\n",
       "      <td>2098318</td>\n",
       "      <td>59 STNQR456W02-00-00</td>\n",
       "      <td>23.0</td>\n",
       "    </tr>\n",
       "    <tr>\n",
       "      <th>2</th>\n",
       "      <td>2</td>\n",
       "      <td>A002</td>\n",
       "      <td>R051</td>\n",
       "      <td>02-00-00</td>\n",
       "      <td>59 ST</td>\n",
       "      <td>NQR456W</td>\n",
       "      <td>BMT</td>\n",
       "      <td>05/27/2017</td>\n",
       "      <td>08:00:00</td>\n",
       "      <td>REGULAR</td>\n",
       "      <td>6195256</td>\n",
       "      <td>2098347</td>\n",
       "      <td>59 STNQR456W02-00-00</td>\n",
       "      <td>16.0</td>\n",
       "    </tr>\n",
       "    <tr>\n",
       "      <th>3</th>\n",
       "      <td>3</td>\n",
       "      <td>A002</td>\n",
       "      <td>R051</td>\n",
       "      <td>02-00-00</td>\n",
       "      <td>59 ST</td>\n",
       "      <td>NQR456W</td>\n",
       "      <td>BMT</td>\n",
       "      <td>05/27/2017</td>\n",
       "      <td>12:00:00</td>\n",
       "      <td>REGULAR</td>\n",
       "      <td>6195346</td>\n",
       "      <td>2098432</td>\n",
       "      <td>59 STNQR456W02-00-00</td>\n",
       "      <td>90.0</td>\n",
       "    </tr>\n",
       "    <tr>\n",
       "      <th>4</th>\n",
       "      <td>4</td>\n",
       "      <td>A002</td>\n",
       "      <td>R051</td>\n",
       "      <td>02-00-00</td>\n",
       "      <td>59 ST</td>\n",
       "      <td>NQR456W</td>\n",
       "      <td>BMT</td>\n",
       "      <td>05/27/2017</td>\n",
       "      <td>16:00:00</td>\n",
       "      <td>REGULAR</td>\n",
       "      <td>6195518</td>\n",
       "      <td>2098491</td>\n",
       "      <td>59 STNQR456W02-00-00</td>\n",
       "      <td>172.0</td>\n",
       "    </tr>\n",
       "  </tbody>\n",
       "</table>\n",
       "</div>"
      ],
      "text/plain": [
       "   unnamed: 0   c/a  unit       scp station linename division        date  \\\n",
       "0           0  A002  R051  02-00-00   59 ST  NQR456W      BMT  05/27/2017   \n",
       "1           1  A002  R051  02-00-00   59 ST  NQR456W      BMT  05/27/2017   \n",
       "2           2  A002  R051  02-00-00   59 ST  NQR456W      BMT  05/27/2017   \n",
       "3           3  A002  R051  02-00-00   59 ST  NQR456W      BMT  05/27/2017   \n",
       "4           4  A002  R051  02-00-00   59 ST  NQR456W      BMT  05/27/2017   \n",
       "\n",
       "       time     desc  entries    exits                    id  hourly  \n",
       "0  00:00:00  REGULAR  6195217  2098317  59 STNQR456W02-00-00     NaN  \n",
       "1  04:00:00  REGULAR  6195240  2098318  59 STNQR456W02-00-00    23.0  \n",
       "2  08:00:00  REGULAR  6195256  2098347  59 STNQR456W02-00-00    16.0  \n",
       "3  12:00:00  REGULAR  6195346  2098432  59 STNQR456W02-00-00    90.0  \n",
       "4  16:00:00  REGULAR  6195518  2098491  59 STNQR456W02-00-00   172.0  "
      ]
     },
     "execution_count": 52,
     "metadata": {},
     "output_type": "execute_result"
    }
   ],
   "source": [
    "test.head()"
   ]
  },
  {
   "cell_type": "code",
   "execution_count": 53,
   "metadata": {},
   "outputs": [
    {
     "data": {
      "text/html": [
       "<div>\n",
       "<style>\n",
       "    .dataframe thead tr:only-child th {\n",
       "        text-align: right;\n",
       "    }\n",
       "\n",
       "    .dataframe thead th {\n",
       "        text-align: left;\n",
       "    }\n",
       "\n",
       "    .dataframe tbody tr th {\n",
       "        vertical-align: top;\n",
       "    }\n",
       "</style>\n",
       "<table border=\"1\" class=\"dataframe\">\n",
       "  <thead>\n",
       "    <tr style=\"text-align: right;\">\n",
       "      <th></th>\n",
       "      <th>unnamed: 0</th>\n",
       "      <th>c/a</th>\n",
       "      <th>unit</th>\n",
       "      <th>scp</th>\n",
       "      <th>station</th>\n",
       "      <th>linename</th>\n",
       "      <th>division</th>\n",
       "      <th>date</th>\n",
       "      <th>time</th>\n",
       "      <th>desc</th>\n",
       "      <th>entries</th>\n",
       "      <th>exits</th>\n",
       "      <th>id</th>\n",
       "      <th>hourly</th>\n",
       "    </tr>\n",
       "  </thead>\n",
       "  <tbody>\n",
       "    <tr>\n",
       "      <th>0</th>\n",
       "      <td>0</td>\n",
       "      <td>A002</td>\n",
       "      <td>R051</td>\n",
       "      <td>02-00-00</td>\n",
       "      <td>59 ST</td>\n",
       "      <td>NQR456W</td>\n",
       "      <td>BMT</td>\n",
       "      <td>05/27/2017</td>\n",
       "      <td>00:00:00</td>\n",
       "      <td>REGULAR</td>\n",
       "      <td>6195217</td>\n",
       "      <td>2098317</td>\n",
       "      <td>59 STNQR456W02-00-00</td>\n",
       "      <td>NaN</td>\n",
       "    </tr>\n",
       "    <tr>\n",
       "      <th>1</th>\n",
       "      <td>1</td>\n",
       "      <td>A002</td>\n",
       "      <td>R051</td>\n",
       "      <td>02-00-00</td>\n",
       "      <td>59 ST</td>\n",
       "      <td>NQR456W</td>\n",
       "      <td>BMT</td>\n",
       "      <td>05/27/2017</td>\n",
       "      <td>04:00:00</td>\n",
       "      <td>REGULAR</td>\n",
       "      <td>6195240</td>\n",
       "      <td>2098318</td>\n",
       "      <td>59 STNQR456W02-00-00</td>\n",
       "      <td>23.0</td>\n",
       "    </tr>\n",
       "    <tr>\n",
       "      <th>2</th>\n",
       "      <td>2</td>\n",
       "      <td>A002</td>\n",
       "      <td>R051</td>\n",
       "      <td>02-00-00</td>\n",
       "      <td>59 ST</td>\n",
       "      <td>NQR456W</td>\n",
       "      <td>BMT</td>\n",
       "      <td>05/27/2017</td>\n",
       "      <td>08:00:00</td>\n",
       "      <td>REGULAR</td>\n",
       "      <td>6195256</td>\n",
       "      <td>2098347</td>\n",
       "      <td>59 STNQR456W02-00-00</td>\n",
       "      <td>16.0</td>\n",
       "    </tr>\n",
       "    <tr>\n",
       "      <th>3</th>\n",
       "      <td>3</td>\n",
       "      <td>A002</td>\n",
       "      <td>R051</td>\n",
       "      <td>02-00-00</td>\n",
       "      <td>59 ST</td>\n",
       "      <td>NQR456W</td>\n",
       "      <td>BMT</td>\n",
       "      <td>05/27/2017</td>\n",
       "      <td>12:00:00</td>\n",
       "      <td>REGULAR</td>\n",
       "      <td>6195346</td>\n",
       "      <td>2098432</td>\n",
       "      <td>59 STNQR456W02-00-00</td>\n",
       "      <td>90.0</td>\n",
       "    </tr>\n",
       "    <tr>\n",
       "      <th>4</th>\n",
       "      <td>4</td>\n",
       "      <td>A002</td>\n",
       "      <td>R051</td>\n",
       "      <td>02-00-00</td>\n",
       "      <td>59 ST</td>\n",
       "      <td>NQR456W</td>\n",
       "      <td>BMT</td>\n",
       "      <td>05/27/2017</td>\n",
       "      <td>16:00:00</td>\n",
       "      <td>REGULAR</td>\n",
       "      <td>6195518</td>\n",
       "      <td>2098491</td>\n",
       "      <td>59 STNQR456W02-00-00</td>\n",
       "      <td>172.0</td>\n",
       "    </tr>\n",
       "    <tr>\n",
       "      <th>5</th>\n",
       "      <td>5</td>\n",
       "      <td>A002</td>\n",
       "      <td>R051</td>\n",
       "      <td>02-00-00</td>\n",
       "      <td>59 ST</td>\n",
       "      <td>NQR456W</td>\n",
       "      <td>BMT</td>\n",
       "      <td>05/27/2017</td>\n",
       "      <td>20:00:00</td>\n",
       "      <td>REGULAR</td>\n",
       "      <td>6195765</td>\n",
       "      <td>2098537</td>\n",
       "      <td>59 STNQR456W02-00-00</td>\n",
       "      <td>247.0</td>\n",
       "    </tr>\n",
       "    <tr>\n",
       "      <th>6</th>\n",
       "      <td>6</td>\n",
       "      <td>A002</td>\n",
       "      <td>R051</td>\n",
       "      <td>02-00-00</td>\n",
       "      <td>59 ST</td>\n",
       "      <td>NQR456W</td>\n",
       "      <td>BMT</td>\n",
       "      <td>05/28/2017</td>\n",
       "      <td>00:00:00</td>\n",
       "      <td>REGULAR</td>\n",
       "      <td>6195898</td>\n",
       "      <td>2098559</td>\n",
       "      <td>59 STNQR456W02-00-00</td>\n",
       "      <td>133.0</td>\n",
       "    </tr>\n",
       "    <tr>\n",
       "      <th>7</th>\n",
       "      <td>7</td>\n",
       "      <td>A002</td>\n",
       "      <td>R051</td>\n",
       "      <td>02-00-00</td>\n",
       "      <td>59 ST</td>\n",
       "      <td>NQR456W</td>\n",
       "      <td>BMT</td>\n",
       "      <td>05/28/2017</td>\n",
       "      <td>04:00:00</td>\n",
       "      <td>REGULAR</td>\n",
       "      <td>6195914</td>\n",
       "      <td>2098562</td>\n",
       "      <td>59 STNQR456W02-00-00</td>\n",
       "      <td>16.0</td>\n",
       "    </tr>\n",
       "    <tr>\n",
       "      <th>8</th>\n",
       "      <td>8</td>\n",
       "      <td>A002</td>\n",
       "      <td>R051</td>\n",
       "      <td>02-00-00</td>\n",
       "      <td>59 ST</td>\n",
       "      <td>NQR456W</td>\n",
       "      <td>BMT</td>\n",
       "      <td>05/28/2017</td>\n",
       "      <td>08:00:00</td>\n",
       "      <td>REGULAR</td>\n",
       "      <td>6195930</td>\n",
       "      <td>2098581</td>\n",
       "      <td>59 STNQR456W02-00-00</td>\n",
       "      <td>16.0</td>\n",
       "    </tr>\n",
       "    <tr>\n",
       "      <th>9</th>\n",
       "      <td>9</td>\n",
       "      <td>A002</td>\n",
       "      <td>R051</td>\n",
       "      <td>02-00-00</td>\n",
       "      <td>59 ST</td>\n",
       "      <td>NQR456W</td>\n",
       "      <td>BMT</td>\n",
       "      <td>05/28/2017</td>\n",
       "      <td>12:00:00</td>\n",
       "      <td>REGULAR</td>\n",
       "      <td>6196024</td>\n",
       "      <td>2098646</td>\n",
       "      <td>59 STNQR456W02-00-00</td>\n",
       "      <td>94.0</td>\n",
       "    </tr>\n",
       "    <tr>\n",
       "      <th>10</th>\n",
       "      <td>10</td>\n",
       "      <td>A002</td>\n",
       "      <td>R051</td>\n",
       "      <td>02-00-00</td>\n",
       "      <td>59 ST</td>\n",
       "      <td>NQR456W</td>\n",
       "      <td>BMT</td>\n",
       "      <td>05/28/2017</td>\n",
       "      <td>16:00:00</td>\n",
       "      <td>REGULAR</td>\n",
       "      <td>6196186</td>\n",
       "      <td>2098685</td>\n",
       "      <td>59 STNQR456W02-00-00</td>\n",
       "      <td>162.0</td>\n",
       "    </tr>\n",
       "    <tr>\n",
       "      <th>11</th>\n",
       "      <td>11</td>\n",
       "      <td>A002</td>\n",
       "      <td>R051</td>\n",
       "      <td>02-00-00</td>\n",
       "      <td>59 ST</td>\n",
       "      <td>NQR456W</td>\n",
       "      <td>BMT</td>\n",
       "      <td>05/28/2017</td>\n",
       "      <td>20:00:00</td>\n",
       "      <td>REGULAR</td>\n",
       "      <td>6196446</td>\n",
       "      <td>2098723</td>\n",
       "      <td>59 STNQR456W02-00-00</td>\n",
       "      <td>260.0</td>\n",
       "    </tr>\n",
       "    <tr>\n",
       "      <th>12</th>\n",
       "      <td>12</td>\n",
       "      <td>A002</td>\n",
       "      <td>R051</td>\n",
       "      <td>02-00-00</td>\n",
       "      <td>59 ST</td>\n",
       "      <td>NQR456W</td>\n",
       "      <td>BMT</td>\n",
       "      <td>05/29/2017</td>\n",
       "      <td>00:00:00</td>\n",
       "      <td>REGULAR</td>\n",
       "      <td>6196569</td>\n",
       "      <td>2098745</td>\n",
       "      <td>59 STNQR456W02-00-00</td>\n",
       "      <td>123.0</td>\n",
       "    </tr>\n",
       "    <tr>\n",
       "      <th>13</th>\n",
       "      <td>13</td>\n",
       "      <td>A002</td>\n",
       "      <td>R051</td>\n",
       "      <td>02-00-00</td>\n",
       "      <td>59 ST</td>\n",
       "      <td>NQR456W</td>\n",
       "      <td>BMT</td>\n",
       "      <td>05/29/2017</td>\n",
       "      <td>04:00:00</td>\n",
       "      <td>REGULAR</td>\n",
       "      <td>6196587</td>\n",
       "      <td>2098747</td>\n",
       "      <td>59 STNQR456W02-00-00</td>\n",
       "      <td>18.0</td>\n",
       "    </tr>\n",
       "    <tr>\n",
       "      <th>14</th>\n",
       "      <td>14</td>\n",
       "      <td>A002</td>\n",
       "      <td>R051</td>\n",
       "      <td>02-00-00</td>\n",
       "      <td>59 ST</td>\n",
       "      <td>NQR456W</td>\n",
       "      <td>BMT</td>\n",
       "      <td>05/29/2017</td>\n",
       "      <td>08:00:00</td>\n",
       "      <td>REGULAR</td>\n",
       "      <td>6196597</td>\n",
       "      <td>2098766</td>\n",
       "      <td>59 STNQR456W02-00-00</td>\n",
       "      <td>10.0</td>\n",
       "    </tr>\n",
       "    <tr>\n",
       "      <th>15</th>\n",
       "      <td>15</td>\n",
       "      <td>A002</td>\n",
       "      <td>R051</td>\n",
       "      <td>02-00-00</td>\n",
       "      <td>59 ST</td>\n",
       "      <td>NQR456W</td>\n",
       "      <td>BMT</td>\n",
       "      <td>05/29/2017</td>\n",
       "      <td>12:00:00</td>\n",
       "      <td>REGULAR</td>\n",
       "      <td>6196666</td>\n",
       "      <td>2098845</td>\n",
       "      <td>59 STNQR456W02-00-00</td>\n",
       "      <td>69.0</td>\n",
       "    </tr>\n",
       "    <tr>\n",
       "      <th>16</th>\n",
       "      <td>16</td>\n",
       "      <td>A002</td>\n",
       "      <td>R051</td>\n",
       "      <td>02-00-00</td>\n",
       "      <td>59 ST</td>\n",
       "      <td>NQR456W</td>\n",
       "      <td>BMT</td>\n",
       "      <td>05/29/2017</td>\n",
       "      <td>16:00:00</td>\n",
       "      <td>REGULAR</td>\n",
       "      <td>6196853</td>\n",
       "      <td>2098891</td>\n",
       "      <td>59 STNQR456W02-00-00</td>\n",
       "      <td>187.0</td>\n",
       "    </tr>\n",
       "    <tr>\n",
       "      <th>17</th>\n",
       "      <td>17</td>\n",
       "      <td>A002</td>\n",
       "      <td>R051</td>\n",
       "      <td>02-00-00</td>\n",
       "      <td>59 ST</td>\n",
       "      <td>NQR456W</td>\n",
       "      <td>BMT</td>\n",
       "      <td>05/29/2017</td>\n",
       "      <td>20:00:00</td>\n",
       "      <td>REGULAR</td>\n",
       "      <td>6197107</td>\n",
       "      <td>2098922</td>\n",
       "      <td>59 STNQR456W02-00-00</td>\n",
       "      <td>254.0</td>\n",
       "    </tr>\n",
       "    <tr>\n",
       "      <th>18</th>\n",
       "      <td>18</td>\n",
       "      <td>A002</td>\n",
       "      <td>R051</td>\n",
       "      <td>02-00-00</td>\n",
       "      <td>59 ST</td>\n",
       "      <td>NQR456W</td>\n",
       "      <td>BMT</td>\n",
       "      <td>05/30/2017</td>\n",
       "      <td>00:00:00</td>\n",
       "      <td>REGULAR</td>\n",
       "      <td>6197230</td>\n",
       "      <td>2098946</td>\n",
       "      <td>59 STNQR456W02-00-00</td>\n",
       "      <td>123.0</td>\n",
       "    </tr>\n",
       "    <tr>\n",
       "      <th>19</th>\n",
       "      <td>19</td>\n",
       "      <td>A002</td>\n",
       "      <td>R051</td>\n",
       "      <td>02-00-00</td>\n",
       "      <td>59 ST</td>\n",
       "      <td>NQR456W</td>\n",
       "      <td>BMT</td>\n",
       "      <td>05/30/2017</td>\n",
       "      <td>04:00:00</td>\n",
       "      <td>REGULAR</td>\n",
       "      <td>6197238</td>\n",
       "      <td>2098949</td>\n",
       "      <td>59 STNQR456W02-00-00</td>\n",
       "      <td>8.0</td>\n",
       "    </tr>\n",
       "    <tr>\n",
       "      <th>20</th>\n",
       "      <td>20</td>\n",
       "      <td>A002</td>\n",
       "      <td>R051</td>\n",
       "      <td>02-00-00</td>\n",
       "      <td>59 ST</td>\n",
       "      <td>NQR456W</td>\n",
       "      <td>BMT</td>\n",
       "      <td>05/30/2017</td>\n",
       "      <td>08:00:00</td>\n",
       "      <td>REGULAR</td>\n",
       "      <td>6197288</td>\n",
       "      <td>2099066</td>\n",
       "      <td>59 STNQR456W02-00-00</td>\n",
       "      <td>50.0</td>\n",
       "    </tr>\n",
       "    <tr>\n",
       "      <th>21</th>\n",
       "      <td>21</td>\n",
       "      <td>A002</td>\n",
       "      <td>R051</td>\n",
       "      <td>02-00-00</td>\n",
       "      <td>59 ST</td>\n",
       "      <td>NQR456W</td>\n",
       "      <td>BMT</td>\n",
       "      <td>05/30/2017</td>\n",
       "      <td>12:00:00</td>\n",
       "      <td>REGULAR</td>\n",
       "      <td>6197470</td>\n",
       "      <td>2099345</td>\n",
       "      <td>59 STNQR456W02-00-00</td>\n",
       "      <td>182.0</td>\n",
       "    </tr>\n",
       "    <tr>\n",
       "      <th>22</th>\n",
       "      <td>22</td>\n",
       "      <td>A002</td>\n",
       "      <td>R051</td>\n",
       "      <td>02-00-00</td>\n",
       "      <td>59 ST</td>\n",
       "      <td>NQR456W</td>\n",
       "      <td>BMT</td>\n",
       "      <td>05/30/2017</td>\n",
       "      <td>16:00:00</td>\n",
       "      <td>REGULAR</td>\n",
       "      <td>6197790</td>\n",
       "      <td>2099442</td>\n",
       "      <td>59 STNQR456W02-00-00</td>\n",
       "      <td>320.0</td>\n",
       "    </tr>\n",
       "    <tr>\n",
       "      <th>23</th>\n",
       "      <td>23</td>\n",
       "      <td>A002</td>\n",
       "      <td>R051</td>\n",
       "      <td>02-00-00</td>\n",
       "      <td>59 ST</td>\n",
       "      <td>NQR456W</td>\n",
       "      <td>BMT</td>\n",
       "      <td>05/30/2017</td>\n",
       "      <td>20:00:00</td>\n",
       "      <td>REGULAR</td>\n",
       "      <td>6198624</td>\n",
       "      <td>2099521</td>\n",
       "      <td>59 STNQR456W02-00-00</td>\n",
       "      <td>834.0</td>\n",
       "    </tr>\n",
       "    <tr>\n",
       "      <th>24</th>\n",
       "      <td>24</td>\n",
       "      <td>A002</td>\n",
       "      <td>R051</td>\n",
       "      <td>02-00-00</td>\n",
       "      <td>59 ST</td>\n",
       "      <td>NQR456W</td>\n",
       "      <td>BMT</td>\n",
       "      <td>05/31/2017</td>\n",
       "      <td>00:00:00</td>\n",
       "      <td>REGULAR</td>\n",
       "      <td>6198819</td>\n",
       "      <td>2099552</td>\n",
       "      <td>59 STNQR456W02-00-00</td>\n",
       "      <td>195.0</td>\n",
       "    </tr>\n",
       "    <tr>\n",
       "      <th>25</th>\n",
       "      <td>25</td>\n",
       "      <td>A002</td>\n",
       "      <td>R051</td>\n",
       "      <td>02-00-00</td>\n",
       "      <td>59 ST</td>\n",
       "      <td>NQR456W</td>\n",
       "      <td>BMT</td>\n",
       "      <td>05/31/2017</td>\n",
       "      <td>04:00:00</td>\n",
       "      <td>REGULAR</td>\n",
       "      <td>6198834</td>\n",
       "      <td>2099555</td>\n",
       "      <td>59 STNQR456W02-00-00</td>\n",
       "      <td>15.0</td>\n",
       "    </tr>\n",
       "    <tr>\n",
       "      <th>26</th>\n",
       "      <td>26</td>\n",
       "      <td>A002</td>\n",
       "      <td>R051</td>\n",
       "      <td>02-00-00</td>\n",
       "      <td>59 ST</td>\n",
       "      <td>NQR456W</td>\n",
       "      <td>BMT</td>\n",
       "      <td>05/31/2017</td>\n",
       "      <td>08:00:00</td>\n",
       "      <td>REGULAR</td>\n",
       "      <td>6198880</td>\n",
       "      <td>2099671</td>\n",
       "      <td>59 STNQR456W02-00-00</td>\n",
       "      <td>46.0</td>\n",
       "    </tr>\n",
       "    <tr>\n",
       "      <th>27</th>\n",
       "      <td>27</td>\n",
       "      <td>A002</td>\n",
       "      <td>R051</td>\n",
       "      <td>02-00-00</td>\n",
       "      <td>59 ST</td>\n",
       "      <td>NQR456W</td>\n",
       "      <td>BMT</td>\n",
       "      <td>05/31/2017</td>\n",
       "      <td>12:00:00</td>\n",
       "      <td>REGULAR</td>\n",
       "      <td>6199053</td>\n",
       "      <td>2099950</td>\n",
       "      <td>59 STNQR456W02-00-00</td>\n",
       "      <td>173.0</td>\n",
       "    </tr>\n",
       "    <tr>\n",
       "      <th>28</th>\n",
       "      <td>28</td>\n",
       "      <td>A002</td>\n",
       "      <td>R051</td>\n",
       "      <td>02-00-00</td>\n",
       "      <td>59 ST</td>\n",
       "      <td>NQR456W</td>\n",
       "      <td>BMT</td>\n",
       "      <td>05/31/2017</td>\n",
       "      <td>16:00:00</td>\n",
       "      <td>REGULAR</td>\n",
       "      <td>6199379</td>\n",
       "      <td>2100021</td>\n",
       "      <td>59 STNQR456W02-00-00</td>\n",
       "      <td>326.0</td>\n",
       "    </tr>\n",
       "    <tr>\n",
       "      <th>29</th>\n",
       "      <td>29</td>\n",
       "      <td>A002</td>\n",
       "      <td>R051</td>\n",
       "      <td>02-00-00</td>\n",
       "      <td>59 ST</td>\n",
       "      <td>NQR456W</td>\n",
       "      <td>BMT</td>\n",
       "      <td>05/31/2017</td>\n",
       "      <td>20:00:00</td>\n",
       "      <td>REGULAR</td>\n",
       "      <td>6200200</td>\n",
       "      <td>2100072</td>\n",
       "      <td>59 STNQR456W02-00-00</td>\n",
       "      <td>821.0</td>\n",
       "    </tr>\n",
       "    <tr>\n",
       "      <th>...</th>\n",
       "      <td>...</td>\n",
       "      <td>...</td>\n",
       "      <td>...</td>\n",
       "      <td>...</td>\n",
       "      <td>...</td>\n",
       "      <td>...</td>\n",
       "      <td>...</td>\n",
       "      <td>...</td>\n",
       "      <td>...</td>\n",
       "      <td>...</td>\n",
       "      <td>...</td>\n",
       "      <td>...</td>\n",
       "      <td>...</td>\n",
       "      <td>...</td>\n",
       "    </tr>\n",
       "    <tr>\n",
       "      <th>195928</th>\n",
       "      <td>195928</td>\n",
       "      <td>TRAM2</td>\n",
       "      <td>R469</td>\n",
       "      <td>00-05-01</td>\n",
       "      <td>RIT-ROOSEVELT</td>\n",
       "      <td>R</td>\n",
       "      <td>RIT</td>\n",
       "      <td>05/29/2017</td>\n",
       "      <td>01:00:00</td>\n",
       "      <td>REGULAR</td>\n",
       "      <td>5554</td>\n",
       "      <td>299</td>\n",
       "      <td>RIT-ROOSEVELTR00-05-01</td>\n",
       "      <td>0.0</td>\n",
       "    </tr>\n",
       "    <tr>\n",
       "      <th>195929</th>\n",
       "      <td>195929</td>\n",
       "      <td>TRAM2</td>\n",
       "      <td>R469</td>\n",
       "      <td>00-05-01</td>\n",
       "      <td>RIT-ROOSEVELT</td>\n",
       "      <td>R</td>\n",
       "      <td>RIT</td>\n",
       "      <td>05/29/2017</td>\n",
       "      <td>05:00:00</td>\n",
       "      <td>REGULAR</td>\n",
       "      <td>5554</td>\n",
       "      <td>299</td>\n",
       "      <td>RIT-ROOSEVELTR00-05-01</td>\n",
       "      <td>0.0</td>\n",
       "    </tr>\n",
       "    <tr>\n",
       "      <th>195930</th>\n",
       "      <td>195930</td>\n",
       "      <td>TRAM2</td>\n",
       "      <td>R469</td>\n",
       "      <td>00-05-01</td>\n",
       "      <td>RIT-ROOSEVELT</td>\n",
       "      <td>R</td>\n",
       "      <td>RIT</td>\n",
       "      <td>05/29/2017</td>\n",
       "      <td>09:00:00</td>\n",
       "      <td>REGULAR</td>\n",
       "      <td>5554</td>\n",
       "      <td>299</td>\n",
       "      <td>RIT-ROOSEVELTR00-05-01</td>\n",
       "      <td>0.0</td>\n",
       "    </tr>\n",
       "    <tr>\n",
       "      <th>195931</th>\n",
       "      <td>195931</td>\n",
       "      <td>TRAM2</td>\n",
       "      <td>R469</td>\n",
       "      <td>00-05-01</td>\n",
       "      <td>RIT-ROOSEVELT</td>\n",
       "      <td>R</td>\n",
       "      <td>RIT</td>\n",
       "      <td>05/29/2017</td>\n",
       "      <td>13:00:00</td>\n",
       "      <td>REGULAR</td>\n",
       "      <td>5554</td>\n",
       "      <td>299</td>\n",
       "      <td>RIT-ROOSEVELTR00-05-01</td>\n",
       "      <td>0.0</td>\n",
       "    </tr>\n",
       "    <tr>\n",
       "      <th>195932</th>\n",
       "      <td>195932</td>\n",
       "      <td>TRAM2</td>\n",
       "      <td>R469</td>\n",
       "      <td>00-05-01</td>\n",
       "      <td>RIT-ROOSEVELT</td>\n",
       "      <td>R</td>\n",
       "      <td>RIT</td>\n",
       "      <td>05/29/2017</td>\n",
       "      <td>17:00:00</td>\n",
       "      <td>REGULAR</td>\n",
       "      <td>5554</td>\n",
       "      <td>299</td>\n",
       "      <td>RIT-ROOSEVELTR00-05-01</td>\n",
       "      <td>0.0</td>\n",
       "    </tr>\n",
       "    <tr>\n",
       "      <th>195933</th>\n",
       "      <td>195933</td>\n",
       "      <td>TRAM2</td>\n",
       "      <td>R469</td>\n",
       "      <td>00-05-01</td>\n",
       "      <td>RIT-ROOSEVELT</td>\n",
       "      <td>R</td>\n",
       "      <td>RIT</td>\n",
       "      <td>05/29/2017</td>\n",
       "      <td>21:00:00</td>\n",
       "      <td>REGULAR</td>\n",
       "      <td>5554</td>\n",
       "      <td>299</td>\n",
       "      <td>RIT-ROOSEVELTR00-05-01</td>\n",
       "      <td>0.0</td>\n",
       "    </tr>\n",
       "    <tr>\n",
       "      <th>195934</th>\n",
       "      <td>195934</td>\n",
       "      <td>TRAM2</td>\n",
       "      <td>R469</td>\n",
       "      <td>00-05-01</td>\n",
       "      <td>RIT-ROOSEVELT</td>\n",
       "      <td>R</td>\n",
       "      <td>RIT</td>\n",
       "      <td>05/30/2017</td>\n",
       "      <td>01:00:00</td>\n",
       "      <td>REGULAR</td>\n",
       "      <td>5554</td>\n",
       "      <td>299</td>\n",
       "      <td>RIT-ROOSEVELTR00-05-01</td>\n",
       "      <td>0.0</td>\n",
       "    </tr>\n",
       "    <tr>\n",
       "      <th>195935</th>\n",
       "      <td>195935</td>\n",
       "      <td>TRAM2</td>\n",
       "      <td>R469</td>\n",
       "      <td>00-05-01</td>\n",
       "      <td>RIT-ROOSEVELT</td>\n",
       "      <td>R</td>\n",
       "      <td>RIT</td>\n",
       "      <td>05/30/2017</td>\n",
       "      <td>05:00:00</td>\n",
       "      <td>REGULAR</td>\n",
       "      <td>5554</td>\n",
       "      <td>299</td>\n",
       "      <td>RIT-ROOSEVELTR00-05-01</td>\n",
       "      <td>0.0</td>\n",
       "    </tr>\n",
       "    <tr>\n",
       "      <th>195936</th>\n",
       "      <td>195936</td>\n",
       "      <td>TRAM2</td>\n",
       "      <td>R469</td>\n",
       "      <td>00-05-01</td>\n",
       "      <td>RIT-ROOSEVELT</td>\n",
       "      <td>R</td>\n",
       "      <td>RIT</td>\n",
       "      <td>05/30/2017</td>\n",
       "      <td>09:00:00</td>\n",
       "      <td>REGULAR</td>\n",
       "      <td>5554</td>\n",
       "      <td>299</td>\n",
       "      <td>RIT-ROOSEVELTR00-05-01</td>\n",
       "      <td>0.0</td>\n",
       "    </tr>\n",
       "    <tr>\n",
       "      <th>195937</th>\n",
       "      <td>195937</td>\n",
       "      <td>TRAM2</td>\n",
       "      <td>R469</td>\n",
       "      <td>00-05-01</td>\n",
       "      <td>RIT-ROOSEVELT</td>\n",
       "      <td>R</td>\n",
       "      <td>RIT</td>\n",
       "      <td>05/30/2017</td>\n",
       "      <td>13:00:00</td>\n",
       "      <td>REGULAR</td>\n",
       "      <td>5554</td>\n",
       "      <td>299</td>\n",
       "      <td>RIT-ROOSEVELTR00-05-01</td>\n",
       "      <td>0.0</td>\n",
       "    </tr>\n",
       "    <tr>\n",
       "      <th>195938</th>\n",
       "      <td>195938</td>\n",
       "      <td>TRAM2</td>\n",
       "      <td>R469</td>\n",
       "      <td>00-05-01</td>\n",
       "      <td>RIT-ROOSEVELT</td>\n",
       "      <td>R</td>\n",
       "      <td>RIT</td>\n",
       "      <td>05/30/2017</td>\n",
       "      <td>17:00:00</td>\n",
       "      <td>REGULAR</td>\n",
       "      <td>5554</td>\n",
       "      <td>299</td>\n",
       "      <td>RIT-ROOSEVELTR00-05-01</td>\n",
       "      <td>0.0</td>\n",
       "    </tr>\n",
       "    <tr>\n",
       "      <th>195939</th>\n",
       "      <td>195939</td>\n",
       "      <td>TRAM2</td>\n",
       "      <td>R469</td>\n",
       "      <td>00-05-01</td>\n",
       "      <td>RIT-ROOSEVELT</td>\n",
       "      <td>R</td>\n",
       "      <td>RIT</td>\n",
       "      <td>05/30/2017</td>\n",
       "      <td>21:00:00</td>\n",
       "      <td>REGULAR</td>\n",
       "      <td>5554</td>\n",
       "      <td>299</td>\n",
       "      <td>RIT-ROOSEVELTR00-05-01</td>\n",
       "      <td>0.0</td>\n",
       "    </tr>\n",
       "    <tr>\n",
       "      <th>195940</th>\n",
       "      <td>195940</td>\n",
       "      <td>TRAM2</td>\n",
       "      <td>R469</td>\n",
       "      <td>00-05-01</td>\n",
       "      <td>RIT-ROOSEVELT</td>\n",
       "      <td>R</td>\n",
       "      <td>RIT</td>\n",
       "      <td>05/31/2017</td>\n",
       "      <td>01:00:00</td>\n",
       "      <td>REGULAR</td>\n",
       "      <td>5554</td>\n",
       "      <td>299</td>\n",
       "      <td>RIT-ROOSEVELTR00-05-01</td>\n",
       "      <td>0.0</td>\n",
       "    </tr>\n",
       "    <tr>\n",
       "      <th>195941</th>\n",
       "      <td>195941</td>\n",
       "      <td>TRAM2</td>\n",
       "      <td>R469</td>\n",
       "      <td>00-05-01</td>\n",
       "      <td>RIT-ROOSEVELT</td>\n",
       "      <td>R</td>\n",
       "      <td>RIT</td>\n",
       "      <td>05/31/2017</td>\n",
       "      <td>05:00:00</td>\n",
       "      <td>REGULAR</td>\n",
       "      <td>5554</td>\n",
       "      <td>299</td>\n",
       "      <td>RIT-ROOSEVELTR00-05-01</td>\n",
       "      <td>0.0</td>\n",
       "    </tr>\n",
       "    <tr>\n",
       "      <th>195942</th>\n",
       "      <td>195942</td>\n",
       "      <td>TRAM2</td>\n",
       "      <td>R469</td>\n",
       "      <td>00-05-01</td>\n",
       "      <td>RIT-ROOSEVELT</td>\n",
       "      <td>R</td>\n",
       "      <td>RIT</td>\n",
       "      <td>05/31/2017</td>\n",
       "      <td>09:00:00</td>\n",
       "      <td>REGULAR</td>\n",
       "      <td>5554</td>\n",
       "      <td>299</td>\n",
       "      <td>RIT-ROOSEVELTR00-05-01</td>\n",
       "      <td>0.0</td>\n",
       "    </tr>\n",
       "    <tr>\n",
       "      <th>195943</th>\n",
       "      <td>195943</td>\n",
       "      <td>TRAM2</td>\n",
       "      <td>R469</td>\n",
       "      <td>00-05-01</td>\n",
       "      <td>RIT-ROOSEVELT</td>\n",
       "      <td>R</td>\n",
       "      <td>RIT</td>\n",
       "      <td>05/31/2017</td>\n",
       "      <td>13:00:00</td>\n",
       "      <td>REGULAR</td>\n",
       "      <td>5554</td>\n",
       "      <td>299</td>\n",
       "      <td>RIT-ROOSEVELTR00-05-01</td>\n",
       "      <td>0.0</td>\n",
       "    </tr>\n",
       "    <tr>\n",
       "      <th>195944</th>\n",
       "      <td>195944</td>\n",
       "      <td>TRAM2</td>\n",
       "      <td>R469</td>\n",
       "      <td>00-05-01</td>\n",
       "      <td>RIT-ROOSEVELT</td>\n",
       "      <td>R</td>\n",
       "      <td>RIT</td>\n",
       "      <td>05/31/2017</td>\n",
       "      <td>17:00:00</td>\n",
       "      <td>REGULAR</td>\n",
       "      <td>5554</td>\n",
       "      <td>299</td>\n",
       "      <td>RIT-ROOSEVELTR00-05-01</td>\n",
       "      <td>0.0</td>\n",
       "    </tr>\n",
       "    <tr>\n",
       "      <th>195945</th>\n",
       "      <td>195945</td>\n",
       "      <td>TRAM2</td>\n",
       "      <td>R469</td>\n",
       "      <td>00-05-01</td>\n",
       "      <td>RIT-ROOSEVELT</td>\n",
       "      <td>R</td>\n",
       "      <td>RIT</td>\n",
       "      <td>05/31/2017</td>\n",
       "      <td>21:00:00</td>\n",
       "      <td>REGULAR</td>\n",
       "      <td>5554</td>\n",
       "      <td>299</td>\n",
       "      <td>RIT-ROOSEVELTR00-05-01</td>\n",
       "      <td>0.0</td>\n",
       "    </tr>\n",
       "    <tr>\n",
       "      <th>195946</th>\n",
       "      <td>195946</td>\n",
       "      <td>TRAM2</td>\n",
       "      <td>R469</td>\n",
       "      <td>00-05-01</td>\n",
       "      <td>RIT-ROOSEVELT</td>\n",
       "      <td>R</td>\n",
       "      <td>RIT</td>\n",
       "      <td>06/01/2017</td>\n",
       "      <td>01:00:00</td>\n",
       "      <td>REGULAR</td>\n",
       "      <td>5554</td>\n",
       "      <td>299</td>\n",
       "      <td>RIT-ROOSEVELTR00-05-01</td>\n",
       "      <td>0.0</td>\n",
       "    </tr>\n",
       "    <tr>\n",
       "      <th>195947</th>\n",
       "      <td>195947</td>\n",
       "      <td>TRAM2</td>\n",
       "      <td>R469</td>\n",
       "      <td>00-05-01</td>\n",
       "      <td>RIT-ROOSEVELT</td>\n",
       "      <td>R</td>\n",
       "      <td>RIT</td>\n",
       "      <td>06/01/2017</td>\n",
       "      <td>05:00:00</td>\n",
       "      <td>REGULAR</td>\n",
       "      <td>5554</td>\n",
       "      <td>299</td>\n",
       "      <td>RIT-ROOSEVELTR00-05-01</td>\n",
       "      <td>0.0</td>\n",
       "    </tr>\n",
       "    <tr>\n",
       "      <th>195948</th>\n",
       "      <td>195948</td>\n",
       "      <td>TRAM2</td>\n",
       "      <td>R469</td>\n",
       "      <td>00-05-01</td>\n",
       "      <td>RIT-ROOSEVELT</td>\n",
       "      <td>R</td>\n",
       "      <td>RIT</td>\n",
       "      <td>06/01/2017</td>\n",
       "      <td>09:00:00</td>\n",
       "      <td>REGULAR</td>\n",
       "      <td>5554</td>\n",
       "      <td>299</td>\n",
       "      <td>RIT-ROOSEVELTR00-05-01</td>\n",
       "      <td>0.0</td>\n",
       "    </tr>\n",
       "    <tr>\n",
       "      <th>195949</th>\n",
       "      <td>195949</td>\n",
       "      <td>TRAM2</td>\n",
       "      <td>R469</td>\n",
       "      <td>00-05-01</td>\n",
       "      <td>RIT-ROOSEVELT</td>\n",
       "      <td>R</td>\n",
       "      <td>RIT</td>\n",
       "      <td>06/01/2017</td>\n",
       "      <td>13:00:00</td>\n",
       "      <td>REGULAR</td>\n",
       "      <td>5554</td>\n",
       "      <td>299</td>\n",
       "      <td>RIT-ROOSEVELTR00-05-01</td>\n",
       "      <td>0.0</td>\n",
       "    </tr>\n",
       "    <tr>\n",
       "      <th>195950</th>\n",
       "      <td>195950</td>\n",
       "      <td>TRAM2</td>\n",
       "      <td>R469</td>\n",
       "      <td>00-05-01</td>\n",
       "      <td>RIT-ROOSEVELT</td>\n",
       "      <td>R</td>\n",
       "      <td>RIT</td>\n",
       "      <td>06/01/2017</td>\n",
       "      <td>17:00:00</td>\n",
       "      <td>REGULAR</td>\n",
       "      <td>5554</td>\n",
       "      <td>299</td>\n",
       "      <td>RIT-ROOSEVELTR00-05-01</td>\n",
       "      <td>0.0</td>\n",
       "    </tr>\n",
       "    <tr>\n",
       "      <th>195951</th>\n",
       "      <td>195951</td>\n",
       "      <td>TRAM2</td>\n",
       "      <td>R469</td>\n",
       "      <td>00-05-01</td>\n",
       "      <td>RIT-ROOSEVELT</td>\n",
       "      <td>R</td>\n",
       "      <td>RIT</td>\n",
       "      <td>06/01/2017</td>\n",
       "      <td>21:00:00</td>\n",
       "      <td>REGULAR</td>\n",
       "      <td>5554</td>\n",
       "      <td>299</td>\n",
       "      <td>RIT-ROOSEVELTR00-05-01</td>\n",
       "      <td>0.0</td>\n",
       "    </tr>\n",
       "    <tr>\n",
       "      <th>195952</th>\n",
       "      <td>195952</td>\n",
       "      <td>TRAM2</td>\n",
       "      <td>R469</td>\n",
       "      <td>00-05-01</td>\n",
       "      <td>RIT-ROOSEVELT</td>\n",
       "      <td>R</td>\n",
       "      <td>RIT</td>\n",
       "      <td>06/02/2017</td>\n",
       "      <td>01:00:00</td>\n",
       "      <td>REGULAR</td>\n",
       "      <td>5554</td>\n",
       "      <td>299</td>\n",
       "      <td>RIT-ROOSEVELTR00-05-01</td>\n",
       "      <td>0.0</td>\n",
       "    </tr>\n",
       "    <tr>\n",
       "      <th>195953</th>\n",
       "      <td>195953</td>\n",
       "      <td>TRAM2</td>\n",
       "      <td>R469</td>\n",
       "      <td>00-05-01</td>\n",
       "      <td>RIT-ROOSEVELT</td>\n",
       "      <td>R</td>\n",
       "      <td>RIT</td>\n",
       "      <td>06/02/2017</td>\n",
       "      <td>05:00:00</td>\n",
       "      <td>REGULAR</td>\n",
       "      <td>5554</td>\n",
       "      <td>299</td>\n",
       "      <td>RIT-ROOSEVELTR00-05-01</td>\n",
       "      <td>0.0</td>\n",
       "    </tr>\n",
       "    <tr>\n",
       "      <th>195954</th>\n",
       "      <td>195954</td>\n",
       "      <td>TRAM2</td>\n",
       "      <td>R469</td>\n",
       "      <td>00-05-01</td>\n",
       "      <td>RIT-ROOSEVELT</td>\n",
       "      <td>R</td>\n",
       "      <td>RIT</td>\n",
       "      <td>06/02/2017</td>\n",
       "      <td>09:00:00</td>\n",
       "      <td>REGULAR</td>\n",
       "      <td>5554</td>\n",
       "      <td>299</td>\n",
       "      <td>RIT-ROOSEVELTR00-05-01</td>\n",
       "      <td>0.0</td>\n",
       "    </tr>\n",
       "    <tr>\n",
       "      <th>195955</th>\n",
       "      <td>195955</td>\n",
       "      <td>TRAM2</td>\n",
       "      <td>R469</td>\n",
       "      <td>00-05-01</td>\n",
       "      <td>RIT-ROOSEVELT</td>\n",
       "      <td>R</td>\n",
       "      <td>RIT</td>\n",
       "      <td>06/02/2017</td>\n",
       "      <td>13:00:00</td>\n",
       "      <td>REGULAR</td>\n",
       "      <td>5554</td>\n",
       "      <td>299</td>\n",
       "      <td>RIT-ROOSEVELTR00-05-01</td>\n",
       "      <td>0.0</td>\n",
       "    </tr>\n",
       "    <tr>\n",
       "      <th>195956</th>\n",
       "      <td>195956</td>\n",
       "      <td>TRAM2</td>\n",
       "      <td>R469</td>\n",
       "      <td>00-05-01</td>\n",
       "      <td>RIT-ROOSEVELT</td>\n",
       "      <td>R</td>\n",
       "      <td>RIT</td>\n",
       "      <td>06/02/2017</td>\n",
       "      <td>17:00:00</td>\n",
       "      <td>REGULAR</td>\n",
       "      <td>5554</td>\n",
       "      <td>299</td>\n",
       "      <td>RIT-ROOSEVELTR00-05-01</td>\n",
       "      <td>0.0</td>\n",
       "    </tr>\n",
       "    <tr>\n",
       "      <th>195957</th>\n",
       "      <td>195957</td>\n",
       "      <td>TRAM2</td>\n",
       "      <td>R469</td>\n",
       "      <td>00-05-01</td>\n",
       "      <td>RIT-ROOSEVELT</td>\n",
       "      <td>R</td>\n",
       "      <td>RIT</td>\n",
       "      <td>06/02/2017</td>\n",
       "      <td>21:00:00</td>\n",
       "      <td>REGULAR</td>\n",
       "      <td>5554</td>\n",
       "      <td>299</td>\n",
       "      <td>RIT-ROOSEVELTR00-05-01</td>\n",
       "      <td>0.0</td>\n",
       "    </tr>\n",
       "  </tbody>\n",
       "</table>\n",
       "<p>195958 rows × 14 columns</p>\n",
       "</div>"
      ],
      "text/plain": [
       "        unnamed: 0    c/a  unit       scp        station linename division  \\\n",
       "0                0   A002  R051  02-00-00          59 ST  NQR456W      BMT   \n",
       "1                1   A002  R051  02-00-00          59 ST  NQR456W      BMT   \n",
       "2                2   A002  R051  02-00-00          59 ST  NQR456W      BMT   \n",
       "3                3   A002  R051  02-00-00          59 ST  NQR456W      BMT   \n",
       "4                4   A002  R051  02-00-00          59 ST  NQR456W      BMT   \n",
       "5                5   A002  R051  02-00-00          59 ST  NQR456W      BMT   \n",
       "6                6   A002  R051  02-00-00          59 ST  NQR456W      BMT   \n",
       "7                7   A002  R051  02-00-00          59 ST  NQR456W      BMT   \n",
       "8                8   A002  R051  02-00-00          59 ST  NQR456W      BMT   \n",
       "9                9   A002  R051  02-00-00          59 ST  NQR456W      BMT   \n",
       "10              10   A002  R051  02-00-00          59 ST  NQR456W      BMT   \n",
       "11              11   A002  R051  02-00-00          59 ST  NQR456W      BMT   \n",
       "12              12   A002  R051  02-00-00          59 ST  NQR456W      BMT   \n",
       "13              13   A002  R051  02-00-00          59 ST  NQR456W      BMT   \n",
       "14              14   A002  R051  02-00-00          59 ST  NQR456W      BMT   \n",
       "15              15   A002  R051  02-00-00          59 ST  NQR456W      BMT   \n",
       "16              16   A002  R051  02-00-00          59 ST  NQR456W      BMT   \n",
       "17              17   A002  R051  02-00-00          59 ST  NQR456W      BMT   \n",
       "18              18   A002  R051  02-00-00          59 ST  NQR456W      BMT   \n",
       "19              19   A002  R051  02-00-00          59 ST  NQR456W      BMT   \n",
       "20              20   A002  R051  02-00-00          59 ST  NQR456W      BMT   \n",
       "21              21   A002  R051  02-00-00          59 ST  NQR456W      BMT   \n",
       "22              22   A002  R051  02-00-00          59 ST  NQR456W      BMT   \n",
       "23              23   A002  R051  02-00-00          59 ST  NQR456W      BMT   \n",
       "24              24   A002  R051  02-00-00          59 ST  NQR456W      BMT   \n",
       "25              25   A002  R051  02-00-00          59 ST  NQR456W      BMT   \n",
       "26              26   A002  R051  02-00-00          59 ST  NQR456W      BMT   \n",
       "27              27   A002  R051  02-00-00          59 ST  NQR456W      BMT   \n",
       "28              28   A002  R051  02-00-00          59 ST  NQR456W      BMT   \n",
       "29              29   A002  R051  02-00-00          59 ST  NQR456W      BMT   \n",
       "...            ...    ...   ...       ...            ...      ...      ...   \n",
       "195928      195928  TRAM2  R469  00-05-01  RIT-ROOSEVELT        R      RIT   \n",
       "195929      195929  TRAM2  R469  00-05-01  RIT-ROOSEVELT        R      RIT   \n",
       "195930      195930  TRAM2  R469  00-05-01  RIT-ROOSEVELT        R      RIT   \n",
       "195931      195931  TRAM2  R469  00-05-01  RIT-ROOSEVELT        R      RIT   \n",
       "195932      195932  TRAM2  R469  00-05-01  RIT-ROOSEVELT        R      RIT   \n",
       "195933      195933  TRAM2  R469  00-05-01  RIT-ROOSEVELT        R      RIT   \n",
       "195934      195934  TRAM2  R469  00-05-01  RIT-ROOSEVELT        R      RIT   \n",
       "195935      195935  TRAM2  R469  00-05-01  RIT-ROOSEVELT        R      RIT   \n",
       "195936      195936  TRAM2  R469  00-05-01  RIT-ROOSEVELT        R      RIT   \n",
       "195937      195937  TRAM2  R469  00-05-01  RIT-ROOSEVELT        R      RIT   \n",
       "195938      195938  TRAM2  R469  00-05-01  RIT-ROOSEVELT        R      RIT   \n",
       "195939      195939  TRAM2  R469  00-05-01  RIT-ROOSEVELT        R      RIT   \n",
       "195940      195940  TRAM2  R469  00-05-01  RIT-ROOSEVELT        R      RIT   \n",
       "195941      195941  TRAM2  R469  00-05-01  RIT-ROOSEVELT        R      RIT   \n",
       "195942      195942  TRAM2  R469  00-05-01  RIT-ROOSEVELT        R      RIT   \n",
       "195943      195943  TRAM2  R469  00-05-01  RIT-ROOSEVELT        R      RIT   \n",
       "195944      195944  TRAM2  R469  00-05-01  RIT-ROOSEVELT        R      RIT   \n",
       "195945      195945  TRAM2  R469  00-05-01  RIT-ROOSEVELT        R      RIT   \n",
       "195946      195946  TRAM2  R469  00-05-01  RIT-ROOSEVELT        R      RIT   \n",
       "195947      195947  TRAM2  R469  00-05-01  RIT-ROOSEVELT        R      RIT   \n",
       "195948      195948  TRAM2  R469  00-05-01  RIT-ROOSEVELT        R      RIT   \n",
       "195949      195949  TRAM2  R469  00-05-01  RIT-ROOSEVELT        R      RIT   \n",
       "195950      195950  TRAM2  R469  00-05-01  RIT-ROOSEVELT        R      RIT   \n",
       "195951      195951  TRAM2  R469  00-05-01  RIT-ROOSEVELT        R      RIT   \n",
       "195952      195952  TRAM2  R469  00-05-01  RIT-ROOSEVELT        R      RIT   \n",
       "195953      195953  TRAM2  R469  00-05-01  RIT-ROOSEVELT        R      RIT   \n",
       "195954      195954  TRAM2  R469  00-05-01  RIT-ROOSEVELT        R      RIT   \n",
       "195955      195955  TRAM2  R469  00-05-01  RIT-ROOSEVELT        R      RIT   \n",
       "195956      195956  TRAM2  R469  00-05-01  RIT-ROOSEVELT        R      RIT   \n",
       "195957      195957  TRAM2  R469  00-05-01  RIT-ROOSEVELT        R      RIT   \n",
       "\n",
       "              date      time     desc  entries    exits  \\\n",
       "0       05/27/2017  00:00:00  REGULAR  6195217  2098317   \n",
       "1       05/27/2017  04:00:00  REGULAR  6195240  2098318   \n",
       "2       05/27/2017  08:00:00  REGULAR  6195256  2098347   \n",
       "3       05/27/2017  12:00:00  REGULAR  6195346  2098432   \n",
       "4       05/27/2017  16:00:00  REGULAR  6195518  2098491   \n",
       "5       05/27/2017  20:00:00  REGULAR  6195765  2098537   \n",
       "6       05/28/2017  00:00:00  REGULAR  6195898  2098559   \n",
       "7       05/28/2017  04:00:00  REGULAR  6195914  2098562   \n",
       "8       05/28/2017  08:00:00  REGULAR  6195930  2098581   \n",
       "9       05/28/2017  12:00:00  REGULAR  6196024  2098646   \n",
       "10      05/28/2017  16:00:00  REGULAR  6196186  2098685   \n",
       "11      05/28/2017  20:00:00  REGULAR  6196446  2098723   \n",
       "12      05/29/2017  00:00:00  REGULAR  6196569  2098745   \n",
       "13      05/29/2017  04:00:00  REGULAR  6196587  2098747   \n",
       "14      05/29/2017  08:00:00  REGULAR  6196597  2098766   \n",
       "15      05/29/2017  12:00:00  REGULAR  6196666  2098845   \n",
       "16      05/29/2017  16:00:00  REGULAR  6196853  2098891   \n",
       "17      05/29/2017  20:00:00  REGULAR  6197107  2098922   \n",
       "18      05/30/2017  00:00:00  REGULAR  6197230  2098946   \n",
       "19      05/30/2017  04:00:00  REGULAR  6197238  2098949   \n",
       "20      05/30/2017  08:00:00  REGULAR  6197288  2099066   \n",
       "21      05/30/2017  12:00:00  REGULAR  6197470  2099345   \n",
       "22      05/30/2017  16:00:00  REGULAR  6197790  2099442   \n",
       "23      05/30/2017  20:00:00  REGULAR  6198624  2099521   \n",
       "24      05/31/2017  00:00:00  REGULAR  6198819  2099552   \n",
       "25      05/31/2017  04:00:00  REGULAR  6198834  2099555   \n",
       "26      05/31/2017  08:00:00  REGULAR  6198880  2099671   \n",
       "27      05/31/2017  12:00:00  REGULAR  6199053  2099950   \n",
       "28      05/31/2017  16:00:00  REGULAR  6199379  2100021   \n",
       "29      05/31/2017  20:00:00  REGULAR  6200200  2100072   \n",
       "...            ...       ...      ...      ...      ...   \n",
       "195928  05/29/2017  01:00:00  REGULAR     5554      299   \n",
       "195929  05/29/2017  05:00:00  REGULAR     5554      299   \n",
       "195930  05/29/2017  09:00:00  REGULAR     5554      299   \n",
       "195931  05/29/2017  13:00:00  REGULAR     5554      299   \n",
       "195932  05/29/2017  17:00:00  REGULAR     5554      299   \n",
       "195933  05/29/2017  21:00:00  REGULAR     5554      299   \n",
       "195934  05/30/2017  01:00:00  REGULAR     5554      299   \n",
       "195935  05/30/2017  05:00:00  REGULAR     5554      299   \n",
       "195936  05/30/2017  09:00:00  REGULAR     5554      299   \n",
       "195937  05/30/2017  13:00:00  REGULAR     5554      299   \n",
       "195938  05/30/2017  17:00:00  REGULAR     5554      299   \n",
       "195939  05/30/2017  21:00:00  REGULAR     5554      299   \n",
       "195940  05/31/2017  01:00:00  REGULAR     5554      299   \n",
       "195941  05/31/2017  05:00:00  REGULAR     5554      299   \n",
       "195942  05/31/2017  09:00:00  REGULAR     5554      299   \n",
       "195943  05/31/2017  13:00:00  REGULAR     5554      299   \n",
       "195944  05/31/2017  17:00:00  REGULAR     5554      299   \n",
       "195945  05/31/2017  21:00:00  REGULAR     5554      299   \n",
       "195946  06/01/2017  01:00:00  REGULAR     5554      299   \n",
       "195947  06/01/2017  05:00:00  REGULAR     5554      299   \n",
       "195948  06/01/2017  09:00:00  REGULAR     5554      299   \n",
       "195949  06/01/2017  13:00:00  REGULAR     5554      299   \n",
       "195950  06/01/2017  17:00:00  REGULAR     5554      299   \n",
       "195951  06/01/2017  21:00:00  REGULAR     5554      299   \n",
       "195952  06/02/2017  01:00:00  REGULAR     5554      299   \n",
       "195953  06/02/2017  05:00:00  REGULAR     5554      299   \n",
       "195954  06/02/2017  09:00:00  REGULAR     5554      299   \n",
       "195955  06/02/2017  13:00:00  REGULAR     5554      299   \n",
       "195956  06/02/2017  17:00:00  REGULAR     5554      299   \n",
       "195957  06/02/2017  21:00:00  REGULAR     5554      299   \n",
       "\n",
       "                            id  hourly  \n",
       "0         59 STNQR456W02-00-00     NaN  \n",
       "1         59 STNQR456W02-00-00    23.0  \n",
       "2         59 STNQR456W02-00-00    16.0  \n",
       "3         59 STNQR456W02-00-00    90.0  \n",
       "4         59 STNQR456W02-00-00   172.0  \n",
       "5         59 STNQR456W02-00-00   247.0  \n",
       "6         59 STNQR456W02-00-00   133.0  \n",
       "7         59 STNQR456W02-00-00    16.0  \n",
       "8         59 STNQR456W02-00-00    16.0  \n",
       "9         59 STNQR456W02-00-00    94.0  \n",
       "10        59 STNQR456W02-00-00   162.0  \n",
       "11        59 STNQR456W02-00-00   260.0  \n",
       "12        59 STNQR456W02-00-00   123.0  \n",
       "13        59 STNQR456W02-00-00    18.0  \n",
       "14        59 STNQR456W02-00-00    10.0  \n",
       "15        59 STNQR456W02-00-00    69.0  \n",
       "16        59 STNQR456W02-00-00   187.0  \n",
       "17        59 STNQR456W02-00-00   254.0  \n",
       "18        59 STNQR456W02-00-00   123.0  \n",
       "19        59 STNQR456W02-00-00     8.0  \n",
       "20        59 STNQR456W02-00-00    50.0  \n",
       "21        59 STNQR456W02-00-00   182.0  \n",
       "22        59 STNQR456W02-00-00   320.0  \n",
       "23        59 STNQR456W02-00-00   834.0  \n",
       "24        59 STNQR456W02-00-00   195.0  \n",
       "25        59 STNQR456W02-00-00    15.0  \n",
       "26        59 STNQR456W02-00-00    46.0  \n",
       "27        59 STNQR456W02-00-00   173.0  \n",
       "28        59 STNQR456W02-00-00   326.0  \n",
       "29        59 STNQR456W02-00-00   821.0  \n",
       "...                        ...     ...  \n",
       "195928  RIT-ROOSEVELTR00-05-01     0.0  \n",
       "195929  RIT-ROOSEVELTR00-05-01     0.0  \n",
       "195930  RIT-ROOSEVELTR00-05-01     0.0  \n",
       "195931  RIT-ROOSEVELTR00-05-01     0.0  \n",
       "195932  RIT-ROOSEVELTR00-05-01     0.0  \n",
       "195933  RIT-ROOSEVELTR00-05-01     0.0  \n",
       "195934  RIT-ROOSEVELTR00-05-01     0.0  \n",
       "195935  RIT-ROOSEVELTR00-05-01     0.0  \n",
       "195936  RIT-ROOSEVELTR00-05-01     0.0  \n",
       "195937  RIT-ROOSEVELTR00-05-01     0.0  \n",
       "195938  RIT-ROOSEVELTR00-05-01     0.0  \n",
       "195939  RIT-ROOSEVELTR00-05-01     0.0  \n",
       "195940  RIT-ROOSEVELTR00-05-01     0.0  \n",
       "195941  RIT-ROOSEVELTR00-05-01     0.0  \n",
       "195942  RIT-ROOSEVELTR00-05-01     0.0  \n",
       "195943  RIT-ROOSEVELTR00-05-01     0.0  \n",
       "195944  RIT-ROOSEVELTR00-05-01     0.0  \n",
       "195945  RIT-ROOSEVELTR00-05-01     0.0  \n",
       "195946  RIT-ROOSEVELTR00-05-01     0.0  \n",
       "195947  RIT-ROOSEVELTR00-05-01     0.0  \n",
       "195948  RIT-ROOSEVELTR00-05-01     0.0  \n",
       "195949  RIT-ROOSEVELTR00-05-01     0.0  \n",
       "195950  RIT-ROOSEVELTR00-05-01     0.0  \n",
       "195951  RIT-ROOSEVELTR00-05-01     0.0  \n",
       "195952  RIT-ROOSEVELTR00-05-01     0.0  \n",
       "195953  RIT-ROOSEVELTR00-05-01     0.0  \n",
       "195954  RIT-ROOSEVELTR00-05-01     0.0  \n",
       "195955  RIT-ROOSEVELTR00-05-01     0.0  \n",
       "195956  RIT-ROOSEVELTR00-05-01     0.0  \n",
       "195957  RIT-ROOSEVELTR00-05-01     0.0  \n",
       "\n",
       "[195958 rows x 14 columns]"
      ]
     },
     "execution_count": 53,
     "metadata": {},
     "output_type": "execute_result"
    }
   ],
   "source": [
    "test"
   ]
  },
  {
   "cell_type": "code",
   "execution_count": null,
   "metadata": {
    "collapsed": true
   },
   "outputs": [],
   "source": []
  }
 ],
 "metadata": {
  "anaconda-cloud": {},
  "kernelspec": {
   "display_name": "Python [py3.6]",
   "language": "python",
   "name": "Python [py3.6]"
  },
  "language_info": {
   "codemirror_mode": {
    "name": "ipython",
    "version": 3
   },
   "file_extension": ".py",
   "mimetype": "text/x-python",
   "name": "python",
   "nbconvert_exporter": "python",
   "pygments_lexer": "ipython3",
   "version": "3.6.1"
  }
 },
 "nbformat": 4,
 "nbformat_minor": 1
}
