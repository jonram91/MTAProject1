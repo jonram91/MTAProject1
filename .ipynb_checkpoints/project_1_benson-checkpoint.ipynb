{
 "cells": [
  {
   "cell_type": "markdown",
   "metadata": {},
   "source": [
    "Beginning of our exploration of MTA data. "
   ]
  },
  {
   "cell_type": "code",
   "execution_count": 1,
   "metadata": {
    "collapsed": true
   },
   "outputs": [],
   "source": [
    "api_key = \"a57e16aadfd85e7b920ed17db1a0e751\""
   ]
  },
  {
   "cell_type": "markdown",
   "metadata": {},
   "source": [
    "### Import Statements"
   ]
  },
  {
   "cell_type": "code",
   "execution_count": 2,
   "metadata": {
    "collapsed": true
   },
   "outputs": [],
   "source": [
    "import pandas as pd\n",
    "import numpy as np\n",
    "\n",
    "import matplotlib.pyplot as plt\n",
    "%matplotlib inline\n",
    "\n",
    "import seaborn as sns\n",
    "\n",
    "import re"
   ]
  },
  {
   "cell_type": "markdown",
   "metadata": {},
   "source": [
    "Data import statements: uncomment when running this code locally. "
   ]
  },
  {
   "cell_type": "code",
   "execution_count": 4,
   "metadata": {
    "collapsed": true
   },
   "outputs": [],
   "source": [
    "df_entrances = pd.read_csv(\"http://web.mta.info/developers/data/nyct/subway/StationEntrances.csv\")\n",
    "# df_entrances.to_csv('entrances.csv')\n",
    "df_j3 = pd.read_csv(\"http://web.mta.info/developers/data/nyct/turnstile/turnstile_170603.txt\")\n",
    "# df_j3.to_csv('turnstyle_jun_3.csv')"
   ]
  },
  {
   "cell_type": "markdown",
   "metadata": {},
   "source": [
    "### Inspecting Data Sets"
   ]
  },
  {
   "cell_type": "code",
   "execution_count": 5,
   "metadata": {},
   "outputs": [],
   "source": [
    "df_entrances = pd.read_csv('entrances.csv')"
   ]
  },
  {
   "cell_type": "code",
   "execution_count": 6,
   "metadata": {},
   "outputs": [
    {
     "data": {
      "text/html": [
       "<div>\n",
       "<style>\n",
       "    .dataframe thead tr:only-child th {\n",
       "        text-align: right;\n",
       "    }\n",
       "\n",
       "    .dataframe thead th {\n",
       "        text-align: left;\n",
       "    }\n",
       "\n",
       "    .dataframe tbody tr th {\n",
       "        vertical-align: top;\n",
       "    }\n",
       "</style>\n",
       "<table border=\"1\" class=\"dataframe\">\n",
       "  <thead>\n",
       "    <tr style=\"text-align: right;\">\n",
       "      <th></th>\n",
       "      <th>Unnamed: 0</th>\n",
       "      <th>Division</th>\n",
       "      <th>Line</th>\n",
       "      <th>Station_Name</th>\n",
       "      <th>Station_Latitude</th>\n",
       "      <th>Station_Longitude</th>\n",
       "      <th>Route_1</th>\n",
       "      <th>Route_2</th>\n",
       "      <th>Route_3</th>\n",
       "      <th>Route_4</th>\n",
       "      <th>...</th>\n",
       "      <th>Staffing</th>\n",
       "      <th>Staff_Hours</th>\n",
       "      <th>ADA</th>\n",
       "      <th>ADA_Notes</th>\n",
       "      <th>Free_Crossover</th>\n",
       "      <th>North_South_Street</th>\n",
       "      <th>East_West_Street</th>\n",
       "      <th>Corner</th>\n",
       "      <th>Latitude</th>\n",
       "      <th>Longitude</th>\n",
       "    </tr>\n",
       "  </thead>\n",
       "  <tbody>\n",
       "    <tr>\n",
       "      <th>0</th>\n",
       "      <td>0</td>\n",
       "      <td>BMT</td>\n",
       "      <td>Astoria</td>\n",
       "      <td>Ditmars Blvd</td>\n",
       "      <td>40.775036</td>\n",
       "      <td>-73.912034</td>\n",
       "      <td>N</td>\n",
       "      <td>Q</td>\n",
       "      <td>NaN</td>\n",
       "      <td>NaN</td>\n",
       "      <td>...</td>\n",
       "      <td>FULL</td>\n",
       "      <td>NaN</td>\n",
       "      <td>False</td>\n",
       "      <td>NaN</td>\n",
       "      <td>True</td>\n",
       "      <td>31st St</td>\n",
       "      <td>23rd Ave</td>\n",
       "      <td>NW</td>\n",
       "      <td>40.775149</td>\n",
       "      <td>-73.912074</td>\n",
       "    </tr>\n",
       "    <tr>\n",
       "      <th>1</th>\n",
       "      <td>1</td>\n",
       "      <td>BMT</td>\n",
       "      <td>Astoria</td>\n",
       "      <td>Ditmars Blvd</td>\n",
       "      <td>40.775036</td>\n",
       "      <td>-73.912034</td>\n",
       "      <td>N</td>\n",
       "      <td>Q</td>\n",
       "      <td>NaN</td>\n",
       "      <td>NaN</td>\n",
       "      <td>...</td>\n",
       "      <td>FULL</td>\n",
       "      <td>NaN</td>\n",
       "      <td>False</td>\n",
       "      <td>NaN</td>\n",
       "      <td>True</td>\n",
       "      <td>31st St</td>\n",
       "      <td>23rd Ave</td>\n",
       "      <td>NE</td>\n",
       "      <td>40.774810</td>\n",
       "      <td>-73.912151</td>\n",
       "    </tr>\n",
       "    <tr>\n",
       "      <th>2</th>\n",
       "      <td>2</td>\n",
       "      <td>BMT</td>\n",
       "      <td>Astoria</td>\n",
       "      <td>Ditmars Blvd</td>\n",
       "      <td>40.775036</td>\n",
       "      <td>-73.912034</td>\n",
       "      <td>N</td>\n",
       "      <td>Q</td>\n",
       "      <td>NaN</td>\n",
       "      <td>NaN</td>\n",
       "      <td>...</td>\n",
       "      <td>FULL</td>\n",
       "      <td>NaN</td>\n",
       "      <td>False</td>\n",
       "      <td>NaN</td>\n",
       "      <td>True</td>\n",
       "      <td>31st St</td>\n",
       "      <td>23rd Ave</td>\n",
       "      <td>NE</td>\n",
       "      <td>40.775025</td>\n",
       "      <td>-73.911891</td>\n",
       "    </tr>\n",
       "    <tr>\n",
       "      <th>3</th>\n",
       "      <td>3</td>\n",
       "      <td>BMT</td>\n",
       "      <td>Astoria</td>\n",
       "      <td>Ditmars Blvd</td>\n",
       "      <td>40.775036</td>\n",
       "      <td>-73.912034</td>\n",
       "      <td>N</td>\n",
       "      <td>Q</td>\n",
       "      <td>NaN</td>\n",
       "      <td>NaN</td>\n",
       "      <td>...</td>\n",
       "      <td>FULL</td>\n",
       "      <td>NaN</td>\n",
       "      <td>False</td>\n",
       "      <td>NaN</td>\n",
       "      <td>True</td>\n",
       "      <td>31st St</td>\n",
       "      <td>23rd Ave</td>\n",
       "      <td>NW</td>\n",
       "      <td>40.774938</td>\n",
       "      <td>-73.912337</td>\n",
       "    </tr>\n",
       "    <tr>\n",
       "      <th>4</th>\n",
       "      <td>4</td>\n",
       "      <td>BMT</td>\n",
       "      <td>Astoria</td>\n",
       "      <td>Astoria Blvd-Hoyt Av</td>\n",
       "      <td>40.770258</td>\n",
       "      <td>-73.917843</td>\n",
       "      <td>N</td>\n",
       "      <td>Q</td>\n",
       "      <td>NaN</td>\n",
       "      <td>NaN</td>\n",
       "      <td>...</td>\n",
       "      <td>FULL</td>\n",
       "      <td>NaN</td>\n",
       "      <td>False</td>\n",
       "      <td>NaN</td>\n",
       "      <td>True</td>\n",
       "      <td>31st St</td>\n",
       "      <td>Hoyt Ave South</td>\n",
       "      <td>SW</td>\n",
       "      <td>40.770313</td>\n",
       "      <td>-73.917978</td>\n",
       "    </tr>\n",
       "  </tbody>\n",
       "</table>\n",
       "<p>5 rows × 31 columns</p>\n",
       "</div>"
      ],
      "text/plain": [
       "   Unnamed: 0 Division     Line          Station_Name  Station_Latitude  \\\n",
       "0           0      BMT  Astoria          Ditmars Blvd         40.775036   \n",
       "1           1      BMT  Astoria          Ditmars Blvd         40.775036   \n",
       "2           2      BMT  Astoria          Ditmars Blvd         40.775036   \n",
       "3           3      BMT  Astoria          Ditmars Blvd         40.775036   \n",
       "4           4      BMT  Astoria  Astoria Blvd-Hoyt Av         40.770258   \n",
       "\n",
       "   Station_Longitude Route_1 Route_2 Route_3 Route_4    ...     Staffing  \\\n",
       "0         -73.912034       N       Q     NaN     NaN    ...         FULL   \n",
       "1         -73.912034       N       Q     NaN     NaN    ...         FULL   \n",
       "2         -73.912034       N       Q     NaN     NaN    ...         FULL   \n",
       "3         -73.912034       N       Q     NaN     NaN    ...         FULL   \n",
       "4         -73.917843       N       Q     NaN     NaN    ...         FULL   \n",
       "\n",
       "  Staff_Hours    ADA  ADA_Notes  Free_Crossover  North_South_Street  \\\n",
       "0         NaN  False        NaN            True             31st St   \n",
       "1         NaN  False        NaN            True             31st St   \n",
       "2         NaN  False        NaN            True             31st St   \n",
       "3         NaN  False        NaN            True             31st St   \n",
       "4         NaN  False        NaN            True             31st St   \n",
       "\n",
       "   East_West_Street Corner   Latitude  Longitude  \n",
       "0          23rd Ave     NW  40.775149 -73.912074  \n",
       "1          23rd Ave     NE  40.774810 -73.912151  \n",
       "2          23rd Ave     NE  40.775025 -73.911891  \n",
       "3          23rd Ave     NW  40.774938 -73.912337  \n",
       "4    Hoyt Ave South     SW  40.770313 -73.917978  \n",
       "\n",
       "[5 rows x 31 columns]"
      ]
     },
     "execution_count": 6,
     "metadata": {},
     "output_type": "execute_result"
    }
   ],
   "source": [
    "df_entrances.head()"
   ]
  },
  {
   "cell_type": "markdown",
   "metadata": {},
   "source": [
    "Maybe stations with vending would be better candidates for handing out phamplets and talking to people. "
   ]
  },
  {
   "cell_type": "code",
   "execution_count": 7,
   "metadata": {},
   "outputs": [
    {
     "data": {
      "text/plain": [
       "count     1866\n",
       "unique       2\n",
       "top        YES\n",
       "freq      1683\n",
       "Name: Vending, dtype: object"
      ]
     },
     "execution_count": 7,
     "metadata": {},
     "output_type": "execute_result"
    }
   ],
   "source": [
    "df_entrances['Vending'].describe()"
   ]
  },
  {
   "cell_type": "code",
   "execution_count": 8,
   "metadata": {},
   "outputs": [
    {
     "data": {
      "text/plain": [
       "Index(['Unnamed: 0', 'Division', 'Line', 'Station_Name', 'Station_Latitude',\n",
       "       'Station_Longitude', 'Route_1', 'Route_2', 'Route_3', 'Route_4',\n",
       "       'Route_5', 'Route_6', 'Route_7', 'Route_8', 'Route_9', 'Route_10',\n",
       "       'Route_11', 'Entrance_Type', 'Entry', 'Exit_Only', 'Vending',\n",
       "       'Staffing', 'Staff_Hours', 'ADA', 'ADA_Notes', 'Free_Crossover',\n",
       "       'North_South_Street', 'East_West_Street', 'Corner', 'Latitude',\n",
       "       'Longitude'],\n",
       "      dtype='object')"
      ]
     },
     "execution_count": 8,
     "metadata": {},
     "output_type": "execute_result"
    }
   ],
   "source": [
    "df_entrances.columns"
   ]
  },
  {
   "cell_type": "markdown",
   "metadata": {},
   "source": [
    "### Turnstyles Data"
   ]
  },
  {
   "cell_type": "markdown",
   "metadata": {},
   "source": [
    "Downloading the turnstyle data for June 3. Need a naming convention. df_j3 will henceforth be known as the turnstyle data for june 3. We can assume it is turnstyle data since there is nothing else that will be reported by week. "
   ]
  },
  {
   "cell_type": "code",
   "execution_count": 9,
   "metadata": {},
   "outputs": [],
   "source": [
    "df_j3 = pd.read_csv('turnstyle_jun_3.csv')"
   ]
  },
  {
   "cell_type": "code",
   "execution_count": 10,
   "metadata": {},
   "outputs": [
    {
     "data": {
      "text/html": [
       "<div>\n",
       "<style>\n",
       "    .dataframe thead tr:only-child th {\n",
       "        text-align: right;\n",
       "    }\n",
       "\n",
       "    .dataframe thead th {\n",
       "        text-align: left;\n",
       "    }\n",
       "\n",
       "    .dataframe tbody tr th {\n",
       "        vertical-align: top;\n",
       "    }\n",
       "</style>\n",
       "<table border=\"1\" class=\"dataframe\">\n",
       "  <thead>\n",
       "    <tr style=\"text-align: right;\">\n",
       "      <th></th>\n",
       "      <th>Unnamed: 0</th>\n",
       "      <th>C/A</th>\n",
       "      <th>UNIT</th>\n",
       "      <th>SCP</th>\n",
       "      <th>STATION</th>\n",
       "      <th>LINENAME</th>\n",
       "      <th>DIVISION</th>\n",
       "      <th>DATE</th>\n",
       "      <th>TIME</th>\n",
       "      <th>DESC</th>\n",
       "      <th>ENTRIES</th>\n",
       "      <th>EXITS</th>\n",
       "    </tr>\n",
       "  </thead>\n",
       "  <tbody>\n",
       "    <tr>\n",
       "      <th>60326</th>\n",
       "      <td>60326</td>\n",
       "      <td>N113</td>\n",
       "      <td>R297</td>\n",
       "      <td>00-00-02</td>\n",
       "      <td>FRANKLIN AV</td>\n",
       "      <td>ACS</td>\n",
       "      <td>IND</td>\n",
       "      <td>05/27/2017</td>\n",
       "      <td>09:00:00</td>\n",
       "      <td>REGULAR</td>\n",
       "      <td>5037319</td>\n",
       "      <td>5238811</td>\n",
       "    </tr>\n",
       "    <tr>\n",
       "      <th>22141</th>\n",
       "      <td>22141</td>\n",
       "      <td>C019</td>\n",
       "      <td>R232</td>\n",
       "      <td>00-00-02</td>\n",
       "      <td>45 ST</td>\n",
       "      <td>R</td>\n",
       "      <td>BMT</td>\n",
       "      <td>05/30/2017</td>\n",
       "      <td>08:00:00</td>\n",
       "      <td>REGULAR</td>\n",
       "      <td>112546</td>\n",
       "      <td>56079</td>\n",
       "    </tr>\n",
       "    <tr>\n",
       "      <th>5185</th>\n",
       "      <td>5185</td>\n",
       "      <td>A034</td>\n",
       "      <td>R170</td>\n",
       "      <td>03-06-01</td>\n",
       "      <td>14 ST-UNION SQ</td>\n",
       "      <td>LNQR456W</td>\n",
       "      <td>BMT</td>\n",
       "      <td>05/29/2017</td>\n",
       "      <td>13:00:00</td>\n",
       "      <td>REGULAR</td>\n",
       "      <td>2752386</td>\n",
       "      <td>1841696</td>\n",
       "    </tr>\n",
       "  </tbody>\n",
       "</table>\n",
       "</div>"
      ],
      "text/plain": [
       "       Unnamed: 0   C/A  UNIT       SCP         STATION  LINENAME DIVISION  \\\n",
       "60326       60326  N113  R297  00-00-02     FRANKLIN AV       ACS      IND   \n",
       "22141       22141  C019  R232  00-00-02           45 ST         R      BMT   \n",
       "5185         5185  A034  R170  03-06-01  14 ST-UNION SQ  LNQR456W      BMT   \n",
       "\n",
       "             DATE      TIME     DESC  ENTRIES  \\\n",
       "60326  05/27/2017  09:00:00  REGULAR  5037319   \n",
       "22141  05/30/2017  08:00:00  REGULAR   112546   \n",
       "5185   05/29/2017  13:00:00  REGULAR  2752386   \n",
       "\n",
       "       EXITS                                                                 \n",
       "60326                                            5238811                     \n",
       "22141                                              56079                     \n",
       "5185                                             1841696                     "
      ]
     },
     "execution_count": 10,
     "metadata": {},
     "output_type": "execute_result"
    }
   ],
   "source": [
    "df_j3.sample(10)[:3]"
   ]
  },
  {
   "cell_type": "markdown",
   "metadata": {},
   "source": [
    "I am going to have to make these letters lowercase before I lose my mind. "
   ]
  },
  {
   "cell_type": "code",
   "execution_count": 11,
   "metadata": {},
   "outputs": [
    {
     "name": "stdout",
     "output_type": "stream",
     "text": [
      "Index(['unnamed: 0', 'c/a', 'unit', 'scp', 'station', 'linename', 'division',\n",
      "       'date', 'time', 'desc', 'entries', 'exits'],\n",
      "      dtype='object')\n"
     ]
    }
   ],
   "source": [
    "df_j3.columns = df_j3.columns.str.strip().str.lower()\n",
    "print(df_j3.columns)"
   ]
  },
  {
   "cell_type": "code",
   "execution_count": 12,
   "metadata": {},
   "outputs": [
    {
     "data": {
      "text/plain": [
       "374"
      ]
     },
     "execution_count": 12,
     "metadata": {},
     "output_type": "execute_result"
    }
   ],
   "source": [
    "len(df_j3['station'].unique())"
   ]
  },
  {
   "cell_type": "code",
   "execution_count": 36,
   "metadata": {},
   "outputs": [
    {
     "data": {
      "text/html": [
       "<div>\n",
       "<style>\n",
       "    .dataframe thead tr:only-child th {\n",
       "        text-align: right;\n",
       "    }\n",
       "\n",
       "    .dataframe thead th {\n",
       "        text-align: left;\n",
       "    }\n",
       "\n",
       "    .dataframe tbody tr th {\n",
       "        vertical-align: top;\n",
       "    }\n",
       "</style>\n",
       "<table border=\"1\" class=\"dataframe\">\n",
       "  <thead>\n",
       "    <tr style=\"text-align: right;\">\n",
       "      <th></th>\n",
       "      <th>unnamed: 0</th>\n",
       "      <th>c/a</th>\n",
       "      <th>unit</th>\n",
       "      <th>scp</th>\n",
       "      <th>station</th>\n",
       "      <th>linename</th>\n",
       "      <th>division</th>\n",
       "      <th>date</th>\n",
       "      <th>time</th>\n",
       "      <th>desc</th>\n",
       "      <th>entries</th>\n",
       "      <th>exits</th>\n",
       "      <th>hourly</th>\n",
       "    </tr>\n",
       "  </thead>\n",
       "  <tbody>\n",
       "    <tr>\n",
       "      <th>0</th>\n",
       "      <td>0</td>\n",
       "      <td>A002</td>\n",
       "      <td>R051</td>\n",
       "      <td>02-00-00</td>\n",
       "      <td>59 ST</td>\n",
       "      <td>NQR456W</td>\n",
       "      <td>BMT</td>\n",
       "      <td>05/27/2017</td>\n",
       "      <td>00:00:00</td>\n",
       "      <td>REGULAR</td>\n",
       "      <td>6195217</td>\n",
       "      <td>2098317</td>\n",
       "      <td>0</td>\n",
       "    </tr>\n",
       "    <tr>\n",
       "      <th>1</th>\n",
       "      <td>1</td>\n",
       "      <td>A002</td>\n",
       "      <td>R051</td>\n",
       "      <td>02-00-00</td>\n",
       "      <td>59 ST</td>\n",
       "      <td>NQR456W</td>\n",
       "      <td>BMT</td>\n",
       "      <td>05/27/2017</td>\n",
       "      <td>04:00:00</td>\n",
       "      <td>REGULAR</td>\n",
       "      <td>6195240</td>\n",
       "      <td>2098318</td>\n",
       "      <td>23</td>\n",
       "    </tr>\n",
       "    <tr>\n",
       "      <th>2</th>\n",
       "      <td>2</td>\n",
       "      <td>A002</td>\n",
       "      <td>R051</td>\n",
       "      <td>02-00-00</td>\n",
       "      <td>59 ST</td>\n",
       "      <td>NQR456W</td>\n",
       "      <td>BMT</td>\n",
       "      <td>05/27/2017</td>\n",
       "      <td>08:00:00</td>\n",
       "      <td>REGULAR</td>\n",
       "      <td>6195256</td>\n",
       "      <td>2098347</td>\n",
       "      <td>16</td>\n",
       "    </tr>\n",
       "  </tbody>\n",
       "</table>\n",
       "</div>"
      ],
      "text/plain": [
       "   unnamed: 0   c/a  unit       scp station linename division        date  \\\n",
       "0           0  A002  R051  02-00-00   59 ST  NQR456W      BMT  05/27/2017   \n",
       "1           1  A002  R051  02-00-00   59 ST  NQR456W      BMT  05/27/2017   \n",
       "2           2  A002  R051  02-00-00   59 ST  NQR456W      BMT  05/27/2017   \n",
       "\n",
       "       time     desc  entries    exits  hourly  \n",
       "0  00:00:00  REGULAR  6195217  2098317       0  \n",
       "1  04:00:00  REGULAR  6195240  2098318      23  \n",
       "2  08:00:00  REGULAR  6195256  2098347      16  "
      ]
     },
     "execution_count": 36,
     "metadata": {},
     "output_type": "execute_result"
    }
   ],
   "source": [
    "test = df_j3\n",
    "test.head(3)"
   ]
  },
  {
   "cell_type": "markdown",
   "metadata": {},
   "source": [
    "Make sure you strip out the white space from the column names. "
   ]
  },
  {
   "cell_type": "code",
   "execution_count": 37,
   "metadata": {},
   "outputs": [
    {
     "data": {
      "text/plain": [
       "0    2098317\n",
       "1    2098318\n",
       "2    2098347\n",
       "Name: exits, dtype: int64"
      ]
     },
     "execution_count": 37,
     "metadata": {},
     "output_type": "execute_result"
    }
   ],
   "source": [
    "test['exits'].head(3)"
   ]
  },
  {
   "cell_type": "markdown",
   "metadata": {},
   "source": [
    "We are going through the data set and taking the starting and ending observations for each sensor (C/A) and saving it as a variable. "
   ]
  },
  {
   "cell_type": "code",
   "execution_count": 49,
   "metadata": {},
   "outputs": [
    {
     "data": {
      "text/html": [
       "<div>\n",
       "<style>\n",
       "    .dataframe thead tr:only-child th {\n",
       "        text-align: right;\n",
       "    }\n",
       "\n",
       "    .dataframe thead th {\n",
       "        text-align: left;\n",
       "    }\n",
       "\n",
       "    .dataframe tbody tr th {\n",
       "        vertical-align: top;\n",
       "    }\n",
       "</style>\n",
       "<table border=\"1\" class=\"dataframe\">\n",
       "  <thead>\n",
       "    <tr style=\"text-align: right;\">\n",
       "      <th></th>\n",
       "      <th>unnamed: 0</th>\n",
       "      <th>c/a</th>\n",
       "      <th>unit</th>\n",
       "      <th>scp</th>\n",
       "      <th>station</th>\n",
       "      <th>linename</th>\n",
       "      <th>division</th>\n",
       "      <th>date</th>\n",
       "      <th>time</th>\n",
       "      <th>desc</th>\n",
       "      <th>entries</th>\n",
       "      <th>exits</th>\n",
       "      <th>hourly</th>\n",
       "    </tr>\n",
       "  </thead>\n",
       "  <tbody>\n",
       "    <tr>\n",
       "      <th>0</th>\n",
       "      <td>0</td>\n",
       "      <td>A002</td>\n",
       "      <td>R051</td>\n",
       "      <td>02-00-00</td>\n",
       "      <td>59 ST</td>\n",
       "      <td>NQR456W</td>\n",
       "      <td>BMT</td>\n",
       "      <td>05/27/2017</td>\n",
       "      <td>00:00:00</td>\n",
       "      <td>REGULAR</td>\n",
       "      <td>6195217</td>\n",
       "      <td>2098317</td>\n",
       "      <td>0</td>\n",
       "    </tr>\n",
       "    <tr>\n",
       "      <th>1</th>\n",
       "      <td>1</td>\n",
       "      <td>A002</td>\n",
       "      <td>R051</td>\n",
       "      <td>02-00-00</td>\n",
       "      <td>59 ST</td>\n",
       "      <td>NQR456W</td>\n",
       "      <td>BMT</td>\n",
       "      <td>05/27/2017</td>\n",
       "      <td>04:00:00</td>\n",
       "      <td>REGULAR</td>\n",
       "      <td>6195240</td>\n",
       "      <td>2098318</td>\n",
       "      <td>0</td>\n",
       "    </tr>\n",
       "    <tr>\n",
       "      <th>2</th>\n",
       "      <td>2</td>\n",
       "      <td>A002</td>\n",
       "      <td>R051</td>\n",
       "      <td>02-00-00</td>\n",
       "      <td>59 ST</td>\n",
       "      <td>NQR456W</td>\n",
       "      <td>BMT</td>\n",
       "      <td>05/27/2017</td>\n",
       "      <td>08:00:00</td>\n",
       "      <td>REGULAR</td>\n",
       "      <td>6195256</td>\n",
       "      <td>2098347</td>\n",
       "      <td>0</td>\n",
       "    </tr>\n",
       "  </tbody>\n",
       "</table>\n",
       "</div>"
      ],
      "text/plain": [
       "   unnamed: 0   c/a  unit       scp station linename division        date  \\\n",
       "0           0  A002  R051  02-00-00   59 ST  NQR456W      BMT  05/27/2017   \n",
       "1           1  A002  R051  02-00-00   59 ST  NQR456W      BMT  05/27/2017   \n",
       "2           2  A002  R051  02-00-00   59 ST  NQR456W      BMT  05/27/2017   \n",
       "\n",
       "       time     desc  entries    exits  hourly  \n",
       "0  00:00:00  REGULAR  6195217  2098317       0  \n",
       "1  04:00:00  REGULAR  6195240  2098318       0  \n",
       "2  08:00:00  REGULAR  6195256  2098347       0  "
      ]
     },
     "execution_count": 49,
     "metadata": {},
     "output_type": "execute_result"
    }
   ],
   "source": [
    "test.head(3)"
   ]
  },
  {
   "cell_type": "markdown",
   "metadata": {},
   "source": [
    "At David's suggestion I am using the `first` and `last` attributes of the groupby object."
   ]
  },
  {
   "cell_type": "code",
   "execution_count": 50,
   "metadata": {},
   "outputs": [],
   "source": [
    "weekly_totals = test.groupby(['c/a','station','unit'])['entries'].last() - test.groupby(['c/a','station','unit'])['entries'].first()"
   ]
  },
  {
   "cell_type": "code",
   "execution_count": 51,
   "metadata": {},
   "outputs": [
    {
     "name": "stdout",
     "output_type": "stream",
     "text": [
      "11513589416\n",
      "11513589416\n"
     ]
    }
   ],
   "source": [
    "print(weekly_totals.sum())\n",
    "print(abs(weekly_totals.sum()))"
   ]
  },
  {
   "cell_type": "code",
   "execution_count": 52,
   "metadata": {},
   "outputs": [
    {
     "name": "stdout",
     "output_type": "stream",
     "text": [
      "15750464.31737346\n"
     ]
    }
   ],
   "source": [
    "print(weekly_totals.mean())"
   ]
  },
  {
   "cell_type": "code",
   "execution_count": 53,
   "metadata": {},
   "outputs": [
    {
     "data": {
      "text/plain": [
       "(array([   2.,    2.,    0.,    1.,    0.,    2.,    1.,    2.,    2.,\n",
       "           1.,    3.,    8.,  636.,   47.,    5.,    0.,    4.,    3.,\n",
       "           1.,    1.,    1.,    1.,    2.,    2.,    4.]),\n",
       " array([ -1.99761647e+09,  -1.83991485e+09,  -1.68221323e+09,\n",
       "         -1.52451161e+09,  -1.36680998e+09,  -1.20910836e+09,\n",
       "         -1.05140674e+09,  -8.93705120e+08,  -7.36003498e+08,\n",
       "         -5.78301876e+08,  -4.20600255e+08,  -2.62898633e+08,\n",
       "         -1.05197011e+08,   5.25046103e+07,   2.10206232e+08,\n",
       "          3.67907854e+08,   5.25609475e+08,   6.83311097e+08,\n",
       "          8.41012719e+08,   9.98714340e+08,   1.15641596e+09,\n",
       "          1.31411758e+09,   1.47181921e+09,   1.62952083e+09,\n",
       "          1.78722245e+09,   1.94492407e+09]),\n",
       " <a list of 25 Patch objects>)"
      ]
     },
     "execution_count": 53,
     "metadata": {},
     "output_type": "execute_result"
    },
    {
     "data": {
      "image/png": "[encoded data removed]",
      "text/plain": [
       "<matplotlib.figure.Figure at 0x11b0735c0>"
      ]
     },
     "metadata": {},
     "output_type": "display_data"
    }
   ],
   "source": [
    "plt.hist(weekly_totals, bins=25)"
   ]
  },
  {
   "cell_type": "code",
   "execution_count": 54,
   "metadata": {},
   "outputs": [
    {
     "data": {
      "text/plain": [
       "station\n",
       "1 AV                953581260\n",
       "103 ST               34928715\n",
       "103 ST-CORONA        13251263\n",
       "104 ST             2026014325\n",
       "110 ST               10727980\n",
       "111 ST               83947390\n",
       "116 ST             1275383790\n",
       "116 ST-COLUMBIA    1155020325\n",
       "121 ST                2427571\n",
       "125 ST             2009287325\n",
       "135 ST              117440660\n",
       "137 ST CITY COL     186272230\n",
       "138/GRAND CONC      987978225\n",
       "14 ST              2130352672\n",
       "14 ST-UNION SQ      557057952\n",
       "145 ST              654789655\n",
       "149/GRAND CONC      186903018\n",
       "14TH STREET            458221\n",
       "15 ST-PROSPECT      117570828\n",
       "155 ST                7094743\n",
       "157 ST               19723979\n",
       "161/YANKEE STAD    1400701036\n",
       "163 ST-AMSTERDM    1952575346\n",
       "167 ST             1778797469\n",
       "168 ST               51881715\n",
       "169 ST                6717539\n",
       "170 ST              916848570\n",
       "174 ST              688579198\n",
       "174-175 STS           3750618\n",
       "175 ST              218183579\n",
       "                      ...    \n",
       "SUTPHIN BLVD          5064484\n",
       "SUTPHIN-ARCHER       69363318\n",
       "SUTTER AV              697559\n",
       "THIRTY ST             2060052\n",
       "THIRTY THIRD ST       2190107\n",
       "TIMES SQ-42 ST     1893513301\n",
       "TOMPKINSVILLE         7388973\n",
       "TREMONT AV          117586902\n",
       "TWENTY THIRD ST       1786644\n",
       "UNION ST              9881268\n",
       "UTICA AV            100897441\n",
       "V.CORTLANDT PK       12939836\n",
       "VAN SICLEN AV         6266340\n",
       "VAN SICLEN AVE        5765611\n",
       "VERNON-JACKSON       12339420\n",
       "W 4 ST-WASH SQ      117346048\n",
       "W 8 ST-AQUARIUM       4240153\n",
       "WAKEFIELD/241         4046815\n",
       "WALL ST             168287146\n",
       "WEST FARMS SQ       420722647\n",
       "WESTCHESTER SQ        7332683\n",
       "WHITEHALL S-FRY     134632055\n",
       "WHITLOCK AV         150734334\n",
       "WILSON AV             6431285\n",
       "WINTHROP ST          15735475\n",
       "WOODHAVEN BLVD       67108856\n",
       "WOODLAWN              3221066\n",
       "WORLD TRADE CTR       9050779\n",
       "YORK ST               3030470\n",
       "ZEREGA AV            53172981\n",
       "Name: entries, Length: 374, dtype: int64"
      ]
     },
     "execution_count": 54,
     "metadata": {},
     "output_type": "execute_result"
    }
   ],
   "source": [
    "test.groupby('station')['entries'].max() - test.groupby('station')['entries'].min()"
   ]
  },
  {
   "cell_type": "markdown",
   "metadata": {},
   "source": [
    "How many of these were 0? "
   ]
  },
  {
   "cell_type": "code",
   "execution_count": 55,
   "metadata": {},
   "outputs": [
    {
     "data": {
      "text/plain": [
       "3316"
      ]
     },
     "execution_count": 55,
     "metadata": {},
     "output_type": "execute_result"
    }
   ],
   "source": [
    "zeros = test.loc[test['entries']== 0,['date','time']]\n",
    "len(zeros)"
   ]
  },
  {
   "cell_type": "code",
   "execution_count": 56,
   "metadata": {},
   "outputs": [
    {
     "name": "stdout",
     "output_type": "stream",
     "text": [
      "unnamed: 0           410\n",
      "c/a                 A002\n",
      "unit                R051\n",
      "scp             02-05-00\n",
      "station            59 ST\n",
      "linename         NQR456W\n",
      "division             BMT\n",
      "date          06/01/2017\n",
      "time            08:00:00\n",
      "desc             REGULAR\n",
      "entries             1398\n",
      "exits                  0\n",
      "hourly                 0\n",
      "Name: 410, dtype: object\n",
      "unnamed: 0           411\n",
      "c/a                 A002\n",
      "unit                R051\n",
      "scp             02-05-00\n",
      "station            59 ST\n",
      "linename         NQR456W\n",
      "division             BMT\n",
      "date          06/01/2017\n",
      "time            12:00:00\n",
      "desc             REGULAR\n",
      "entries             1398\n",
      "exits                  0\n",
      "hourly                 0\n",
      "Name: 411, dtype: object\n",
      "unnamed: 0           412\n",
      "c/a                 A002\n",
      "unit                R051\n",
      "scp             02-05-00\n",
      "station            59 ST\n",
      "linename         NQR456W\n",
      "division             BMT\n",
      "date          06/01/2017\n",
      "time            16:00:00\n",
      "desc             REGULAR\n",
      "entries             1398\n",
      "exits                  0\n",
      "hourly                 0\n",
      "Name: 412, dtype: object\n",
      "unnamed: 0           413\n",
      "c/a                 A002\n",
      "unit                R051\n",
      "scp             02-05-00\n",
      "station            59 ST\n",
      "linename         NQR456W\n",
      "division             BMT\n",
      "date          06/01/2017\n",
      "time            20:00:00\n",
      "desc             REGULAR\n",
      "entries             1398\n",
      "exits                  0\n",
      "hourly                 0\n",
      "Name: 413, dtype: object\n",
      "unnamed: 0           414\n",
      "c/a                 A002\n",
      "unit                R051\n",
      "scp             02-05-00\n",
      "station            59 ST\n",
      "linename         NQR456W\n",
      "division             BMT\n",
      "date          06/02/2017\n",
      "time            00:00:00\n",
      "desc             REGULAR\n",
      "entries             1398\n",
      "exits                  0\n",
      "hourly                 0\n",
      "Name: 414, dtype: object\n",
      "unnamed: 0           415\n",
      "c/a                 A002\n",
      "unit                R051\n",
      "scp             02-05-00\n",
      "station            59 ST\n",
      "linename         NQR456W\n",
      "division             BMT\n",
      "date          06/02/2017\n",
      "time            04:00:00\n",
      "desc             REGULAR\n",
      "entries             1398\n",
      "exits                  0\n",
      "hourly                 0\n",
      "Name: 415, dtype: object\n",
      "unnamed: 0           416\n",
      "c/a                 A002\n",
      "unit                R051\n",
      "scp             02-05-00\n",
      "station            59 ST\n",
      "linename         NQR456W\n",
      "division             BMT\n",
      "date          06/02/2017\n",
      "time            08:00:00\n",
      "desc             REGULAR\n",
      "entries             1398\n",
      "exits                  0\n",
      "hourly                 0\n",
      "Name: 416, dtype: object\n",
      "unnamed: 0           417\n",
      "c/a                 A002\n",
      "unit                R051\n",
      "scp             02-05-00\n",
      "station            59 ST\n",
      "linename         NQR456W\n",
      "division             BMT\n",
      "date          06/02/2017\n",
      "time            12:00:00\n",
      "desc             REGULAR\n",
      "entries             1398\n",
      "exits                  0\n",
      "hourly                 0\n",
      "Name: 417, dtype: object\n",
      "unnamed: 0           418\n",
      "c/a                 A002\n",
      "unit                R051\n",
      "scp             02-05-00\n",
      "station            59 ST\n",
      "linename         NQR456W\n",
      "division             BMT\n",
      "date          06/02/2017\n",
      "time            16:00:00\n",
      "desc             REGULAR\n",
      "entries             1398\n",
      "exits                  0\n",
      "hourly                 0\n",
      "Name: 418, dtype: object\n",
      "unnamed: 0           419\n",
      "c/a                 A002\n",
      "unit                R051\n",
      "scp             02-05-00\n",
      "station            59 ST\n",
      "linename         NQR456W\n",
      "division             BMT\n",
      "date          06/02/2017\n",
      "time            20:00:00\n",
      "desc             REGULAR\n",
      "entries             1398\n",
      "exits                  0\n",
      "hourly                 0\n",
      "Name: 419, dtype: object\n",
      "unnamed: 0           420\n",
      "c/a                 A002\n",
      "unit                R051\n",
      "scp             02-05-01\n",
      "station            59 ST\n",
      "linename         NQR456W\n",
      "division             BMT\n",
      "date          05/27/2017\n",
      "time            00:00:00\n",
      "desc             REGULAR\n",
      "entries                0\n",
      "exits                734\n",
      "hourly                 0\n",
      "Name: 420, dtype: object\n",
      "unnamed: 0           421\n",
      "c/a                 A002\n",
      "unit                R051\n",
      "scp             02-05-01\n",
      "station            59 ST\n",
      "linename         NQR456W\n",
      "division             BMT\n",
      "date          05/27/2017\n",
      "time            04:00:00\n",
      "desc             REGULAR\n",
      "entries                0\n",
      "exits                734\n",
      "hourly                 0\n",
      "Name: 421, dtype: object\n",
      "unnamed: 0           422\n",
      "c/a                 A002\n",
      "unit                R051\n",
      "scp             02-05-01\n",
      "station            59 ST\n",
      "linename         NQR456W\n",
      "division             BMT\n",
      "date          05/27/2017\n",
      "time            08:00:00\n",
      "desc             REGULAR\n",
      "entries                0\n",
      "exits                734\n",
      "hourly                 0\n",
      "Name: 422, dtype: object\n",
      "unnamed: 0           423\n",
      "c/a                 A002\n",
      "unit                R051\n",
      "scp             02-05-01\n",
      "station            59 ST\n",
      "linename         NQR456W\n",
      "division             BMT\n",
      "date          05/27/2017\n",
      "time            12:00:00\n",
      "desc             REGULAR\n",
      "entries                0\n",
      "exits                734\n",
      "hourly                 0\n",
      "Name: 423, dtype: object\n",
      "unnamed: 0           424\n",
      "c/a                 A002\n",
      "unit                R051\n",
      "scp             02-05-01\n",
      "station            59 ST\n",
      "linename         NQR456W\n",
      "division             BMT\n",
      "date          05/27/2017\n",
      "time            16:00:00\n",
      "desc             REGULAR\n",
      "entries                0\n",
      "exits                734\n",
      "hourly                 0\n",
      "Name: 424, dtype: object\n",
      "unnamed: 0           425\n",
      "c/a                 A002\n",
      "unit                R051\n",
      "scp             02-05-01\n",
      "station            59 ST\n",
      "linename         NQR456W\n",
      "division             BMT\n",
      "date          05/27/2017\n",
      "time            20:00:00\n",
      "desc             REGULAR\n",
      "entries                0\n",
      "exits                734\n",
      "hourly                 0\n",
      "Name: 425, dtype: object\n",
      "unnamed: 0           426\n",
      "c/a                 A002\n",
      "unit                R051\n",
      "scp             02-05-01\n",
      "station            59 ST\n",
      "linename         NQR456W\n",
      "division             BMT\n",
      "date          05/28/2017\n",
      "time            00:00:00\n",
      "desc             REGULAR\n",
      "entries                0\n",
      "exits                734\n",
      "hourly                 0\n",
      "Name: 426, dtype: object\n",
      "unnamed: 0           427\n",
      "c/a                 A002\n",
      "unit                R051\n",
      "scp             02-05-01\n",
      "station            59 ST\n",
      "linename         NQR456W\n",
      "division             BMT\n",
      "date          05/28/2017\n",
      "time            04:00:00\n",
      "desc             REGULAR\n",
      "entries                0\n",
      "exits                734\n",
      "hourly                 0\n",
      "Name: 427, dtype: object\n",
      "unnamed: 0           428\n",
      "c/a                 A002\n",
      "unit                R051\n",
      "scp             02-05-01\n",
      "station            59 ST\n",
      "linename         NQR456W\n",
      "division             BMT\n",
      "date          05/28/2017\n",
      "time            08:00:00\n",
      "desc             REGULAR\n",
      "entries                0\n",
      "exits                734\n",
      "hourly                 0\n",
      "Name: 428, dtype: object\n",
      "unnamed: 0           429\n",
      "c/a                 A002\n",
      "unit                R051\n",
      "scp             02-05-01\n",
      "station            59 ST\n",
      "linename         NQR456W\n",
      "division             BMT\n",
      "date          05/28/2017\n",
      "time            12:00:00\n",
      "desc             REGULAR\n",
      "entries                0\n",
      "exits                734\n",
      "hourly                 0\n",
      "Name: 429, dtype: object\n",
      "unnamed: 0           430\n",
      "c/a                 A002\n",
      "unit                R051\n",
      "scp             02-05-01\n",
      "station            59 ST\n",
      "linename         NQR456W\n",
      "division             BMT\n",
      "date          05/28/2017\n",
      "time            16:00:00\n",
      "desc             REGULAR\n",
      "entries                0\n",
      "exits                734\n",
      "hourly                 0\n",
      "Name: 430, dtype: object\n",
      "unnamed: 0           431\n",
      "c/a                 A002\n",
      "unit                R051\n",
      "scp             02-05-01\n",
      "station            59 ST\n",
      "linename         NQR456W\n",
      "division             BMT\n",
      "date          05/28/2017\n",
      "time            20:00:00\n",
      "desc             REGULAR\n",
      "entries                0\n",
      "exits                734\n",
      "hourly                 0\n",
      "Name: 431, dtype: object\n",
      "unnamed: 0           432\n",
      "c/a                 A002\n",
      "unit                R051\n",
      "scp             02-05-01\n",
      "station            59 ST\n",
      "linename         NQR456W\n",
      "division             BMT\n",
      "date          05/29/2017\n",
      "time            00:00:00\n",
      "desc             REGULAR\n",
      "entries                0\n",
      "exits                734\n",
      "hourly                 0\n",
      "Name: 432, dtype: object\n",
      "unnamed: 0           433\n",
      "c/a                 A002\n",
      "unit                R051\n",
      "scp             02-05-01\n",
      "station            59 ST\n",
      "linename         NQR456W\n",
      "division             BMT\n",
      "date          05/29/2017\n",
      "time            04:00:00\n",
      "desc             REGULAR\n",
      "entries                0\n",
      "exits                734\n",
      "hourly                 0\n",
      "Name: 433, dtype: object\n",
      "unnamed: 0           434\n",
      "c/a                 A002\n",
      "unit                R051\n",
      "scp             02-05-01\n",
      "station            59 ST\n",
      "linename         NQR456W\n",
      "division             BMT\n",
      "date          05/29/2017\n",
      "time            08:00:00\n",
      "desc             REGULAR\n",
      "entries                0\n",
      "exits                734\n",
      "hourly                 0\n",
      "Name: 434, dtype: object\n",
      "unnamed: 0           435\n",
      "c/a                 A002\n",
      "unit                R051\n",
      "scp             02-05-01\n",
      "station            59 ST\n",
      "linename         NQR456W\n",
      "division             BMT\n",
      "date          05/29/2017\n",
      "time            12:00:00\n",
      "desc             REGULAR\n",
      "entries                0\n",
      "exits                735\n",
      "hourly                 0\n",
      "Name: 435, dtype: object\n",
      "unnamed: 0           436\n",
      "c/a                 A002\n",
      "unit                R051\n",
      "scp             02-05-01\n",
      "station            59 ST\n",
      "linename         NQR456W\n",
      "division             BMT\n",
      "date          05/29/2017\n",
      "time            16:00:00\n",
      "desc             REGULAR\n",
      "entries                0\n",
      "exits                735\n",
      "hourly                 0\n",
      "Name: 436, dtype: object\n",
      "unnamed: 0           437\n",
      "c/a                 A002\n",
      "unit                R051\n",
      "scp             02-05-01\n",
      "station            59 ST\n",
      "linename         NQR456W\n",
      "division             BMT\n",
      "date          05/29/2017\n",
      "time            20:00:00\n",
      "desc             REGULAR\n",
      "entries                0\n",
      "exits                735\n",
      "hourly                 0\n",
      "Name: 437, dtype: object\n",
      "unnamed: 0           438\n",
      "c/a                 A002\n",
      "unit                R051\n",
      "scp             02-05-01\n",
      "station            59 ST\n",
      "linename         NQR456W\n",
      "division             BMT\n",
      "date          05/30/2017\n",
      "time            00:00:00\n",
      "desc             REGULAR\n",
      "entries                0\n",
      "exits                735\n",
      "hourly                 0\n",
      "Name: 438, dtype: object\n",
      "unnamed: 0           439\n",
      "c/a                 A002\n",
      "unit                R051\n",
      "scp             02-05-01\n",
      "station            59 ST\n",
      "linename         NQR456W\n",
      "division             BMT\n",
      "date          05/30/2017\n",
      "time            04:00:00\n",
      "desc             REGULAR\n",
      "entries                0\n",
      "exits                735\n",
      "hourly                 0\n",
      "Name: 439, dtype: object\n",
      "unnamed: 0           440\n",
      "c/a                 A002\n",
      "unit                R051\n",
      "scp             02-05-01\n",
      "station            59 ST\n",
      "linename         NQR456W\n",
      "division             BMT\n",
      "date          05/30/2017\n",
      "time            08:00:00\n",
      "desc             REGULAR\n",
      "entries                0\n",
      "exits                735\n",
      "hourly                 0\n",
      "Name: 440, dtype: object\n",
      "unnamed: 0           441\n",
      "c/a                 A002\n",
      "unit                R051\n",
      "scp             02-05-01\n",
      "station            59 ST\n",
      "linename         NQR456W\n",
      "division             BMT\n",
      "date          05/30/2017\n",
      "time            12:00:00\n",
      "desc             REGULAR\n",
      "entries                0\n",
      "exits                738\n",
      "hourly                 0\n",
      "Name: 441, dtype: object\n",
      "unnamed: 0           442\n",
      "c/a                 A002\n",
      "unit                R051\n",
      "scp             02-05-01\n",
      "station            59 ST\n",
      "linename         NQR456W\n",
      "division             BMT\n",
      "date          05/30/2017\n",
      "time            16:00:00\n",
      "desc             REGULAR\n",
      "entries                0\n",
      "exits                738\n",
      "hourly                 0\n",
      "Name: 442, dtype: object\n",
      "unnamed: 0           443\n",
      "c/a                 A002\n",
      "unit                R051\n",
      "scp             02-05-01\n",
      "station            59 ST\n",
      "linename         NQR456W\n",
      "division             BMT\n",
      "date          05/30/2017\n",
      "time            20:00:00\n",
      "desc             REGULAR\n",
      "entries                0\n",
      "exits                738\n",
      "hourly                 0\n",
      "Name: 443, dtype: object\n",
      "unnamed: 0           444\n",
      "c/a                 A002\n",
      "unit                R051\n",
      "scp             02-05-01\n",
      "station            59 ST\n",
      "linename         NQR456W\n",
      "division             BMT\n",
      "date          05/31/2017\n",
      "time            00:00:00\n",
      "desc             REGULAR\n",
      "entries                0\n",
      "exits                738\n",
      "hourly                 0\n",
      "Name: 444, dtype: object\n",
      "unnamed: 0           445\n",
      "c/a                 A002\n",
      "unit                R051\n",
      "scp             02-05-01\n",
      "station            59 ST\n",
      "linename         NQR456W\n",
      "division             BMT\n",
      "date          05/31/2017\n",
      "time            04:00:00\n",
      "desc             REGULAR\n",
      "entries                0\n",
      "exits                738\n",
      "hourly                 0\n",
      "Name: 445, dtype: object\n",
      "unnamed: 0           446\n",
      "c/a                 A002\n",
      "unit                R051\n",
      "scp             02-05-01\n",
      "station            59 ST\n",
      "linename         NQR456W\n",
      "division             BMT\n",
      "date          05/31/2017\n",
      "time            08:00:00\n",
      "desc             REGULAR\n",
      "entries                0\n",
      "exits                738\n",
      "hourly                 0\n",
      "Name: 446, dtype: object\n",
      "unnamed: 0           447\n",
      "c/a                 A002\n",
      "unit                R051\n",
      "scp             02-05-01\n",
      "station            59 ST\n",
      "linename         NQR456W\n",
      "division             BMT\n",
      "date          05/31/2017\n",
      "time            12:00:00\n",
      "desc             REGULAR\n",
      "entries                0\n",
      "exits                738\n",
      "hourly                 0\n",
      "Name: 447, dtype: object\n",
      "unnamed: 0           448\n",
      "c/a                 A002\n",
      "unit                R051\n",
      "scp             02-05-01\n",
      "station            59 ST\n",
      "linename         NQR456W\n",
      "division             BMT\n",
      "date          05/31/2017\n",
      "time            16:00:00\n",
      "desc             REGULAR\n",
      "entries                0\n",
      "exits                738\n",
      "hourly                 0\n",
      "Name: 448, dtype: object\n",
      "unnamed: 0           449\n",
      "c/a                 A002\n",
      "unit                R051\n",
      "scp             02-05-01\n",
      "station            59 ST\n",
      "linename         NQR456W\n",
      "division             BMT\n",
      "date          05/31/2017\n",
      "time            20:00:00\n",
      "desc             REGULAR\n",
      "entries                0\n",
      "exits                738\n",
      "hourly                 0\n",
      "Name: 449, dtype: object\n",
      "unnamed: 0           450\n",
      "c/a                 A002\n",
      "unit                R051\n",
      "scp             02-05-01\n",
      "station            59 ST\n",
      "linename         NQR456W\n",
      "division             BMT\n",
      "date          06/01/2017\n",
      "time            00:00:00\n",
      "desc             REGULAR\n",
      "entries                0\n",
      "exits                738\n",
      "hourly                 0\n",
      "Name: 450, dtype: object\n",
      "unnamed: 0           451\n",
      "c/a                 A002\n",
      "unit                R051\n",
      "scp             02-05-01\n",
      "station            59 ST\n",
      "linename         NQR456W\n",
      "division             BMT\n",
      "date          06/01/2017\n",
      "time            04:00:00\n",
      "desc             REGULAR\n",
      "entries                0\n",
      "exits                738\n",
      "hourly                 0\n",
      "Name: 451, dtype: object\n",
      "unnamed: 0           452\n",
      "c/a                 A002\n",
      "unit                R051\n",
      "scp             02-05-01\n",
      "station            59 ST\n",
      "linename         NQR456W\n",
      "division             BMT\n",
      "date          06/01/2017\n",
      "time            08:00:00\n",
      "desc             REGULAR\n",
      "entries                0\n",
      "exits                738\n",
      "hourly                 0\n",
      "Name: 452, dtype: object\n",
      "unnamed: 0           453\n",
      "c/a                 A002\n",
      "unit                R051\n",
      "scp             02-05-01\n",
      "station            59 ST\n",
      "linename         NQR456W\n",
      "division             BMT\n",
      "date          06/01/2017\n",
      "time            12:00:00\n",
      "desc             REGULAR\n",
      "entries                0\n",
      "exits                738\n",
      "hourly                 0\n",
      "Name: 453, dtype: object\n",
      "unnamed: 0           454\n",
      "c/a                 A002\n",
      "unit                R051\n",
      "scp             02-05-01\n",
      "station            59 ST\n",
      "linename         NQR456W\n",
      "division             BMT\n",
      "date          06/01/2017\n",
      "time            16:00:00\n",
      "desc             REGULAR\n",
      "entries                0\n",
      "exits                738\n",
      "hourly                 0\n",
      "Name: 454, dtype: object\n",
      "unnamed: 0           455\n",
      "c/a                 A002\n",
      "unit                R051\n",
      "scp             02-05-01\n",
      "station            59 ST\n",
      "linename         NQR456W\n",
      "division             BMT\n",
      "date          06/01/2017\n",
      "time            20:00:00\n",
      "desc             REGULAR\n",
      "entries                0\n",
      "exits                738\n",
      "hourly                 0\n",
      "Name: 455, dtype: object\n",
      "unnamed: 0           456\n",
      "c/a                 A002\n",
      "unit                R051\n",
      "scp             02-05-01\n",
      "station            59 ST\n",
      "linename         NQR456W\n",
      "division             BMT\n",
      "date          06/02/2017\n",
      "time            00:00:00\n",
      "desc             REGULAR\n",
      "entries                0\n",
      "exits                738\n",
      "hourly                 0\n",
      "Name: 456, dtype: object\n",
      "unnamed: 0           457\n",
      "c/a                 A002\n",
      "unit                R051\n",
      "scp             02-05-01\n",
      "station            59 ST\n",
      "linename         NQR456W\n",
      "division             BMT\n",
      "date          06/02/2017\n",
      "time            04:00:00\n",
      "desc             REGULAR\n",
      "entries                0\n",
      "exits                738\n",
      "hourly                 0\n",
      "Name: 457, dtype: object\n",
      "unnamed: 0           458\n",
      "c/a                 A002\n",
      "unit                R051\n",
      "scp             02-05-01\n",
      "station            59 ST\n",
      "linename         NQR456W\n",
      "division             BMT\n",
      "date          06/02/2017\n",
      "time            08:00:00\n",
      "desc             REGULAR\n",
      "entries                0\n",
      "exits                738\n",
      "hourly                 0\n",
      "Name: 458, dtype: object\n",
      "unnamed: 0           459\n",
      "c/a                 A002\n",
      "unit                R051\n",
      "scp             02-05-01\n",
      "station            59 ST\n",
      "linename         NQR456W\n",
      "division             BMT\n",
      "date          06/02/2017\n",
      "time            12:00:00\n",
      "desc             REGULAR\n",
      "entries                0\n",
      "exits                738\n",
      "hourly                 0\n",
      "Name: 459, dtype: object\n",
      "unnamed: 0           460\n",
      "c/a                 A002\n",
      "unit                R051\n",
      "scp             02-05-01\n",
      "station            59 ST\n",
      "linename         NQR456W\n",
      "division             BMT\n",
      "date          06/02/2017\n",
      "time            16:00:00\n",
      "desc             REGULAR\n",
      "entries                0\n",
      "exits                738\n",
      "hourly                 0\n",
      "Name: 460, dtype: object\n",
      "unnamed: 0           461\n",
      "c/a                 A002\n",
      "unit                R051\n",
      "scp             02-05-01\n",
      "station            59 ST\n",
      "linename         NQR456W\n",
      "division             BMT\n",
      "date          06/02/2017\n",
      "time            20:00:00\n",
      "desc             REGULAR\n",
      "entries                0\n",
      "exits                738\n",
      "hourly                 0\n",
      "Name: 461, dtype: object\n",
      "unnamed: 0           462\n",
      "c/a                 A002\n",
      "unit                R051\n",
      "scp             02-06-00\n",
      "station            59 ST\n",
      "linename         NQR456W\n",
      "division             BMT\n",
      "date          05/27/2017\n",
      "time            00:00:00\n",
      "desc             REGULAR\n",
      "entries          7059896\n",
      "exits             150658\n",
      "hourly                 0\n",
      "Name: 462, dtype: object\n",
      "unnamed: 0           463\n",
      "c/a                 A002\n",
      "unit                R051\n",
      "scp             02-06-00\n",
      "station            59 ST\n",
      "linename         NQR456W\n",
      "division             BMT\n",
      "date          05/27/2017\n",
      "time            04:00:00\n",
      "desc             REGULAR\n",
      "entries          7059921\n",
      "exits             150659\n",
      "hourly                 0\n",
      "Name: 463, dtype: object\n",
      "unnamed: 0           464\n",
      "c/a                 A002\n",
      "unit                R051\n",
      "scp             02-06-00\n",
      "station            59 ST\n",
      "linename         NQR456W\n",
      "division             BMT\n",
      "date          05/27/2017\n",
      "time            08:00:00\n",
      "desc             REGULAR\n",
      "entries          7059961\n",
      "exits             150662\n",
      "hourly                 0\n",
      "Name: 464, dtype: object\n",
      "unnamed: 0           465\n",
      "c/a                 A002\n",
      "unit                R051\n",
      "scp             02-06-00\n",
      "station            59 ST\n",
      "linename         NQR456W\n",
      "division             BMT\n",
      "date          05/27/2017\n",
      "time            12:00:00\n",
      "desc             REGULAR\n",
      "entries          7060075\n",
      "exits             150663\n",
      "hourly                 0\n",
      "Name: 465, dtype: object\n",
      "unnamed: 0           466\n",
      "c/a                 A002\n",
      "unit                R051\n",
      "scp             02-06-00\n",
      "station            59 ST\n",
      "linename         NQR456W\n",
      "division             BMT\n",
      "date          05/27/2017\n",
      "time            16:00:00\n",
      "desc             REGULAR\n",
      "entries          7060269\n",
      "exits             150670\n",
      "hourly                 0\n",
      "Name: 466, dtype: object\n",
      "unnamed: 0           467\n",
      "c/a                 A002\n",
      "unit                R051\n",
      "scp             02-06-00\n",
      "station            59 ST\n",
      "linename         NQR456W\n",
      "division             BMT\n",
      "date          05/27/2017\n",
      "time            20:00:00\n",
      "desc             REGULAR\n",
      "entries          7060486\n",
      "exits             150678\n",
      "hourly                 0\n",
      "Name: 467, dtype: object\n",
      "unnamed: 0           468\n",
      "c/a                 A002\n",
      "unit                R051\n",
      "scp             02-06-00\n",
      "station            59 ST\n",
      "linename         NQR456W\n",
      "division             BMT\n",
      "date          05/28/2017\n",
      "time            00:00:00\n",
      "desc             REGULAR\n",
      "entries          7060608\n",
      "exits             150683\n",
      "hourly                 0\n",
      "Name: 468, dtype: object\n",
      "unnamed: 0           469\n",
      "c/a                 A002\n",
      "unit                R051\n",
      "scp             02-06-00\n",
      "station            59 ST\n",
      "linename         NQR456W\n",
      "division             BMT\n",
      "date          05/28/2017\n",
      "time            04:00:00\n",
      "desc             REGULAR\n",
      "entries          7060622\n",
      "exits             150684\n",
      "hourly                 0\n",
      "Name: 469, dtype: object\n",
      "unnamed: 0           470\n",
      "c/a                 A002\n",
      "unit                R051\n",
      "scp             02-06-00\n",
      "station            59 ST\n",
      "linename         NQR456W\n",
      "division             BMT\n",
      "date          05/28/2017\n",
      "time            08:00:00\n",
      "desc             REGULAR\n",
      "entries          7060639\n",
      "exits             150687\n",
      "hourly                 0\n",
      "Name: 470, dtype: object\n",
      "unnamed: 0           471\n",
      "c/a                 A002\n",
      "unit                R051\n",
      "scp             02-06-00\n",
      "station            59 ST\n",
      "linename         NQR456W\n",
      "division             BMT\n",
      "date          05/28/2017\n",
      "time            12:00:00\n",
      "desc             REGULAR\n",
      "entries          7060731\n",
      "exits             150691\n",
      "hourly                 0\n",
      "Name: 471, dtype: object\n",
      "unnamed: 0           472\n",
      "c/a                 A002\n",
      "unit                R051\n",
      "scp             02-06-00\n",
      "station            59 ST\n",
      "linename         NQR456W\n",
      "division             BMT\n",
      "date          05/28/2017\n",
      "time            16:00:00\n",
      "desc             REGULAR\n",
      "entries          7060916\n",
      "exits             150696\n",
      "hourly                 0\n",
      "Name: 472, dtype: object\n",
      "unnamed: 0           473\n",
      "c/a                 A002\n",
      "unit                R051\n",
      "scp             02-06-00\n",
      "station            59 ST\n",
      "linename         NQR456W\n",
      "division             BMT\n",
      "date          05/28/2017\n",
      "time            20:00:00\n",
      "desc             REGULAR\n",
      "entries          7061081\n",
      "exits             150701\n",
      "hourly                 0\n",
      "Name: 473, dtype: object\n",
      "unnamed: 0           474\n",
      "c/a                 A002\n",
      "unit                R051\n",
      "scp             02-06-00\n",
      "station            59 ST\n",
      "linename         NQR456W\n",
      "division             BMT\n",
      "date          05/29/2017\n",
      "time            00:00:00\n",
      "desc             REGULAR\n",
      "entries          7061182\n",
      "exits             150712\n",
      "hourly                 0\n",
      "Name: 474, dtype: object\n",
      "unnamed: 0           475\n",
      "c/a                 A002\n",
      "unit                R051\n",
      "scp             02-06-00\n",
      "station            59 ST\n",
      "linename         NQR456W\n",
      "division             BMT\n",
      "date          05/29/2017\n",
      "time            04:00:00\n",
      "desc             REGULAR\n",
      "entries          7061195\n",
      "exits             150712\n",
      "hourly                 0\n",
      "Name: 475, dtype: object\n",
      "unnamed: 0           476\n",
      "c/a                 A002\n",
      "unit                R051\n",
      "scp             02-06-00\n",
      "station            59 ST\n",
      "linename         NQR456W\n",
      "division             BMT\n",
      "date          05/29/2017\n",
      "time            08:00:00\n",
      "desc             REGULAR\n",
      "entries          7061227\n",
      "exits             150714\n",
      "hourly                 0\n",
      "Name: 476, dtype: object\n",
      "unnamed: 0           477\n",
      "c/a                 A002\n",
      "unit                R051\n",
      "scp             02-06-00\n",
      "station            59 ST\n",
      "linename         NQR456W\n",
      "division             BMT\n",
      "date          05/29/2017\n",
      "time            12:00:00\n",
      "desc             REGULAR\n",
      "entries          7061318\n",
      "exits             150716\n",
      "hourly                 0\n",
      "Name: 477, dtype: object\n",
      "unnamed: 0           478\n",
      "c/a                 A002\n",
      "unit                R051\n",
      "scp             02-06-00\n",
      "station            59 ST\n",
      "linename         NQR456W\n",
      "division             BMT\n",
      "date          05/29/2017\n",
      "time            16:00:00\n",
      "desc             REGULAR\n",
      "entries          7061497\n",
      "exits             150717\n",
      "hourly                 0\n",
      "Name: 478, dtype: object\n",
      "unnamed: 0           479\n",
      "c/a                 A002\n",
      "unit                R051\n",
      "scp             02-06-00\n",
      "station            59 ST\n",
      "linename         NQR456W\n",
      "division             BMT\n",
      "date          05/29/2017\n",
      "time            20:00:00\n",
      "desc             REGULAR\n",
      "entries          7061670\n",
      "exits             150722\n",
      "hourly                 0\n",
      "Name: 479, dtype: object\n",
      "unnamed: 0           480\n",
      "c/a                 A002\n",
      "unit                R051\n",
      "scp             02-06-00\n",
      "station            59 ST\n",
      "linename         NQR456W\n",
      "division             BMT\n",
      "date          05/30/2017\n",
      "time            00:00:00\n",
      "desc             REGULAR\n",
      "entries          7061780\n",
      "exits             150729\n",
      "hourly                 0\n",
      "Name: 480, dtype: object\n",
      "unnamed: 0           481\n",
      "c/a                 A002\n",
      "unit                R051\n",
      "scp             02-06-00\n",
      "station            59 ST\n",
      "linename         NQR456W\n",
      "division             BMT\n",
      "date          05/30/2017\n",
      "time            04:00:00\n",
      "desc             REGULAR\n",
      "entries          7061786\n",
      "exits             150730\n",
      "hourly                 0\n",
      "Name: 481, dtype: object\n",
      "unnamed: 0           482\n",
      "c/a                 A002\n",
      "unit                R051\n",
      "scp             02-06-00\n",
      "station            59 ST\n",
      "linename         NQR456W\n",
      "division             BMT\n",
      "date          05/30/2017\n",
      "time            08:00:00\n",
      "desc             REGULAR\n",
      "entries          7061932\n",
      "exits             150730\n",
      "hourly                 0\n",
      "Name: 482, dtype: object\n",
      "unnamed: 0           483\n",
      "c/a                 A002\n",
      "unit                R051\n",
      "scp             02-06-00\n",
      "station            59 ST\n",
      "linename         NQR456W\n",
      "division             BMT\n",
      "date          05/30/2017\n",
      "time            12:00:00\n",
      "desc             REGULAR\n",
      "entries          7062284\n",
      "exits             150733\n",
      "hourly                 0\n",
      "Name: 483, dtype: object\n",
      "unnamed: 0           484\n",
      "c/a                 A002\n",
      "unit                R051\n",
      "scp             02-06-00\n",
      "station            59 ST\n",
      "linename         NQR456W\n",
      "division             BMT\n",
      "date          05/30/2017\n",
      "time            16:00:00\n",
      "desc             REGULAR\n",
      "entries          7062594\n",
      "exits             150745\n",
      "hourly                 0\n",
      "Name: 484, dtype: object\n",
      "unnamed: 0           485\n",
      "c/a                 A002\n",
      "unit                R051\n",
      "scp             02-06-00\n",
      "station            59 ST\n",
      "linename         NQR456W\n",
      "division             BMT\n",
      "date          05/30/2017\n",
      "time            20:00:00\n",
      "desc             REGULAR\n",
      "entries          7063258\n",
      "exits             150750\n",
      "hourly                 0\n",
      "Name: 485, dtype: object\n",
      "unnamed: 0           486\n",
      "c/a                 A002\n",
      "unit                R051\n",
      "scp             02-06-00\n",
      "station            59 ST\n",
      "linename         NQR456W\n",
      "division             BMT\n",
      "date          05/31/2017\n",
      "time            00:00:00\n",
      "desc             REGULAR\n",
      "entries          7063469\n",
      "exits             150754\n",
      "hourly                 0\n",
      "Name: 486, dtype: object\n",
      "unnamed: 0           487\n",
      "c/a                 A002\n",
      "unit                R051\n",
      "scp             02-06-00\n",
      "station            59 ST\n",
      "linename         NQR456W\n",
      "division             BMT\n",
      "date          05/31/2017\n",
      "time            04:00:00\n",
      "desc             REGULAR\n",
      "entries          7063488\n",
      "exits             150754\n",
      "hourly                 0\n",
      "Name: 487, dtype: object\n",
      "unnamed: 0           488\n",
      "c/a                 A002\n",
      "unit                R051\n",
      "scp             02-06-00\n",
      "station            59 ST\n",
      "linename         NQR456W\n",
      "division             BMT\n",
      "date          05/31/2017\n",
      "time            08:00:00\n",
      "desc             REGULAR\n",
      "entries          7063610\n",
      "exits             150756\n",
      "hourly                 0\n",
      "Name: 488, dtype: object\n",
      "unnamed: 0           489\n",
      "c/a                 A002\n",
      "unit                R051\n",
      "scp             02-06-00\n",
      "station            59 ST\n",
      "linename         NQR456W\n",
      "division             BMT\n",
      "date          05/31/2017\n",
      "time            12:00:00\n",
      "desc             REGULAR\n",
      "entries          7063977\n",
      "exits             150760\n",
      "hourly                 0\n",
      "Name: 489, dtype: object\n",
      "unnamed: 0           490\n",
      "c/a                 A002\n",
      "unit                R051\n",
      "scp             02-06-00\n",
      "station            59 ST\n",
      "linename         NQR456W\n",
      "division             BMT\n",
      "date          05/31/2017\n",
      "time            16:00:00\n",
      "desc             REGULAR\n",
      "entries          7064312\n",
      "exits             150765\n",
      "hourly                 0\n",
      "Name: 490, dtype: object\n",
      "unnamed: 0           491\n",
      "c/a                 A002\n",
      "unit                R051\n",
      "scp             02-06-00\n",
      "station            59 ST\n",
      "linename         NQR456W\n",
      "division             BMT\n",
      "date          05/31/2017\n",
      "time            20:00:00\n",
      "desc             REGULAR\n",
      "entries          7064938\n",
      "exits             150771\n",
      "hourly                 0\n",
      "Name: 491, dtype: object\n",
      "unnamed: 0           492\n",
      "c/a                 A002\n",
      "unit                R051\n",
      "scp             02-06-00\n",
      "station            59 ST\n",
      "linename         NQR456W\n",
      "division             BMT\n",
      "date          06/01/2017\n",
      "time            00:00:00\n",
      "desc             REGULAR\n",
      "entries          7065144\n",
      "exits             150776\n",
      "hourly                 0\n",
      "Name: 492, dtype: object\n",
      "unnamed: 0           493\n",
      "c/a                 A002\n",
      "unit                R051\n",
      "scp             02-06-00\n",
      "station            59 ST\n",
      "linename         NQR456W\n",
      "division             BMT\n",
      "date          06/01/2017\n",
      "time            04:00:00\n",
      "desc             REGULAR\n",
      "entries          7065157\n",
      "exits             150779\n",
      "hourly                 0\n",
      "Name: 493, dtype: object\n",
      "unnamed: 0           494\n",
      "c/a                 A002\n",
      "unit                R051\n",
      "scp             02-06-00\n",
      "station            59 ST\n",
      "linename         NQR456W\n",
      "division             BMT\n",
      "date          06/01/2017\n",
      "time            08:00:00\n",
      "desc             REGULAR\n",
      "entries          7065278\n",
      "exits             150780\n",
      "hourly                 0\n",
      "Name: 494, dtype: object\n",
      "unnamed: 0           495\n",
      "c/a                 A002\n",
      "unit                R051\n",
      "scp             02-06-00\n",
      "station            59 ST\n",
      "linename         NQR456W\n",
      "division             BMT\n",
      "date          06/01/2017\n",
      "time            12:00:00\n",
      "desc             REGULAR\n",
      "entries          7065615\n",
      "exits             150781\n",
      "hourly                 0\n",
      "Name: 495, dtype: object\n",
      "unnamed: 0           496\n",
      "c/a                 A002\n",
      "unit                R051\n",
      "scp             02-06-00\n",
      "station            59 ST\n",
      "linename         NQR456W\n",
      "division             BMT\n",
      "date          06/01/2017\n",
      "time            16:00:00\n",
      "desc             REGULAR\n",
      "entries          7065943\n",
      "exits             150784\n",
      "hourly                 0\n",
      "Name: 496, dtype: object\n",
      "unnamed: 0           497\n",
      "c/a                 A002\n",
      "unit                R051\n",
      "scp             02-06-00\n",
      "station            59 ST\n",
      "linename         NQR456W\n",
      "division             BMT\n",
      "date          06/01/2017\n",
      "time            20:00:00\n",
      "desc             REGULAR\n",
      "entries          7066613\n",
      "exits             150786\n",
      "hourly                 0\n",
      "Name: 497, dtype: object\n",
      "unnamed: 0           498\n",
      "c/a                 A002\n",
      "unit                R051\n",
      "scp             02-06-00\n",
      "station            59 ST\n",
      "linename         NQR456W\n",
      "division             BMT\n",
      "date          06/02/2017\n",
      "time            00:00:00\n",
      "desc             REGULAR\n",
      "entries          7066832\n",
      "exits             150792\n",
      "hourly                 0\n",
      "Name: 498, dtype: object\n",
      "unnamed: 0           499\n",
      "c/a                 A002\n",
      "unit                R051\n",
      "scp             02-06-00\n",
      "station            59 ST\n",
      "linename         NQR456W\n",
      "division             BMT\n",
      "date          06/02/2017\n",
      "time            04:00:00\n",
      "desc             REGULAR\n",
      "entries          7066859\n",
      "exits             150797\n",
      "hourly                 0\n",
      "Name: 499, dtype: object\n"
     ]
    }
   ],
   "source": [
    "for i in range(410, 500):\n",
    "    print(test.iloc[i])\n"
   ]
  },
  {
   "cell_type": "markdown",
   "metadata": {},
   "source": [
    "The options for dealing with the missing data are getting kind of time sensitive.  \n",
    "The issues we have to deal with so far. \n",
    "\n",
    "* Some of the values are going backwards in entries\n",
    "* Some of the values take a huge negative jump to 0, apparently resets? \n",
    "* There is the general problem of sorting correctly, is the serial number reliable? \n",
    "\n",
    "What is the procedure? We try out different sorting mechanisms and eyeball how well they work. This involves developing a metric for how well we are doing. Maybe the number of zeros? No, the zeros don't really change. The zeros are there. What we are trying to tamp down are the number of big jumps that occur naturally in the data. Ideally there should be no negative jumps. But not all negative jumps are created equal. The really big jumps come when we have a reset or we have subtotals running up against one another from different machines. So we score each procedure by the number of negative jumps and the size of the negative jumps.  \n",
    "\n",
    "We want a measure of the average jump between two entries that occur at adjacent times. \n",
    "\n",
    "What if there is a way to look for non-consecutive times in the data set? Maybe the better set up the data is the fewer will be the time jumps, either gaps or movements in the wrong direction.\n",
    "\n",
    "So, as a first cut, lets get the number of negative values in the data set if we just subtract the preceeding value from every value. "
   ]
  },
  {
   "cell_type": "code",
   "execution_count": 57,
   "metadata": {},
   "outputs": [
    {
     "data": {
      "text/html": [
       "<div>\n",
       "<style>\n",
       "    .dataframe thead tr:only-child th {\n",
       "        text-align: right;\n",
       "    }\n",
       "\n",
       "    .dataframe thead th {\n",
       "        text-align: left;\n",
       "    }\n",
       "\n",
       "    .dataframe tbody tr th {\n",
       "        vertical-align: top;\n",
       "    }\n",
       "</style>\n",
       "<table border=\"1\" class=\"dataframe\">\n",
       "  <thead>\n",
       "    <tr style=\"text-align: right;\">\n",
       "      <th></th>\n",
       "      <th>unnamed: 0</th>\n",
       "      <th>c/a</th>\n",
       "      <th>unit</th>\n",
       "      <th>scp</th>\n",
       "      <th>station</th>\n",
       "      <th>linename</th>\n",
       "      <th>division</th>\n",
       "      <th>date</th>\n",
       "      <th>time</th>\n",
       "      <th>desc</th>\n",
       "      <th>entries</th>\n",
       "      <th>exits</th>\n",
       "      <th>hourly</th>\n",
       "    </tr>\n",
       "  </thead>\n",
       "  <tbody>\n",
       "    <tr>\n",
       "      <th>0</th>\n",
       "      <td>0</td>\n",
       "      <td>A002</td>\n",
       "      <td>R051</td>\n",
       "      <td>02-00-00</td>\n",
       "      <td>59 ST</td>\n",
       "      <td>NQR456W</td>\n",
       "      <td>BMT</td>\n",
       "      <td>05/27/2017</td>\n",
       "      <td>00:00:00</td>\n",
       "      <td>REGULAR</td>\n",
       "      <td>6195217</td>\n",
       "      <td>2098317</td>\n",
       "      <td>0</td>\n",
       "    </tr>\n",
       "    <tr>\n",
       "      <th>1</th>\n",
       "      <td>1</td>\n",
       "      <td>A002</td>\n",
       "      <td>R051</td>\n",
       "      <td>02-00-00</td>\n",
       "      <td>59 ST</td>\n",
       "      <td>NQR456W</td>\n",
       "      <td>BMT</td>\n",
       "      <td>05/27/2017</td>\n",
       "      <td>04:00:00</td>\n",
       "      <td>REGULAR</td>\n",
       "      <td>6195240</td>\n",
       "      <td>2098318</td>\n",
       "      <td>0</td>\n",
       "    </tr>\n",
       "    <tr>\n",
       "      <th>2</th>\n",
       "      <td>2</td>\n",
       "      <td>A002</td>\n",
       "      <td>R051</td>\n",
       "      <td>02-00-00</td>\n",
       "      <td>59 ST</td>\n",
       "      <td>NQR456W</td>\n",
       "      <td>BMT</td>\n",
       "      <td>05/27/2017</td>\n",
       "      <td>08:00:00</td>\n",
       "      <td>REGULAR</td>\n",
       "      <td>6195256</td>\n",
       "      <td>2098347</td>\n",
       "      <td>0</td>\n",
       "    </tr>\n",
       "    <tr>\n",
       "      <th>3</th>\n",
       "      <td>3</td>\n",
       "      <td>A002</td>\n",
       "      <td>R051</td>\n",
       "      <td>02-00-00</td>\n",
       "      <td>59 ST</td>\n",
       "      <td>NQR456W</td>\n",
       "      <td>BMT</td>\n",
       "      <td>05/27/2017</td>\n",
       "      <td>12:00:00</td>\n",
       "      <td>REGULAR</td>\n",
       "      <td>6195346</td>\n",
       "      <td>2098432</td>\n",
       "      <td>0</td>\n",
       "    </tr>\n",
       "    <tr>\n",
       "      <th>4</th>\n",
       "      <td>4</td>\n",
       "      <td>A002</td>\n",
       "      <td>R051</td>\n",
       "      <td>02-00-00</td>\n",
       "      <td>59 ST</td>\n",
       "      <td>NQR456W</td>\n",
       "      <td>BMT</td>\n",
       "      <td>05/27/2017</td>\n",
       "      <td>16:00:00</td>\n",
       "      <td>REGULAR</td>\n",
       "      <td>6195518</td>\n",
       "      <td>2098491</td>\n",
       "      <td>0</td>\n",
       "    </tr>\n",
       "  </tbody>\n",
       "</table>\n",
       "</div>"
      ],
      "text/plain": [
       "   unnamed: 0   c/a  unit       scp station linename division        date  \\\n",
       "0           0  A002  R051  02-00-00   59 ST  NQR456W      BMT  05/27/2017   \n",
       "1           1  A002  R051  02-00-00   59 ST  NQR456W      BMT  05/27/2017   \n",
       "2           2  A002  R051  02-00-00   59 ST  NQR456W      BMT  05/27/2017   \n",
       "3           3  A002  R051  02-00-00   59 ST  NQR456W      BMT  05/27/2017   \n",
       "4           4  A002  R051  02-00-00   59 ST  NQR456W      BMT  05/27/2017   \n",
       "\n",
       "       time     desc  entries    exits  hourly  \n",
       "0  00:00:00  REGULAR  6195217  2098317       0  \n",
       "1  04:00:00  REGULAR  6195240  2098318       0  \n",
       "2  08:00:00  REGULAR  6195256  2098347       0  \n",
       "3  12:00:00  REGULAR  6195346  2098432       0  \n",
       "4  16:00:00  REGULAR  6195518  2098491       0  "
      ]
     },
     "execution_count": 57,
     "metadata": {},
     "output_type": "execute_result"
    }
   ],
   "source": [
    "test['hourly'] = 0\n",
    "\n",
    "test.head()"
   ]
  },
  {
   "cell_type": "code",
   "execution_count": 58,
   "metadata": {},
   "outputs": [
    {
     "name": "stdout",
     "output_type": "stream",
     "text": [
      "0\n"
     ]
    }
   ],
   "source": [
    "print(test.iloc[4,12])"
   ]
  },
  {
   "cell_type": "code",
   "execution_count": 48,
   "metadata": {},
   "outputs": [],
   "source": [
    "# for index, row in test[1:-1].iterrows():\n",
    "# #     print(index)\n",
    "# #     print(row.iloc[10])\n",
    "# #     print(row['entries']-test.iloc[index-1,10])\n",
    "\n",
    "# use the if statement to say if the row has the same id as the one before then take the dif\n",
    "# else, \n",
    "#     test.iloc[index,12] = row['entries'] - test.iloc[index-1,10]\n",
    "   \n",
    "\n",
    "    "
   ]
  },
  {
   "cell_type": "code",
   "execution_count": 27,
   "metadata": {},
   "outputs": [],
   "source": [
    "# s = pd.to_numeric(test['entries'].diff())"
   ]
  },
  {
   "cell_type": "code",
   "execution_count": 28,
   "metadata": {},
   "outputs": [],
   "source": [
    "# s2 = test['hourly']"
   ]
  },
  {
   "cell_type": "code",
   "execution_count": 29,
   "metadata": {},
   "outputs": [],
   "source": [
    "# s == s2"
   ]
  },
  {
   "cell_type": "code",
   "execution_count": 30,
   "metadata": {},
   "outputs": [],
   "source": [
    "# test['hourly'] = s"
   ]
  },
  {
   "cell_type": "code",
   "execution_count": 31,
   "metadata": {},
   "outputs": [],
   "source": [
    "# test.groupby(['station','linename', 'scp'])['hourly'].sum().count()"
   ]
  },
  {
   "cell_type": "code",
   "execution_count": null,
   "metadata": {
    "collapsed": true
   },
   "outputs": [],
   "source": []
  },
  {
   "cell_type": "code",
   "execution_count": 32,
   "metadata": {},
   "outputs": [],
   "source": [
    "# len(set(test['UNIT']))"
   ]
  },
  {
   "cell_type": "code",
   "execution_count": 34,
   "metadata": {},
   "outputs": [],
   "source": [
    "# test.groupby(['STATION','C/A'])['ENTRIES'].min()"
   ]
  },
  {
   "cell_type": "code",
   "execution_count": 35,
   "metadata": {},
   "outputs": [
    {
     "data": {
      "text/html": [
       "<div>\n",
       "<style>\n",
       "    .dataframe thead tr:only-child th {\n",
       "        text-align: right;\n",
       "    }\n",
       "\n",
       "    .dataframe thead th {\n",
       "        text-align: left;\n",
       "    }\n",
       "\n",
       "    .dataframe tbody tr th {\n",
       "        vertical-align: top;\n",
       "    }\n",
       "</style>\n",
       "<table border=\"1\" class=\"dataframe\">\n",
       "  <thead>\n",
       "    <tr style=\"text-align: right;\">\n",
       "      <th></th>\n",
       "      <th>unnamed: 0</th>\n",
       "      <th>c/a</th>\n",
       "      <th>unit</th>\n",
       "      <th>scp</th>\n",
       "      <th>station</th>\n",
       "      <th>linename</th>\n",
       "      <th>division</th>\n",
       "      <th>date</th>\n",
       "      <th>time</th>\n",
       "      <th>desc</th>\n",
       "      <th>entries</th>\n",
       "      <th>exits</th>\n",
       "      <th>hourly</th>\n",
       "    </tr>\n",
       "  </thead>\n",
       "  <tbody>\n",
       "    <tr>\n",
       "      <th>0</th>\n",
       "      <td>0</td>\n",
       "      <td>A002</td>\n",
       "      <td>R051</td>\n",
       "      <td>02-00-00</td>\n",
       "      <td>59 ST</td>\n",
       "      <td>NQR456W</td>\n",
       "      <td>BMT</td>\n",
       "      <td>05/27/2017</td>\n",
       "      <td>00:00:00</td>\n",
       "      <td>REGULAR</td>\n",
       "      <td>6195217</td>\n",
       "      <td>2098317</td>\n",
       "      <td>0</td>\n",
       "    </tr>\n",
       "    <tr>\n",
       "      <th>1</th>\n",
       "      <td>1</td>\n",
       "      <td>A002</td>\n",
       "      <td>R051</td>\n",
       "      <td>02-00-00</td>\n",
       "      <td>59 ST</td>\n",
       "      <td>NQR456W</td>\n",
       "      <td>BMT</td>\n",
       "      <td>05/27/2017</td>\n",
       "      <td>04:00:00</td>\n",
       "      <td>REGULAR</td>\n",
       "      <td>6195240</td>\n",
       "      <td>2098318</td>\n",
       "      <td>23</td>\n",
       "    </tr>\n",
       "    <tr>\n",
       "      <th>2</th>\n",
       "      <td>2</td>\n",
       "      <td>A002</td>\n",
       "      <td>R051</td>\n",
       "      <td>02-00-00</td>\n",
       "      <td>59 ST</td>\n",
       "      <td>NQR456W</td>\n",
       "      <td>BMT</td>\n",
       "      <td>05/27/2017</td>\n",
       "      <td>08:00:00</td>\n",
       "      <td>REGULAR</td>\n",
       "      <td>6195256</td>\n",
       "      <td>2098347</td>\n",
       "      <td>16</td>\n",
       "    </tr>\n",
       "    <tr>\n",
       "      <th>3</th>\n",
       "      <td>3</td>\n",
       "      <td>A002</td>\n",
       "      <td>R051</td>\n",
       "      <td>02-00-00</td>\n",
       "      <td>59 ST</td>\n",
       "      <td>NQR456W</td>\n",
       "      <td>BMT</td>\n",
       "      <td>05/27/2017</td>\n",
       "      <td>12:00:00</td>\n",
       "      <td>REGULAR</td>\n",
       "      <td>6195346</td>\n",
       "      <td>2098432</td>\n",
       "      <td>90</td>\n",
       "    </tr>\n",
       "    <tr>\n",
       "      <th>4</th>\n",
       "      <td>4</td>\n",
       "      <td>A002</td>\n",
       "      <td>R051</td>\n",
       "      <td>02-00-00</td>\n",
       "      <td>59 ST</td>\n",
       "      <td>NQR456W</td>\n",
       "      <td>BMT</td>\n",
       "      <td>05/27/2017</td>\n",
       "      <td>16:00:00</td>\n",
       "      <td>REGULAR</td>\n",
       "      <td>6195518</td>\n",
       "      <td>2098491</td>\n",
       "      <td>172</td>\n",
       "    </tr>\n",
       "  </tbody>\n",
       "</table>\n",
       "</div>"
      ],
      "text/plain": [
       "   unnamed: 0   c/a  unit       scp station linename division        date  \\\n",
       "0           0  A002  R051  02-00-00   59 ST  NQR456W      BMT  05/27/2017   \n",
       "1           1  A002  R051  02-00-00   59 ST  NQR456W      BMT  05/27/2017   \n",
       "2           2  A002  R051  02-00-00   59 ST  NQR456W      BMT  05/27/2017   \n",
       "3           3  A002  R051  02-00-00   59 ST  NQR456W      BMT  05/27/2017   \n",
       "4           4  A002  R051  02-00-00   59 ST  NQR456W      BMT  05/27/2017   \n",
       "\n",
       "       time     desc  entries    exits  hourly  \n",
       "0  00:00:00  REGULAR  6195217  2098317       0  \n",
       "1  04:00:00  REGULAR  6195240  2098318      23  \n",
       "2  08:00:00  REGULAR  6195256  2098347      16  \n",
       "3  12:00:00  REGULAR  6195346  2098432      90  \n",
       "4  16:00:00  REGULAR  6195518  2098491     172  "
      ]
     },
     "execution_count": 35,
     "metadata": {},
     "output_type": "execute_result"
    }
   ],
   "source": [
    "test.head()"
   ]
  },
  {
   "cell_type": "code",
   "execution_count": 59,
   "metadata": {},
   "outputs": [],
   "source": [
    "s = abs(test.sort_values(by=['station','linename','scp','date'])['entries'].diff())"
   ]
  },
  {
   "cell_type": "code",
   "execution_count": 60,
   "metadata": {},
   "outputs": [
    {
     "data": {
      "text/plain": [
       "0.000000e+00    31408\n",
       "1.000000e+00     3360\n",
       "2.000000e+00     2399\n",
       "3.000000e+00     2021\n",
       "4.000000e+00     1864\n",
       "6.000000e+00     1727\n",
       "5.000000e+00     1682\n",
       "7.000000e+00     1653\n",
       "8.000000e+00     1510\n",
       "9.000000e+00     1501\n",
       "1.000000e+01     1411\n",
       "1.100000e+01     1382\n",
       "1.200000e+01     1357\n",
       "1.300000e+01     1321\n",
       "1.400000e+01     1274\n",
       "1.500000e+01     1254\n",
       "1.600000e+01     1224\n",
       "1.700000e+01     1204\n",
       "1.800000e+01     1091\n",
       "2.200000e+01     1079\n",
       "2.000000e+01     1067\n",
       "1.900000e+01     1056\n",
       "2.400000e+01     1027\n",
       "2.300000e+01      959\n",
       "2.100000e+01      955\n",
       "2.500000e+01      919\n",
       "2.600000e+01      918\n",
       "2.900000e+01      888\n",
       "3.000000e+01      882\n",
       "2.700000e+01      877\n",
       "                ...  \n",
       "1.507583e+07        1\n",
       "8.501500e+04        1\n",
       "2.125700e+04        1\n",
       "1.593863e+09        1\n",
       "1.593861e+09        1\n",
       "1.882248e+06        1\n",
       "9.403270e+05        1\n",
       "3.388980e+05        1\n",
       "4.700800e+05        1\n",
       "2.712130e+06        1\n",
       "6.780390e+05        1\n",
       "3.471847e+08        1\n",
       "3.471870e+08        1\n",
       "3.471894e+08        1\n",
       "3.471917e+08        1\n",
       "3.471937e+08        1\n",
       "3.471964e+08        1\n",
       "1.925986e+09        1\n",
       "2.715675e+06        1\n",
       "6.782910e+05        1\n",
       "6.783390e+05        1\n",
       "1.325000e+03        1\n",
       "2.120100e+04        1\n",
       "7.525360e+06        1\n",
       "1.357152e+06        1\n",
       "7.526324e+06        1\n",
       "7.527049e+06        1\n",
       "1.881948e+06        1\n",
       "2.286000e+03        1\n",
       "1.163843e+08        1\n",
       "Name: entries, Length: 7767, dtype: int64"
      ]
     },
     "execution_count": 60,
     "metadata": {},
     "output_type": "execute_result"
    }
   ],
   "source": [
    "s.value_counts()"
   ]
  },
  {
   "cell_type": "code",
   "execution_count": 61,
   "metadata": {},
   "outputs": [
    {
     "data": {
      "text/plain": [
       "58405566.46180423"
      ]
     },
     "execution_count": 61,
     "metadata": {},
     "output_type": "execute_result"
    }
   ],
   "source": [
    "s.std()"
   ]
  },
  {
   "cell_type": "markdown",
   "metadata": {},
   "source": [
    "Ok, I am going to test different grouping and sorting techniques, put each one in a data set, and do some descripitive statistics on the resultling 'hourly' variable. The default for pandas sort is False."
   ]
  },
  {
   "cell_type": "code",
   "execution_count": 65,
   "metadata": {},
   "outputs": [],
   "source": [
    "#sort\n",
    "test_sorted = s\n",
    "test_sorted['hourly'] = abs(test.sort_values(by=['station','linename','scp','date','time'])['entries'].diff())"
   ]
  },
  {
   "cell_type": "code",
   "execution_count": 66,
   "metadata": {},
   "outputs": [
    {
     "name": "stdout",
     "output_type": "stream",
     "text": [
      "195959\n",
      "195958\n"
     ]
    }
   ],
   "source": [
    "print(len(test_sorted))\n",
    "print(len(test))"
   ]
  },
  {
   "cell_type": "code",
   "execution_count": 69,
   "metadata": {},
   "outputs": [],
   "source": [
    "std_3 = test_sorted['hourly'].std()"
   ]
  },
  {
   "cell_type": "code",
   "execution_count": 70,
   "metadata": {},
   "outputs": [
    {
     "name": "stdout",
     "output_type": "stream",
     "text": [
      "112116234.28921494\n"
     ]
    }
   ],
   "source": [
    "print(std_3)"
   ]
  },
  {
   "cell_type": "code",
   "execution_count": 71,
   "metadata": {
    "collapsed": true
   },
   "outputs": [],
   "source": [
    "#create a new df in which we create the test id\n",
    "test_id = test"
   ]
  },
  {
   "cell_type": "code",
   "execution_count": 72,
   "metadata": {
    "collapsed": true
   },
   "outputs": [],
   "source": [
    "test_id['id'] = test_id['station'] + test_id['linename'] + test_id['scp']"
   ]
  },
  {
   "cell_type": "code",
   "execution_count": 73,
   "metadata": {},
   "outputs": [],
   "source": [
    "test_id['hourly'] = abs(test_id.sort_values(by=['id','date','time'])['entries'].diff())"
   ]
  },
  {
   "cell_type": "code",
   "execution_count": 74,
   "metadata": {},
   "outputs": [],
   "source": [
    "std_4 = test_id['hourly'].std()"
   ]
  },
  {
   "cell_type": "code",
   "execution_count": 76,
   "metadata": {},
   "outputs": [
    {
     "data": {
      "text/plain": [
       "1.0004703115265954"
      ]
     },
     "execution_count": 76,
     "metadata": {},
     "output_type": "execute_result"
    }
   ],
   "source": [
    "std_4/std_3"
   ]
  },
  {
   "cell_type": "code",
   "execution_count": 77,
   "metadata": {},
   "outputs": [
    {
     "data": {
      "text/plain": [
       "<matplotlib.axes._subplots.AxesSubplot at 0x11d39ca58>"
      ]
     },
     "execution_count": 77,
     "metadata": {},
     "output_type": "execute_result"
    },
    {
     "data": {
      "image/png": "[encoded data removed]",
      "text/plain": [
       "<matplotlib.figure.Figure at 0x11d3b3a90>"
      ]
     },
     "metadata": {},
     "output_type": "display_data"
    }
   ],
   "source": [
    "test_id['hourly'].hist()\n",
    "test_id['hourly'].plot(kind='kde')"
   ]
  },
  {
   "cell_type": "markdown",
   "metadata": {},
   "source": [
    "I am going to try to loop through the unique ids we made and calculate the differences within those id groups. "
   ]
  },
  {
   "cell_type": "code",
   "execution_count": 78,
   "metadata": {},
   "outputs": [
    {
     "data": {
      "text/plain": [
       "4571"
      ]
     },
     "execution_count": 78,
     "metadata": {},
     "output_type": "execute_result"
    }
   ],
   "source": [
    "len(test_id['id'].unique())"
   ]
  },
  {
   "cell_type": "code",
   "execution_count": 80,
   "metadata": {},
   "outputs": [],
   "source": [
    "# for i in test_id['id']:\n",
    "#     print(i)"
   ]
  },
  {
   "cell_type": "code",
   "execution_count": 81,
   "metadata": {},
   "outputs": [
    {
     "data": {
      "text/html": [
       "<div>\n",
       "<style>\n",
       "    .dataframe thead tr:only-child th {\n",
       "        text-align: right;\n",
       "    }\n",
       "\n",
       "    .dataframe thead th {\n",
       "        text-align: left;\n",
       "    }\n",
       "\n",
       "    .dataframe tbody tr th {\n",
       "        vertical-align: top;\n",
       "    }\n",
       "</style>\n",
       "<table border=\"1\" class=\"dataframe\">\n",
       "  <thead>\n",
       "    <tr style=\"text-align: right;\">\n",
       "      <th></th>\n",
       "      <th>unnamed: 0</th>\n",
       "      <th>c/a</th>\n",
       "      <th>unit</th>\n",
       "      <th>scp</th>\n",
       "      <th>station</th>\n",
       "      <th>linename</th>\n",
       "      <th>division</th>\n",
       "      <th>date</th>\n",
       "      <th>time</th>\n",
       "      <th>desc</th>\n",
       "      <th>entries</th>\n",
       "      <th>exits</th>\n",
       "      <th>hourly</th>\n",
       "      <th>id</th>\n",
       "    </tr>\n",
       "  </thead>\n",
       "  <tbody>\n",
       "    <tr>\n",
       "      <th>0</th>\n",
       "      <td>0</td>\n",
       "      <td>A002</td>\n",
       "      <td>R051</td>\n",
       "      <td>02-00-00</td>\n",
       "      <td>59 ST</td>\n",
       "      <td>NQR456W</td>\n",
       "      <td>BMT</td>\n",
       "      <td>05/27/2017</td>\n",
       "      <td>00:00:00</td>\n",
       "      <td>REGULAR</td>\n",
       "      <td>6195217</td>\n",
       "      <td>2098317</td>\n",
       "      <td>5992912.0</td>\n",
       "      <td>59 STNQR456W02-00-00</td>\n",
       "    </tr>\n",
       "    <tr>\n",
       "      <th>1</th>\n",
       "      <td>1</td>\n",
       "      <td>A002</td>\n",
       "      <td>R051</td>\n",
       "      <td>02-00-00</td>\n",
       "      <td>59 ST</td>\n",
       "      <td>NQR456W</td>\n",
       "      <td>BMT</td>\n",
       "      <td>05/27/2017</td>\n",
       "      <td>04:00:00</td>\n",
       "      <td>REGULAR</td>\n",
       "      <td>6195240</td>\n",
       "      <td>2098318</td>\n",
       "      <td>23.0</td>\n",
       "      <td>59 STNQR456W02-00-00</td>\n",
       "    </tr>\n",
       "    <tr>\n",
       "      <th>2</th>\n",
       "      <td>2</td>\n",
       "      <td>A002</td>\n",
       "      <td>R051</td>\n",
       "      <td>02-00-00</td>\n",
       "      <td>59 ST</td>\n",
       "      <td>NQR456W</td>\n",
       "      <td>BMT</td>\n",
       "      <td>05/27/2017</td>\n",
       "      <td>08:00:00</td>\n",
       "      <td>REGULAR</td>\n",
       "      <td>6195256</td>\n",
       "      <td>2098347</td>\n",
       "      <td>16.0</td>\n",
       "      <td>59 STNQR456W02-00-00</td>\n",
       "    </tr>\n",
       "    <tr>\n",
       "      <th>3</th>\n",
       "      <td>3</td>\n",
       "      <td>A002</td>\n",
       "      <td>R051</td>\n",
       "      <td>02-00-00</td>\n",
       "      <td>59 ST</td>\n",
       "      <td>NQR456W</td>\n",
       "      <td>BMT</td>\n",
       "      <td>05/27/2017</td>\n",
       "      <td>12:00:00</td>\n",
       "      <td>REGULAR</td>\n",
       "      <td>6195346</td>\n",
       "      <td>2098432</td>\n",
       "      <td>90.0</td>\n",
       "      <td>59 STNQR456W02-00-00</td>\n",
       "    </tr>\n",
       "    <tr>\n",
       "      <th>4</th>\n",
       "      <td>4</td>\n",
       "      <td>A002</td>\n",
       "      <td>R051</td>\n",
       "      <td>02-00-00</td>\n",
       "      <td>59 ST</td>\n",
       "      <td>NQR456W</td>\n",
       "      <td>BMT</td>\n",
       "      <td>05/27/2017</td>\n",
       "      <td>16:00:00</td>\n",
       "      <td>REGULAR</td>\n",
       "      <td>6195518</td>\n",
       "      <td>2098491</td>\n",
       "      <td>172.0</td>\n",
       "      <td>59 STNQR456W02-00-00</td>\n",
       "    </tr>\n",
       "  </tbody>\n",
       "</table>\n",
       "</div>"
      ],
      "text/plain": [
       "   unnamed: 0   c/a  unit       scp station linename division        date  \\\n",
       "0           0  A002  R051  02-00-00   59 ST  NQR456W      BMT  05/27/2017   \n",
       "1           1  A002  R051  02-00-00   59 ST  NQR456W      BMT  05/27/2017   \n",
       "2           2  A002  R051  02-00-00   59 ST  NQR456W      BMT  05/27/2017   \n",
       "3           3  A002  R051  02-00-00   59 ST  NQR456W      BMT  05/27/2017   \n",
       "4           4  A002  R051  02-00-00   59 ST  NQR456W      BMT  05/27/2017   \n",
       "\n",
       "       time     desc  entries    exits     hourly                    id  \n",
       "0  00:00:00  REGULAR  6195217  2098317  5992912.0  59 STNQR456W02-00-00  \n",
       "1  04:00:00  REGULAR  6195240  2098318       23.0  59 STNQR456W02-00-00  \n",
       "2  08:00:00  REGULAR  6195256  2098347       16.0  59 STNQR456W02-00-00  \n",
       "3  12:00:00  REGULAR  6195346  2098432       90.0  59 STNQR456W02-00-00  \n",
       "4  16:00:00  REGULAR  6195518  2098491      172.0  59 STNQR456W02-00-00  "
      ]
     },
     "execution_count": 81,
     "metadata": {},
     "output_type": "execute_result"
    }
   ],
   "source": [
    "test_id.head()"
   ]
  },
  {
   "cell_type": "markdown",
   "metadata": {
    "collapsed": true
   },
   "source": [
    "### Older Plan"
   ]
  },
  {
   "cell_type": "markdown",
   "metadata": {},
   "source": [
    "std_1 is the standard deviation from sorting by ['station','scp','date','time'] and taking the difference between entries. Nine digit standard deviations indicate a bad number. When we add 'linename' to the sorting terms we get a reduction in the standard deviation of about 81 million, so that is something.   \n",
    "\n",
    "Next I take the absolute value of the difference to try to cancel out the noise of the units that count backwards. That doesn't really make much difference. But now we can look at dividing the standard deviations and seeing what that does and we see that the standard deviations improve by about half when we bring the 'linename' into the sort.  \n",
    "\n",
    "Now I am going to try Jonathan's idea of creating a unique id by adding togehter the variables we think are important. Now the interesting thing is that the performance of the model seems to have actually gotten worse. The standard deviation of the model when we take the data sorted by the new id and then sorted by time is just a little over half the size of the original standard deviation. This is after taking the absolute value of the differences. So this is really terrible. The hourly entries are still coming out measured on a scale that reaches into the billions. This data is close to totally useless.  \n",
    "\n",
    "There are going to be two sources of rediculous values, resets and different machines. To get any kind of reasonable estimates we have to get rid of the differences caused by different machines. We should make a list of the unique ids, loop through that list running diff on all the members in that list to populate 'hourly', and then go on to the next id in the list. Resets that happen within that group will still be a problem but those we might be able to deal with as missing data and just get rid of them. \n",
    "\n",
    "Joe says they just chose 20k as a cut-off and went from there. They found a kde plot that gave them a sort of reasonable argument for choosing that level as a cutoff. I am tempted to go with that.  \n",
    "\n",
    "Now I need to review the commands for getting rid of data. I have to just throw out some data so that we can move on to other parts of the analysis. Once we get a reasonable analysis we can get a minimal acceptable product up and go back and make refinements if we like.  \n",
    "\n",
    "So, the first thing is to go through the data set and have a criteria for making out things as NaN. A bit of an internet search is necessary.  \n",
    "\n"
   ]
  },
  {
   "cell_type": "markdown",
   "metadata": {
    "collapsed": true
   },
   "source": [
    "### New Plan\n",
    "Talked to David and he expressed confidence that the whole problem could be handled by groupby. In particular, he said that all the trouble we went through with ids could be handled by `.groupby()` and `.diff()`.  \n",
    "\n",
    "This is his **claim**: the diff funciton called on a group will return the values for the differences in the rows that are in that group, not the differences between the groups. I find this hard to believe, but he is the expert and I have to give it a try. \n",
    "\n",
    "The test data set still has the hourly and id variables attached but I don't see any need to get rid of them. I can keep them and create the new versions of hourly to compare, even.  "
   ]
  },
  {
   "cell_type": "code",
   "execution_count": 85,
   "metadata": {},
   "outputs": [],
   "source": [
    "test_diff = test.groupby(['station','linename','scp'])['entries'].diff()"
   ]
  },
  {
   "cell_type": "code",
   "execution_count": 92,
   "metadata": {},
   "outputs": [
    {
     "name": "stdout",
     "output_type": "stream",
     "text": [
      "195958\n",
      "195958\n"
     ]
    }
   ],
   "source": [
    "print(len(test_diff))\n",
    "print(len(test))"
   ]
  },
  {
   "cell_type": "markdown",
   "metadata": {
    "collapsed": true
   },
   "source": [
    "My God! I didn't believe him, but he is right. So now we have a diff for each of the entries of hourly and it seems like we should be able to just tack it back on the data set. I have to get the thing working now.  \n",
    "\n",
    "First I will get the standard deviation and compare it to standard deviation 3, which was the best I had done so far. "
   ]
  },
  {
   "cell_type": "code",
   "execution_count": 93,
   "metadata": {},
   "outputs": [
    {
     "name": "stdout",
     "output_type": "stream",
     "text": [
      "11796568.896921124\n",
      "0.10521731283348945\n"
     ]
    }
   ],
   "source": [
    "std_diff = test_diff.std()\n",
    "print(std_diff)\n",
    "print(std_diff/std_3)"
   ]
  },
  {
   "cell_type": "markdown",
   "metadata": {
    "collapsed": true
   },
   "source": [
    "Ok, so this is a huget improvement, though you wouldn't know it from the absolute value of the standard deviation. That is about 1/20 the first standard deviation I had obtained.  \n",
    "\n",
    "Lets look at a histogram. "
   ]
  },
  {
   "cell_type": "code",
   "execution_count": 96,
   "metadata": {},
   "outputs": [
    {
     "data": {
      "text/plain": [
       "count    1.913870e+05\n",
       "mean     6.163596e+04\n",
       "std      1.179657e+07\n",
       "min     -1.821377e+09\n",
       "25%      8.000000e+00\n",
       "50%      6.700000e+01\n",
       "75%      2.230000e+02\n",
       "max      1.948041e+09\n",
       "Name: entries, dtype: float64"
      ]
     },
     "execution_count": 96,
     "metadata": {},
     "output_type": "execute_result"
    }
   ],
   "source": [
    "test_diff.describe()"
   ]
  },
  {
   "cell_type": "code",
   "execution_count": 97,
   "metadata": {},
   "outputs": [
    {
     "data": {
      "text/plain": [
       "61635.96"
      ]
     },
     "execution_count": 97,
     "metadata": {},
     "output_type": "execute_result"
    }
   ],
   "source": [
    "6.163596e+04"
   ]
  },
  {
   "cell_type": "markdown",
   "metadata": {
    "collapsed": true
   },
   "source": [
    "An average value of 61,000 is still insane but at least in the realm of human experience. "
   ]
  },
  {
   "cell_type": "code",
   "execution_count": 100,
   "metadata": {},
   "outputs": [
    {
     "data": {
      "image/png": "[encoded data removed]",
      "text/plain": [
       "<matplotlib.figure.Figure at 0x11d2dcb00>"
      ]
     },
     "metadata": {},
     "output_type": "display_data"
    }
   ],
   "source": [
    "plt.hist(test_diff.dropna());"
   ]
  },
  {
   "cell_type": "markdown",
   "metadata": {},
   "source": [
    "But the histogram is still on a scale of billions. That is rediculous. What can we do? What about sorting by date and time? What that done? The date time sort would have to be done after the groupby operation for it to have effect, no? "
   ]
  },
  {
   "cell_type": "code",
   "execution_count": 127,
   "metadata": {},
   "outputs": [],
   "source": [
    "test_diff_sorted = test.sort_values(['date','time'], ascending=True).groupby(['station','linename','scp'])['entries'].diff()"
   ]
  },
  {
   "cell_type": "code",
   "execution_count": 128,
   "metadata": {},
   "outputs": [
    {
     "data": {
      "text/plain": [
       "195958"
      ]
     },
     "execution_count": 128,
     "metadata": {},
     "output_type": "execute_result"
    }
   ],
   "source": [
    "len(test_diff_sorted)"
   ]
  },
  {
   "cell_type": "code",
   "execution_count": 129,
   "metadata": {},
   "outputs": [
    {
     "data": {
      "text/plain": [
       "count    1.913870e+05\n",
       "mean     9.999670e+03\n",
       "std      1.058642e+08\n",
       "min     -1.948056e+09\n",
       "25%      6.000000e+00\n",
       "50%      6.600000e+01\n",
       "75%      2.330000e+02\n",
       "max      1.948057e+09\n",
       "Name: entries, dtype: float64"
      ]
     },
     "execution_count": 129,
     "metadata": {},
     "output_type": "execute_result"
    }
   ],
   "source": [
    "test_diff_sorted.describe()"
   ]
  },
  {
   "cell_type": "code",
   "execution_count": 130,
   "metadata": {},
   "outputs": [
    {
     "data": {
      "text/plain": [
       "9999.67"
      ]
     },
     "execution_count": 130,
     "metadata": {},
     "output_type": "execute_result"
    }
   ],
   "source": [
    "9.999670e+03"
   ]
  },
  {
   "cell_type": "code",
   "execution_count": 126,
   "metadata": {},
   "outputs": [
    {
     "data": {
      "text/html": [
       "<div>\n",
       "<style>\n",
       "    .dataframe thead tr:only-child th {\n",
       "        text-align: right;\n",
       "    }\n",
       "\n",
       "    .dataframe thead th {\n",
       "        text-align: left;\n",
       "    }\n",
       "\n",
       "    .dataframe tbody tr th {\n",
       "        vertical-align: top;\n",
       "    }\n",
       "</style>\n",
       "<table border=\"1\" class=\"dataframe\">\n",
       "  <thead>\n",
       "    <tr style=\"text-align: right;\">\n",
       "      <th></th>\n",
       "      <th>unnamed: 0</th>\n",
       "      <th>c/a</th>\n",
       "      <th>unit</th>\n",
       "      <th>scp</th>\n",
       "      <th>station</th>\n",
       "      <th>linename</th>\n",
       "      <th>division</th>\n",
       "      <th>date</th>\n",
       "      <th>time</th>\n",
       "      <th>desc</th>\n",
       "      <th>entries</th>\n",
       "      <th>exits</th>\n",
       "      <th>hourly</th>\n",
       "      <th>id</th>\n",
       "    </tr>\n",
       "  </thead>\n",
       "  <tbody>\n",
       "    <tr>\n",
       "      <th>0</th>\n",
       "      <td>0</td>\n",
       "      <td>A002</td>\n",
       "      <td>R051</td>\n",
       "      <td>02-00-00</td>\n",
       "      <td>59 ST</td>\n",
       "      <td>NQR456W</td>\n",
       "      <td>BMT</td>\n",
       "      <td>05/27/2017</td>\n",
       "      <td>00:00:00</td>\n",
       "      <td>REGULAR</td>\n",
       "      <td>6195217</td>\n",
       "      <td>2098317</td>\n",
       "      <td>5992912.0</td>\n",
       "      <td>59 STNQR456W02-00-00</td>\n",
       "    </tr>\n",
       "    <tr>\n",
       "      <th>1</th>\n",
       "      <td>1</td>\n",
       "      <td>A002</td>\n",
       "      <td>R051</td>\n",
       "      <td>02-00-00</td>\n",
       "      <td>59 ST</td>\n",
       "      <td>NQR456W</td>\n",
       "      <td>BMT</td>\n",
       "      <td>05/27/2017</td>\n",
       "      <td>04:00:00</td>\n",
       "      <td>REGULAR</td>\n",
       "      <td>6195240</td>\n",
       "      <td>2098318</td>\n",
       "      <td>23.0</td>\n",
       "      <td>59 STNQR456W02-00-00</td>\n",
       "    </tr>\n",
       "    <tr>\n",
       "      <th>2</th>\n",
       "      <td>2</td>\n",
       "      <td>A002</td>\n",
       "      <td>R051</td>\n",
       "      <td>02-00-00</td>\n",
       "      <td>59 ST</td>\n",
       "      <td>NQR456W</td>\n",
       "      <td>BMT</td>\n",
       "      <td>05/27/2017</td>\n",
       "      <td>08:00:00</td>\n",
       "      <td>REGULAR</td>\n",
       "      <td>6195256</td>\n",
       "      <td>2098347</td>\n",
       "      <td>16.0</td>\n",
       "      <td>59 STNQR456W02-00-00</td>\n",
       "    </tr>\n",
       "    <tr>\n",
       "      <th>3</th>\n",
       "      <td>3</td>\n",
       "      <td>A002</td>\n",
       "      <td>R051</td>\n",
       "      <td>02-00-00</td>\n",
       "      <td>59 ST</td>\n",
       "      <td>NQR456W</td>\n",
       "      <td>BMT</td>\n",
       "      <td>05/27/2017</td>\n",
       "      <td>12:00:00</td>\n",
       "      <td>REGULAR</td>\n",
       "      <td>6195346</td>\n",
       "      <td>2098432</td>\n",
       "      <td>90.0</td>\n",
       "      <td>59 STNQR456W02-00-00</td>\n",
       "    </tr>\n",
       "    <tr>\n",
       "      <th>4</th>\n",
       "      <td>4</td>\n",
       "      <td>A002</td>\n",
       "      <td>R051</td>\n",
       "      <td>02-00-00</td>\n",
       "      <td>59 ST</td>\n",
       "      <td>NQR456W</td>\n",
       "      <td>BMT</td>\n",
       "      <td>05/27/2017</td>\n",
       "      <td>16:00:00</td>\n",
       "      <td>REGULAR</td>\n",
       "      <td>6195518</td>\n",
       "      <td>2098491</td>\n",
       "      <td>172.0</td>\n",
       "      <td>59 STNQR456W02-00-00</td>\n",
       "    </tr>\n",
       "  </tbody>\n",
       "</table>\n",
       "</div>"
      ],
      "text/plain": [
       "   unnamed: 0   c/a  unit       scp station linename division        date  \\\n",
       "0           0  A002  R051  02-00-00   59 ST  NQR456W      BMT  05/27/2017   \n",
       "1           1  A002  R051  02-00-00   59 ST  NQR456W      BMT  05/27/2017   \n",
       "2           2  A002  R051  02-00-00   59 ST  NQR456W      BMT  05/27/2017   \n",
       "3           3  A002  R051  02-00-00   59 ST  NQR456W      BMT  05/27/2017   \n",
       "4           4  A002  R051  02-00-00   59 ST  NQR456W      BMT  05/27/2017   \n",
       "\n",
       "       time     desc  entries    exits     hourly                    id  \n",
       "0  00:00:00  REGULAR  6195217  2098317  5992912.0  59 STNQR456W02-00-00  \n",
       "1  04:00:00  REGULAR  6195240  2098318       23.0  59 STNQR456W02-00-00  \n",
       "2  08:00:00  REGULAR  6195256  2098347       16.0  59 STNQR456W02-00-00  \n",
       "3  12:00:00  REGULAR  6195346  2098432       90.0  59 STNQR456W02-00-00  \n",
       "4  16:00:00  REGULAR  6195518  2098491      172.0  59 STNQR456W02-00-00  "
      ]
     },
     "execution_count": 126,
     "metadata": {},
     "output_type": "execute_result"
    }
   ],
   "source": [
    "test.head()"
   ]
  },
  {
   "cell_type": "code",
   "execution_count": 136,
   "metadata": {},
   "outputs": [
    {
     "data": {
      "text/plain": [
       "(array([  1.23000000e+02,   4.10000000e+01,   4.20000000e+01,\n",
       "          4.20000000e+01,   4.10000000e+01,   4.20000000e+01,\n",
       "          0.00000000e+00,   4.10000000e+01,   4.10000000e+01,\n",
       "          8.30000000e+01,   0.00000000e+00,   4.20000000e+01,\n",
       "          1.67000000e+02,   8.40000000e+01,   1.65498000e+05,\n",
       "          2.43510000e+04,   8.40000000e+01,   1.24000000e+02,\n",
       "          4.30000000e+01,   0.00000000e+00,   8.30000000e+01,\n",
       "          4.20000000e+01,   4.20000000e+01,   0.00000000e+00,\n",
       "          4.10000000e+01,   0.00000000e+00,   4.10000000e+01,\n",
       "          4.30000000e+01,   8.40000000e+01,   1.22000000e+02]),\n",
       " array([ -1.94805603e+09,  -1.81818560e+09,  -1.68831517e+09,\n",
       "         -1.55844474e+09,  -1.42857431e+09,  -1.29870388e+09,\n",
       "         -1.16883345e+09,  -1.03896302e+09,  -9.09092587e+08,\n",
       "         -7.79222157e+08,  -6.49351727e+08,  -5.19481297e+08,\n",
       "         -3.89610867e+08,  -2.59740437e+08,  -1.29870007e+08,\n",
       "          4.23000000e+02,   1.29870853e+08,   2.59741283e+08,\n",
       "          3.89611713e+08,   5.19482143e+08,   6.49352573e+08,\n",
       "          7.79223003e+08,   9.09093433e+08,   1.03896386e+09,\n",
       "          1.16883429e+09,   1.29870472e+09,   1.42857515e+09,\n",
       "          1.55844558e+09,   1.68831601e+09,   1.81818644e+09,\n",
       "          1.94805687e+09]),\n",
       " <a list of 30 Patch objects>)"
      ]
     },
     "execution_count": 136,
     "metadata": {},
     "output_type": "execute_result"
    },
    {
     "data": {
      "image/png": "[encoded data removed]",
      "text/plain": [
       "<matplotlib.figure.Figure at 0x11fd85b38>"
      ]
     },
     "metadata": {},
     "output_type": "display_data"
    }
   ],
   "source": [
    "plt.hist(test_diff_sorted.dropna(), bins=30)"
   ]
  },
  {
   "cell_type": "code",
   "execution_count": 139,
   "metadata": {},
   "outputs": [
    {
     "data": {
      "text/plain": [
       "230"
      ]
     },
     "execution_count": 139,
     "metadata": {},
     "output_type": "execute_result"
    }
   ],
   "source": [
    "len(test.scp.unique())"
   ]
  },
  {
   "cell_type": "markdown",
   "metadata": {},
   "source": [
    "Since there are more units than there are scps maybe we should throw them into the grouping mix, too. "
   ]
  },
  {
   "cell_type": "code",
   "execution_count": 143,
   "metadata": {
    "collapsed": true
   },
   "outputs": [],
   "source": [
    "test_diff_sorted_units = test.sort_values(['date','time'], ascending=True).groupby(['station','linename','unit','scp'])['entries'].diff()"
   ]
  },
  {
   "cell_type": "code",
   "execution_count": 144,
   "metadata": {},
   "outputs": [
    {
     "data": {
      "text/plain": [
       "count    1.912700e+05\n",
       "mean     2.150756e+03\n",
       "std      5.708554e+05\n",
       "min     -4.470296e+06\n",
       "25%      8.000000e+00\n",
       "50%      6.700000e+01\n",
       "75%      2.230000e+02\n",
       "max      1.979471e+08\n",
       "Name: entries, dtype: float64"
      ]
     },
     "execution_count": 144,
     "metadata": {},
     "output_type": "execute_result"
    }
   ],
   "source": [
    "len(test_diff_sorted_units)\n",
    "test_diff_sorted_units.describe()"
   ]
  },
  {
   "cell_type": "code",
   "execution_count": 145,
   "metadata": {},
   "outputs": [
    {
     "data": {
      "text/plain": [
       "2150.756"
      ]
     },
     "execution_count": 145,
     "metadata": {},
     "output_type": "execute_result"
    }
   ],
   "source": [
    "2.150756e+03"
   ]
  },
  {
   "cell_type": "code",
   "execution_count": 154,
   "metadata": {},
   "outputs": [
    {
     "data": {
      "text/plain": [
       "False    191270\n",
       "True       4688\n",
       "Name: entries, dtype: int64"
      ]
     },
     "execution_count": 154,
     "metadata": {},
     "output_type": "execute_result"
    }
   ],
   "source": [
    "test_diff_sorted_units.isnull().value_counts()"
   ]
  },
  {
   "cell_type": "markdown",
   "metadata": {},
   "source": [
    "So this is the best the data set has ever been but I am still not sure that it is meaningful. What is this thing doing? "
   ]
  },
  {
   "cell_type": "code",
   "execution_count": 157,
   "metadata": {},
   "outputs": [
    {
     "data": {
      "image/png": "[encoded data removed]",
      "text/plain": [
       "<matplotlib.figure.Figure at 0x1239d65f8>"
      ]
     },
     "metadata": {},
     "output_type": "display_data"
    }
   ],
   "source": [
    "plt.hist(test_diff_sorted_units.dropna());"
   ]
  },
  {
   "cell_type": "markdown",
   "metadata": {},
   "source": [
    "I have to find a way to get rid of the reset caused problems. I want to go through and assign the value of missing (nan) to any data point where the value is zero and the value preceeding it is greater than 10,000.  \n",
    "\n",
    "Also, I want to compare the effects of sorting with units before scps or scps before units or leaving one or the other out.  \n",
    "\n",
    "Finally, I want to think about my assumption that large values or large standard deviations are an infallible indicator of bad data.  "
   ]
  },
  {
   "cell_type": "code",
   "execution_count": 162,
   "metadata": {},
   "outputs": [
    {
     "ename": "TypeError",
     "evalue": "unsupported operand type(s) for -: 'str' and 'str'",
     "output_type": "error",
     "traceback": [
      "\u001b[0;31m---------------------------------------------------------------------------\u001b[0m",
      "\u001b[0;31mTypeError\u001b[0m                                 Traceback (most recent call last)",
      "\u001b[0;32m<ipython-input-162-d32c6d24d25c>\u001b[0m in \u001b[0;36m<module>\u001b[0;34m()\u001b[0m\n\u001b[0;32m----> 1\u001b[0;31m \u001b[0mtesting\u001b[0m \u001b[0;34m=\u001b[0m \u001b[0mtest\u001b[0m\u001b[0;34m.\u001b[0m\u001b[0mgroupby\u001b[0m\u001b[0;34m(\u001b[0m\u001b[0;34m[\u001b[0m\u001b[0;34m'station'\u001b[0m\u001b[0;34m,\u001b[0m\u001b[0;34m'linename'\u001b[0m\u001b[0;34m,\u001b[0m\u001b[0;34m'scp'\u001b[0m\u001b[0;34m,\u001b[0m\u001b[0;34m'unit'\u001b[0m\u001b[0;34m]\u001b[0m\u001b[0;34m)\u001b[0m\u001b[0;34m.\u001b[0m\u001b[0mapply\u001b[0m\u001b[0;34m(\u001b[0m\u001b[0;32mlambda\u001b[0m \u001b[0mx\u001b[0m\u001b[0;34m:\u001b[0m                                                              \u001b[0mx\u001b[0m\u001b[0;34m.\u001b[0m\u001b[0msort_values\u001b[0m\u001b[0;34m(\u001b[0m\u001b[0;34m[\u001b[0m\u001b[0;34m'date'\u001b[0m\u001b[0;34m,\u001b[0m\u001b[0;34m'time'\u001b[0m\u001b[0;34m]\u001b[0m\u001b[0;34m)\u001b[0m\u001b[0;34m)\u001b[0m\u001b[0;34m.\u001b[0m\u001b[0mdiff\u001b[0m\u001b[0;34m(\u001b[0m\u001b[0;34m)\u001b[0m\u001b[0;34m\u001b[0m\u001b[0m\n\u001b[0m",
      "\u001b[0;32m~/anaconda/lib/python3.6/site-packages/pandas/core/frame.py\u001b[0m in \u001b[0;36mdiff\u001b[0;34m(self, periods, axis)\u001b[0m\n\u001b[1;32m   4079\u001b[0m         \"\"\"\n\u001b[1;32m   4080\u001b[0m         \u001b[0mbm_axis\u001b[0m \u001b[0;34m=\u001b[0m \u001b[0mself\u001b[0m\u001b[0;34m.\u001b[0m\u001b[0m_get_block_manager_axis\u001b[0m\u001b[0;34m(\u001b[0m\u001b[0maxis\u001b[0m\u001b[0;34m)\u001b[0m\u001b[0;34m\u001b[0m\u001b[0m\n\u001b[0;32m-> 4081\u001b[0;31m         \u001b[0mnew_data\u001b[0m \u001b[0;34m=\u001b[0m \u001b[0mself\u001b[0m\u001b[0;34m.\u001b[0m\u001b[0m_data\u001b[0m\u001b[0;34m.\u001b[0m\u001b[0mdiff\u001b[0m\u001b[0;34m(\u001b[0m\u001b[0mn\u001b[0m\u001b[0;34m=\u001b[0m\u001b[0mperiods\u001b[0m\u001b[0;34m,\u001b[0m \u001b[0maxis\u001b[0m\u001b[0;34m=\u001b[0m\u001b[0mbm_axis\u001b[0m\u001b[0;34m)\u001b[0m\u001b[0;34m\u001b[0m\u001b[0m\n\u001b[0m\u001b[1;32m   4082\u001b[0m         \u001b[0;32mreturn\u001b[0m \u001b[0mself\u001b[0m\u001b[0;34m.\u001b[0m\u001b[0m_constructor\u001b[0m\u001b[0;34m(\u001b[0m\u001b[0mnew_data\u001b[0m\u001b[0;34m)\u001b[0m\u001b[0;34m\u001b[0m\u001b[0m\n\u001b[1;32m   4083\u001b[0m \u001b[0;34m\u001b[0m\u001b[0m\n",
      "\u001b[0;32m~/anaconda/lib/python3.6/site-packages/pandas/core/internals.py\u001b[0m in \u001b[0;36mdiff\u001b[0;34m(self, **kwargs)\u001b[0m\n\u001b[1;32m   3207\u001b[0m \u001b[0;34m\u001b[0m\u001b[0m\n\u001b[1;32m   3208\u001b[0m     \u001b[0;32mdef\u001b[0m \u001b[0mdiff\u001b[0m\u001b[0;34m(\u001b[0m\u001b[0mself\u001b[0m\u001b[0;34m,\u001b[0m \u001b[0;34m**\u001b[0m\u001b[0mkwargs\u001b[0m\u001b[0;34m)\u001b[0m\u001b[0;34m:\u001b[0m\u001b[0;34m\u001b[0m\u001b[0m\n\u001b[0;32m-> 3209\u001b[0;31m         \u001b[0;32mreturn\u001b[0m \u001b[0mself\u001b[0m\u001b[0;34m.\u001b[0m\u001b[0mapply\u001b[0m\u001b[0;34m(\u001b[0m\u001b[0;34m'diff'\u001b[0m\u001b[0;34m,\u001b[0m \u001b[0;34m**\u001b[0m\u001b[0mkwargs\u001b[0m\u001b[0;34m)\u001b[0m\u001b[0;34m\u001b[0m\u001b[0m\n\u001b[0m\u001b[1;32m   3210\u001b[0m \u001b[0;34m\u001b[0m\u001b[0m\n\u001b[1;32m   3211\u001b[0m     \u001b[0;32mdef\u001b[0m \u001b[0minterpolate\u001b[0m\u001b[0;34m(\u001b[0m\u001b[0mself\u001b[0m\u001b[0;34m,\u001b[0m \u001b[0;34m**\u001b[0m\u001b[0mkwargs\u001b[0m\u001b[0;34m)\u001b[0m\u001b[0;34m:\u001b[0m\u001b[0;34m\u001b[0m\u001b[0m\n",
      "\u001b[0;32m~/anaconda/lib/python3.6/site-packages/pandas/core/internals.py\u001b[0m in \u001b[0;36mapply\u001b[0;34m(self, f, axes, filter, do_integrity_check, consolidate, **kwargs)\u001b[0m\n\u001b[1;32m   3089\u001b[0m \u001b[0;34m\u001b[0m\u001b[0m\n\u001b[1;32m   3090\u001b[0m             \u001b[0mkwargs\u001b[0m\u001b[0;34m[\u001b[0m\u001b[0;34m'mgr'\u001b[0m\u001b[0;34m]\u001b[0m \u001b[0;34m=\u001b[0m \u001b[0mself\u001b[0m\u001b[0;34m\u001b[0m\u001b[0m\n\u001b[0;32m-> 3091\u001b[0;31m             \u001b[0mapplied\u001b[0m \u001b[0;34m=\u001b[0m \u001b[0mgetattr\u001b[0m\u001b[0;34m(\u001b[0m\u001b[0mb\u001b[0m\u001b[0;34m,\u001b[0m \u001b[0mf\u001b[0m\u001b[0;34m)\u001b[0m\u001b[0;34m(\u001b[0m\u001b[0;34m**\u001b[0m\u001b[0mkwargs\u001b[0m\u001b[0;34m)\u001b[0m\u001b[0;34m\u001b[0m\u001b[0m\n\u001b[0m\u001b[1;32m   3092\u001b[0m             \u001b[0mresult_blocks\u001b[0m \u001b[0;34m=\u001b[0m \u001b[0m_extend_blocks\u001b[0m\u001b[0;34m(\u001b[0m\u001b[0mapplied\u001b[0m\u001b[0;34m,\u001b[0m \u001b[0mresult_blocks\u001b[0m\u001b[0;34m)\u001b[0m\u001b[0;34m\u001b[0m\u001b[0m\n\u001b[1;32m   3093\u001b[0m \u001b[0;34m\u001b[0m\u001b[0m\n",
      "\u001b[0;32m~/anaconda/lib/python3.6/site-packages/pandas/core/internals.py\u001b[0m in \u001b[0;36mdiff\u001b[0;34m(self, n, axis, mgr)\u001b[0m\n\u001b[1;32m   1063\u001b[0m     \u001b[0;32mdef\u001b[0m \u001b[0mdiff\u001b[0m\u001b[0;34m(\u001b[0m\u001b[0mself\u001b[0m\u001b[0;34m,\u001b[0m \u001b[0mn\u001b[0m\u001b[0;34m,\u001b[0m \u001b[0maxis\u001b[0m\u001b[0;34m=\u001b[0m\u001b[0;36m1\u001b[0m\u001b[0;34m,\u001b[0m \u001b[0mmgr\u001b[0m\u001b[0;34m=\u001b[0m\u001b[0;32mNone\u001b[0m\u001b[0;34m)\u001b[0m\u001b[0;34m:\u001b[0m\u001b[0;34m\u001b[0m\u001b[0m\n\u001b[1;32m   1064\u001b[0m         \u001b[0;34m\"\"\" return block for the diff of the values \"\"\"\u001b[0m\u001b[0;34m\u001b[0m\u001b[0m\n\u001b[0;32m-> 1065\u001b[0;31m         \u001b[0mnew_values\u001b[0m \u001b[0;34m=\u001b[0m \u001b[0malgos\u001b[0m\u001b[0;34m.\u001b[0m\u001b[0mdiff\u001b[0m\u001b[0;34m(\u001b[0m\u001b[0mself\u001b[0m\u001b[0;34m.\u001b[0m\u001b[0mvalues\u001b[0m\u001b[0;34m,\u001b[0m \u001b[0mn\u001b[0m\u001b[0;34m,\u001b[0m \u001b[0maxis\u001b[0m\u001b[0;34m=\u001b[0m\u001b[0maxis\u001b[0m\u001b[0;34m)\u001b[0m\u001b[0;34m\u001b[0m\u001b[0m\n\u001b[0m\u001b[1;32m   1066\u001b[0m         \u001b[0;32mreturn\u001b[0m \u001b[0;34m[\u001b[0m\u001b[0mself\u001b[0m\u001b[0;34m.\u001b[0m\u001b[0mmake_block\u001b[0m\u001b[0;34m(\u001b[0m\u001b[0mvalues\u001b[0m\u001b[0;34m=\u001b[0m\u001b[0mnew_values\u001b[0m\u001b[0;34m,\u001b[0m \u001b[0mfastpath\u001b[0m\u001b[0;34m=\u001b[0m\u001b[0;32mTrue\u001b[0m\u001b[0;34m)\u001b[0m\u001b[0;34m]\u001b[0m\u001b[0;34m\u001b[0m\u001b[0m\n\u001b[1;32m   1067\u001b[0m \u001b[0;34m\u001b[0m\u001b[0m\n",
      "\u001b[0;32m~/anaconda/lib/python3.6/site-packages/pandas/core/algorithms.py\u001b[0m in \u001b[0;36mdiff\u001b[0;34m(arr, n, axis)\u001b[0m\n\u001b[1;32m   1633\u001b[0m             \u001b[0mout_arr\u001b[0m\u001b[0;34m[\u001b[0m\u001b[0mres_indexer\u001b[0m\u001b[0;34m]\u001b[0m \u001b[0;34m=\u001b[0m \u001b[0mresult\u001b[0m\u001b[0;34m\u001b[0m\u001b[0m\n\u001b[1;32m   1634\u001b[0m         \u001b[0;32melse\u001b[0m\u001b[0;34m:\u001b[0m\u001b[0;34m\u001b[0m\u001b[0m\n\u001b[0;32m-> 1635\u001b[0;31m             \u001b[0mout_arr\u001b[0m\u001b[0;34m[\u001b[0m\u001b[0mres_indexer\u001b[0m\u001b[0;34m]\u001b[0m \u001b[0;34m=\u001b[0m \u001b[0marr\u001b[0m\u001b[0;34m[\u001b[0m\u001b[0mres_indexer\u001b[0m\u001b[0;34m]\u001b[0m \u001b[0;34m-\u001b[0m \u001b[0marr\u001b[0m\u001b[0;34m[\u001b[0m\u001b[0mlag_indexer\u001b[0m\u001b[0;34m]\u001b[0m\u001b[0;34m\u001b[0m\u001b[0m\n\u001b[0m\u001b[1;32m   1636\u001b[0m \u001b[0;34m\u001b[0m\u001b[0m\n\u001b[1;32m   1637\u001b[0m     \u001b[0;32mif\u001b[0m \u001b[0mis_timedelta\u001b[0m\u001b[0;34m:\u001b[0m\u001b[0;34m\u001b[0m\u001b[0m\n",
      "\u001b[0;31mTypeError\u001b[0m: unsupported operand type(s) for -: 'str' and 'str'"
     ]
    }
   ],
   "source": [
    "testing = test.groupby(['station','linename','scp','unit']).apply(lambda x: \\\n",
    "                                                             x.sort_values(['date','time'])).diff()"
   ]
  },
  {
   "cell_type": "code",
   "execution_count": null,
   "metadata": {
    "collapsed": true
   },
   "outputs": [],
   "source": []
  },
  {
   "cell_type": "code",
   "execution_count": null,
   "metadata": {
    "collapsed": true
   },
   "outputs": [],
   "source": []
  },
  {
   "cell_type": "code",
   "execution_count": null,
   "metadata": {
    "collapsed": true
   },
   "outputs": [],
   "source": []
  },
  {
   "cell_type": "code",
   "execution_count": null,
   "metadata": {
    "collapsed": true
   },
   "outputs": [],
   "source": []
  },
  {
   "cell_type": "code",
   "execution_count": null,
   "metadata": {
    "collapsed": true
   },
   "outputs": [],
   "source": []
  },
  {
   "cell_type": "code",
   "execution_count": null,
   "metadata": {
    "collapsed": true
   },
   "outputs": [],
   "source": []
  },
  {
   "cell_type": "code",
   "execution_count": null,
   "metadata": {
    "collapsed": true
   },
   "outputs": [],
   "source": []
  },
  {
   "cell_type": "code",
   "execution_count": null,
   "metadata": {
    "collapsed": true
   },
   "outputs": [],
   "source": []
  }
 ],
 "metadata": {
  "anaconda-cloud": {},
  "kernelspec": {
   "display_name": "Python [conda root]",
   "language": "python",
   "name": "conda-root-py"
  },
  "language_info": {
   "codemirror_mode": {
    "name": "ipython",
    "version": 3
   },
   "file_extension": ".py",
   "mimetype": "text/x-python",
   "name": "python",
   "nbconvert_exporter": "python",
   "pygments_lexer": "ipython3",
   "version": "3.6.2"
  }
 },
 "nbformat": 4,
 "nbformat_minor": 1
}
